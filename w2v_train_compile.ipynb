{
 "metadata": {
  "language_info": {
   "codemirror_mode": {
    "name": "ipython",
    "version": 3
   },
   "file_extension": ".py",
   "mimetype": "text/x-python",
   "name": "python",
   "nbconvert_exporter": "python",
   "pygments_lexer": "ipython3",
   "version": 3
  },
  "orig_nbformat": 2,
  "kernelspec": {
   "name": "python_defaultSpec_1595445237229",
   "display_name": "Python 3.7.6 64-bit ('Tensorflow': virtualenv)"
  }
 },
 "nbformat": 4,
 "nbformat_minor": 2,
 "cells": [
  {
   "cell_type": "code",
   "execution_count": 16,
   "metadata": {
    "tags": []
   },
   "outputs": [
    {
     "output_type": "execute_result",
     "data": {
      "text/plain": "                memberUrn                     posTitle\n0  urn:li:member:10013136          Portfolio Executive\n1  urn:li:member:10013136  Solution Delivery Executive\n2  urn:li:member:10013136              Project Manager",
      "text/html": "<div>\n<style scoped>\n    .dataframe tbody tr th:only-of-type {\n        vertical-align: middle;\n    }\n\n    .dataframe tbody tr th {\n        vertical-align: top;\n    }\n\n    .dataframe thead th {\n        text-align: right;\n    }\n</style>\n<table border=\"1\" class=\"dataframe\">\n  <thead>\n    <tr style=\"text-align: right;\">\n      <th></th>\n      <th>memberUrn</th>\n      <th>posTitle</th>\n    </tr>\n  </thead>\n  <tbody>\n    <tr>\n      <th>0</th>\n      <td>urn:li:member:10013136</td>\n      <td>Portfolio Executive</td>\n    </tr>\n    <tr>\n      <th>1</th>\n      <td>urn:li:member:10013136</td>\n      <td>Solution Delivery Executive</td>\n    </tr>\n    <tr>\n      <th>2</th>\n      <td>urn:li:member:10013136</td>\n      <td>Project Manager</td>\n    </tr>\n  </tbody>\n</table>\n</div>"
     },
     "metadata": {},
     "execution_count": 16
    }
   ],
   "source": [
    "# Libraries used to train models & manipulate data\n",
    "import numpy as np\n",
    "import pandas as pd\n",
    "\n",
    "### Kaggle import: https://github.com/Kaggle/kaggle-api\n",
    "# kaggle datasets download -f dump.csv --unzip killbot/linkedin-profiles-and-jobs-data\n",
    "members = pd.read_csv(r'./dump.csv')\n",
    "# pos_vecs = pd.read_csv(r'./tfidf_positions.csv', header=None) # NN input data\n",
    "# Filter for useful entries \n",
    "members = members.filter(items=['memberUrn', 'posTitle'])\n",
    "members.head(3)"
   ]
  },
  {
   "cell_type": "code",
   "execution_count": 17,
   "metadata": {
    "tags": []
   },
   "outputs": [
    {
     "output_type": "stream",
     "name": "stdout",
     "text": "(39537, 2)\n"
    },
    {
     "output_type": "execute_result",
     "data": {
      "text/plain": "   memberUrn                     posTitle\n0   10013136          Portfolio Executive\n1   10013136  Solution Delivery Executive\n2   10013136              Project Manager",
      "text/html": "<div>\n<style scoped>\n    .dataframe tbody tr th:only-of-type {\n        vertical-align: middle;\n    }\n\n    .dataframe tbody tr th {\n        vertical-align: top;\n    }\n\n    .dataframe thead th {\n        text-align: right;\n    }\n</style>\n<table border=\"1\" class=\"dataframe\">\n  <thead>\n    <tr style=\"text-align: right;\">\n      <th></th>\n      <th>memberUrn</th>\n      <th>posTitle</th>\n    </tr>\n  </thead>\n  <tbody>\n    <tr>\n      <th>0</th>\n      <td>10013136</td>\n      <td>Portfolio Executive</td>\n    </tr>\n    <tr>\n      <th>1</th>\n      <td>10013136</td>\n      <td>Solution Delivery Executive</td>\n    </tr>\n    <tr>\n      <th>2</th>\n      <td>10013136</td>\n      <td>Project Manager</td>\n    </tr>\n  </tbody>\n</table>\n</div>"
     },
     "metadata": {},
     "execution_count": 17
    }
   ],
   "source": [
    "# Simplify the member id\n",
    "members['memberUrn'] = members['memberUrn'].apply(lambda x: int(x.split(':')[-1]))\n",
    "\n",
    "print(members.shape)\n",
    "members.head(3)"
   ]
  },
  {
   "cell_type": "code",
   "execution_count": 18,
   "metadata": {
    "tags": []
   },
   "outputs": [
    {
     "output_type": "stream",
     "name": "stdout",
     "text": "(23907, 2)\n"
    },
    {
     "output_type": "execute_result",
     "data": {
      "text/plain": "                               posTitle    memberUrn\n0                  Badminton Head Coach  [121664157]\n1                        CRO specialist  [110248053]\n2   Consultant for Hays Office Support   [487101656]",
      "text/html": "<div>\n<style scoped>\n    .dataframe tbody tr th:only-of-type {\n        vertical-align: middle;\n    }\n\n    .dataframe tbody tr th {\n        vertical-align: top;\n    }\n\n    .dataframe thead th {\n        text-align: right;\n    }\n</style>\n<table border=\"1\" class=\"dataframe\">\n  <thead>\n    <tr style=\"text-align: right;\">\n      <th></th>\n      <th>posTitle</th>\n      <th>memberUrn</th>\n    </tr>\n  </thead>\n  <tbody>\n    <tr>\n      <th>0</th>\n      <td>Badminton Head Coach</td>\n      <td>[121664157]</td>\n    </tr>\n    <tr>\n      <th>1</th>\n      <td>CRO specialist</td>\n      <td>[110248053]</td>\n    </tr>\n    <tr>\n      <th>2</th>\n      <td>Consultant for Hays Office Support</td>\n      <td>[487101656]</td>\n    </tr>\n  </tbody>\n</table>\n</div>"
     },
     "metadata": {},
     "execution_count": 18
    }
   ],
   "source": [
    "# Group members by position\n",
    "members_grouped = members.groupby('posTitle')['memberUrn'].apply(list) # 2817 jobs w/ more than 1 member\n",
    "# Series -> DataFrame & Reset indices\n",
    "members_grouped = members_grouped.to_frame()\n",
    "members_grouped = members_grouped.reset_index()\n",
    "\n",
    "print(members_grouped.shape)\n",
    "members_grouped.head(3)"
   ]
  },
  {
   "cell_type": "code",
   "execution_count": 19,
   "metadata": {
    "tags": []
   },
   "outputs": [
    {
     "output_type": "stream",
     "name": "stdout",
     "text": "(23907, 2)\n"
    },
    {
     "output_type": "execute_result",
     "data": {
      "text/plain": "                               posTitle  \\\n0                  Badminton Head Coach   \n1                        CRO specialist   \n2   Consultant for Hays Office Support    \n\n                                           memberUrn  \n0  [0, 0, 0, 0, 0, 0, 0, 0, 0, 0, 0, 0, 0, 0, 0, ...  \n1  [0, 0, 0, 0, 0, 0, 0, 0, 0, 0, 0, 0, 0, 0, 0, ...  \n2  [0, 0, 0, 0, 0, 0, 0, 0, 0, 0, 0, 0, 0, 0, 0, ...  ",
      "text/html": "<div>\n<style scoped>\n    .dataframe tbody tr th:only-of-type {\n        vertical-align: middle;\n    }\n\n    .dataframe tbody tr th {\n        vertical-align: top;\n    }\n\n    .dataframe thead th {\n        text-align: right;\n    }\n</style>\n<table border=\"1\" class=\"dataframe\">\n  <thead>\n    <tr style=\"text-align: right;\">\n      <th></th>\n      <th>posTitle</th>\n      <th>memberUrn</th>\n    </tr>\n  </thead>\n  <tbody>\n    <tr>\n      <th>0</th>\n      <td>Badminton Head Coach</td>\n      <td>[0, 0, 0, 0, 0, 0, 0, 0, 0, 0, 0, 0, 0, 0, 0, ...</td>\n    </tr>\n    <tr>\n      <th>1</th>\n      <td>CRO specialist</td>\n      <td>[0, 0, 0, 0, 0, 0, 0, 0, 0, 0, 0, 0, 0, 0, 0, ...</td>\n    </tr>\n    <tr>\n      <th>2</th>\n      <td>Consultant for Hays Office Support</td>\n      <td>[0, 0, 0, 0, 0, 0, 0, 0, 0, 0, 0, 0, 0, 0, 0, ...</td>\n    </tr>\n  </tbody>\n</table>\n</div>"
     },
     "metadata": {},
     "execution_count": 19
    }
   ],
   "source": [
    "#! HORRIBLE MEMORY\n",
    "ids = members['memberUrn'].unique().tolist()\n",
    "\n",
    "def multiEncodeMembers(urnList):\n",
    "    l = [0]*len(ids)\n",
    "\n",
    "    for urn in urnList:\n",
    "        if urn:\n",
    "            index = ids.index(urn)\n",
    "            l[index] = 1\n",
    "    return l\n",
    "\n",
    "# Multi=encode the members\n",
    "members_grouped['memberUrn'] = members_grouped['memberUrn'].apply(multiEncodeMembers)\n",
    "members_grouped['posTitle'] = members_grouped['posTitle'].drop_duplicates()\n",
    "\n",
    "print(members_grouped.shape)\n",
    "members_grouped.head(3)"
   ]
  },
  {
   "cell_type": "code",
   "execution_count": 20,
   "metadata": {
    "tags": []
   },
   "outputs": [
    {
     "output_type": "stream",
     "name": "stdout",
     "text": "6853\n23907\n(23907, 3)\n"
    },
    {
     "output_type": "execute_result",
     "data": {
      "text/plain": "                                          posTitle  \\\n0                             Badminton Head Coach   \n1                                   CRO specialist   \n2              Consultant for Hays Office Support    \n3   Content Manager | Writer | Editor | Strategist   \n4     Executive Manager, Change &, Communications    \n\n                                           memberUrn  posEncoded  \n0  [0, 0, 0, 0, 0, 0, 0, 0, 0, 0, 0, 0, 0, 0, 0, ...        3035  \n1  [0, 0, 0, 0, 0, 0, 0, 0, 0, 0, 0, 0, 0, 0, 0, ...        1583  \n2  [0, 0, 0, 0, 0, 0, 0, 0, 0, 0, 0, 0, 0, 0, 0, ...       20355  \n3  [0, 0, 0, 0, 0, 0, 0, 0, 0, 0, 0, 0, 0, 0, 0, ...        3737  \n4  [0, 0, 0, 0, 0, 0, 0, 0, 0, 0, 0, 0, 0, 0, 0, ...        9824  ",
      "text/html": "<div>\n<style scoped>\n    .dataframe tbody tr th:only-of-type {\n        vertical-align: middle;\n    }\n\n    .dataframe tbody tr th {\n        vertical-align: top;\n    }\n\n    .dataframe thead th {\n        text-align: right;\n    }\n</style>\n<table border=\"1\" class=\"dataframe\">\n  <thead>\n    <tr style=\"text-align: right;\">\n      <th></th>\n      <th>posTitle</th>\n      <th>memberUrn</th>\n      <th>posEncoded</th>\n    </tr>\n  </thead>\n  <tbody>\n    <tr>\n      <th>0</th>\n      <td>Badminton Head Coach</td>\n      <td>[0, 0, 0, 0, 0, 0, 0, 0, 0, 0, 0, 0, 0, 0, 0, ...</td>\n      <td>3035</td>\n    </tr>\n    <tr>\n      <th>1</th>\n      <td>CRO specialist</td>\n      <td>[0, 0, 0, 0, 0, 0, 0, 0, 0, 0, 0, 0, 0, 0, 0, ...</td>\n      <td>1583</td>\n    </tr>\n    <tr>\n      <th>2</th>\n      <td>Consultant for Hays Office Support</td>\n      <td>[0, 0, 0, 0, 0, 0, 0, 0, 0, 0, 0, 0, 0, 0, 0, ...</td>\n      <td>20355</td>\n    </tr>\n    <tr>\n      <th>3</th>\n      <td>Content Manager | Writer | Editor | Strategist</td>\n      <td>[0, 0, 0, 0, 0, 0, 0, 0, 0, 0, 0, 0, 0, 0, 0, ...</td>\n      <td>3737</td>\n    </tr>\n    <tr>\n      <th>4</th>\n      <td>Executive Manager, Change &amp;, Communications</td>\n      <td>[0, 0, 0, 0, 0, 0, 0, 0, 0, 0, 0, 0, 0, 0, 0, ...</td>\n      <td>9824</td>\n    </tr>\n  </tbody>\n</table>\n</div>"
     },
     "metadata": {},
     "execution_count": 20
    }
   ],
   "source": [
    "#! HORRIBLE MEMORY\n",
    "pos_names = members['posTitle'].unique().tolist()\n",
    "\n",
    "# Multi=encode the members\n",
    "pos_encoded = members_grouped['posTitle'].apply(lambda x: pos_names.index(x)).to_frame()\n",
    "pos_encoded = pos_encoded.rename(columns={'posTitle': 'posEncoded'})\n",
    "# Group data together\n",
    "train = pd.concat([members_grouped, pos_encoded], axis=1)\n",
    "train = train.dropna()\n",
    "\n",
    "train.to_pickle('w2v_train.pkl')\n",
    "\n",
    "print(len(ids))\n",
    "print(len(pos_names))\n",
    "print(train.shape)\n",
    "train.head(5)"
   ]
  },
  {
   "cell_type": "code",
   "execution_count": null,
   "metadata": {},
   "outputs": [],
   "source": []
  }
 ]
}