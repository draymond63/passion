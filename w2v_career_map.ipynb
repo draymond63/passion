{
 "metadata": {
  "language_info": {
   "codemirror_mode": {
    "name": "ipython",
    "version": 3
   },
   "file_extension": ".py",
   "mimetype": "text/x-python",
   "name": "python",
   "nbconvert_exporter": "python",
   "pygments_lexer": "ipython3",
   "version": 3
  },
  "orig_nbformat": 2,
  "kernelspec": {
   "name": "python_defaultSpec_1595445237220",
   "display_name": "Python 3.7.6 64-bit ('Tensorflow': virtualenv)"
  }
 },
 "nbformat": 4,
 "nbformat_minor": 2,
 "cells": [
  {
   "cell_type": "code",
   "execution_count": 9,
   "metadata": {},
   "outputs": [
    {
     "output_type": "execute_result",
     "data": {
      "text/plain": "                               posTitle  \\\n0                  Badminton Head Coach   \n1                        CRO specialist   \n2   Consultant for Hays Office Support    \n\n                                           memberUrn  posEncoded  \n0  [0, 0, 0, 0, 0, 0, 0, 0, 0, 0, 0, 0, 0, 0, 0, ...        3035  \n1  [0, 0, 0, 0, 0, 0, 0, 0, 0, 0, 0, 0, 0, 0, 0, ...        1583  \n2  [0, 0, 0, 0, 0, 0, 0, 0, 0, 0, 0, 0, 0, 0, 0, ...       20355  ",
      "text/html": "<div>\n<style scoped>\n    .dataframe tbody tr th:only-of-type {\n        vertical-align: middle;\n    }\n\n    .dataframe tbody tr th {\n        vertical-align: top;\n    }\n\n    .dataframe thead th {\n        text-align: right;\n    }\n</style>\n<table border=\"1\" class=\"dataframe\">\n  <thead>\n    <tr style=\"text-align: right;\">\n      <th></th>\n      <th>posTitle</th>\n      <th>memberUrn</th>\n      <th>posEncoded</th>\n    </tr>\n  </thead>\n  <tbody>\n    <tr>\n      <th>0</th>\n      <td>Badminton Head Coach</td>\n      <td>[0, 0, 0, 0, 0, 0, 0, 0, 0, 0, 0, 0, 0, 0, 0, ...</td>\n      <td>3035</td>\n    </tr>\n    <tr>\n      <th>1</th>\n      <td>CRO specialist</td>\n      <td>[0, 0, 0, 0, 0, 0, 0, 0, 0, 0, 0, 0, 0, 0, 0, ...</td>\n      <td>1583</td>\n    </tr>\n    <tr>\n      <th>2</th>\n      <td>Consultant for Hays Office Support</td>\n      <td>[0, 0, 0, 0, 0, 0, 0, 0, 0, 0, 0, 0, 0, 0, 0, ...</td>\n      <td>20355</td>\n    </tr>\n  </tbody>\n</table>\n</div>"
     },
     "metadata": {},
     "execution_count": 9
    }
   ],
   "source": [
    "import pandas as pd\n",
    "import numpy as np\n",
    "import tensorflow as tf\n",
    "from tensorflow import keras\n",
    "\n",
    "# Pickling works, maybe use a json? https://datatofish.com/export-pandas-dataframe-json/\n",
    "train = pd.read_pickle('w2v_train.pkl')\n",
    "train.head(3)"
   ]
  },
  {
   "cell_type": "code",
   "execution_count": 12,
   "metadata": {
    "tags": []
   },
   "outputs": [
    {
     "output_type": "stream",
     "name": "stdout",
     "text": "Model: \"sequential_3\"\n_________________________________________________________________\nLayer (type)                 Output Shape              Param #   \n=================================================================\ndense_6 (Dense)              (None, 200)               1370800   \n_________________________________________________________________\ndense_7 (Dense)              (None, 23907)             4805307   \n=================================================================\nTotal params: 6,176,107\nTrainable params: 6,176,107\nNon-trainable params: 0\n_________________________________________________________________\n"
    }
   ],
   "source": [
    "w2v_inner_dim = 200\n",
    "# Simple 2 layer model to create the word2vec matrix\n",
    "# Predicting word (job) based off context (members who had that job) currently\n",
    "# people --> job\n",
    "model = keras.models.Sequential([\n",
    "    keras.layers.Dense(w2v_inner_dim, input_dim=len(train['memberUrn'][0])),\n",
    "    keras.layers.Dense(train.shape[0], activation='softmax')\n",
    "])\n",
    "\n",
    "# Hyper parameters\n",
    "model.compile(\n",
    "    optimizer='adam',\n",
    "    loss='sparse_categorical_crossentropy',\n",
    "    metrics=['accuracy']\n",
    ")\n",
    "\n",
    "model.summary()"
   ]
  },
  {
   "cell_type": "code",
   "execution_count": null,
   "metadata": {},
   "outputs": [],
   "source": [
    "model.fit(\n",
    "    np.array(train['memberUrn'].tolist(), dtype=np.float32),\n",
    "    np.array(train['posEncoded'].tolist(), dtype=np.float32),\n",
    "    epochs=5\n",
    ")"
   ]
  },
  {
   "cell_type": "code",
   "execution_count": null,
   "metadata": {},
   "outputs": [],
   "source": [
    "# get_weights returns weights & biases -> we want the 2nd matrix of weights (w2v_inner_dim by # of jobs)\n",
    "w2v_matrix = model.get_weights()[2]\n",
    "\n",
    "from sklearn.manifold import TSNE\n",
    "\n",
    "# Collapse matrix into Nx2\n",
    "tsne = TSNE(n_components=2, random_state=0, verbose=2)\n",
    "w2v_visual = tsne.fit_transform(w2v_matrix)"
   ]
  },
  {
   "cell_type": "code",
   "execution_count": null,
   "metadata": {},
   "outputs": [],
   "source": [
    "import plotly.graph_objects as go\n",
    "\n",
    "# Display data\n",
    "fig = go.Figure()\n",
    "\n",
    "fig.add_trace(go.Scatter(\n",
    "    x=w2v_matrix[:,0], y=w2v_matrix[:,1],\n",
    "    text=train['posTitle'], # ! LABELS ARE WRONG\n",
    "    mode='markers',\n",
    "    marker_color='rgba(255, 182, 193, .8)'\n",
    "))\n",
    "fig.update_layout(title='Word2Vec 2D Career Map')"
   ]
  }
 ]
}