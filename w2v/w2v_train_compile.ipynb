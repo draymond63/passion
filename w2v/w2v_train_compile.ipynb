{
 "metadata": {
  "language_info": {
   "codemirror_mode": {
    "name": "ipython",
    "version": 3
   },
   "file_extension": ".py",
   "mimetype": "text/x-python",
   "name": "python",
   "nbconvert_exporter": "python",
   "pygments_lexer": "ipython3",
   "version": "3.7.6-final"
  },
  "orig_nbformat": 2,
  "kernelspec": {
   "name": "python_defaultSpec_1598536212945",
   "display_name": "Python 3.7.6 64-bit ('Tensorflow': virtualenv)"
  }
 },
 "nbformat": 4,
 "nbformat_minor": 2,
 "cells": [
  {
   "cell_type": "code",
   "execution_count": 3,
   "metadata": {
    "tags": []
   },
   "outputs": [
    {
     "output_type": "execute_result",
     "data": {
      "text/plain": "   memberUrn                  posTitle\n0   10013136           project manager\n1   10013136           project manager\n2  100186032  senior marketing manager",
      "text/html": "<div>\n<style scoped>\n    .dataframe tbody tr th:only-of-type {\n        vertical-align: middle;\n    }\n\n    .dataframe tbody tr th {\n        vertical-align: top;\n    }\n\n    .dataframe thead th {\n        text-align: right;\n    }\n</style>\n<table border=\"1\" class=\"dataframe\">\n  <thead>\n    <tr style=\"text-align: right;\">\n      <th></th>\n      <th>memberUrn</th>\n      <th>posTitle</th>\n    </tr>\n  </thead>\n  <tbody>\n    <tr>\n      <th>0</th>\n      <td>10013136</td>\n      <td>project manager</td>\n    </tr>\n    <tr>\n      <th>1</th>\n      <td>10013136</td>\n      <td>project manager</td>\n    </tr>\n    <tr>\n      <th>2</th>\n      <td>100186032</td>\n      <td>senior marketing manager</td>\n    </tr>\n  </tbody>\n</table>\n</div>"
     },
     "metadata": {},
     "execution_count": 3
    }
   ],
   "source": [
    "# Libraries used to train models & manipulate data\n",
    "import numpy as np\n",
    "import pandas as pd\n",
    "\n",
    "# * The number of times an item has to be seen for it to be included\n",
    "rep_times = 3\n",
    "\n",
    "### Kaggle import: https://github.com/Kaggle/kaggle-api\n",
    "# kaggle datasets download -f dump.csv --unzip killbot/linkedin-profiles-and-jobs-data\n",
    "members = pd.read_csv(r'../dump_cleaned.csv')\n",
    "\n",
    "# Filter for useful entries \n",
    "members = members.filter(items=['memberUrn', 'posTitle'])\n",
    "members.head(3)"
   ]
  },
  {
   "cell_type": "code",
   "execution_count": 4,
   "metadata": {
    "tags": []
   },
   "outputs": [
    {
     "output_type": "stream",
     "name": "stdout",
     "text": "(1458, 2)\n"
    },
    {
     "output_type": "execute_result",
     "data": {
      "text/plain": "                  posTitle                                          memberUrn\n0           .net developer  [100497522, 105013375, 11628672, 142592347, 16...\n1  .net software developer                    [142592347, 48796961, 65374720]\n2            3d generalist         [245710462, 245710462, 245710462, 5580986]",
      "text/html": "<div>\n<style scoped>\n    .dataframe tbody tr th:only-of-type {\n        vertical-align: middle;\n    }\n\n    .dataframe tbody tr th {\n        vertical-align: top;\n    }\n\n    .dataframe thead th {\n        text-align: right;\n    }\n</style>\n<table border=\"1\" class=\"dataframe\">\n  <thead>\n    <tr style=\"text-align: right;\">\n      <th></th>\n      <th>posTitle</th>\n      <th>memberUrn</th>\n    </tr>\n  </thead>\n  <tbody>\n    <tr>\n      <th>0</th>\n      <td>.net developer</td>\n      <td>[100497522, 105013375, 11628672, 142592347, 16...</td>\n    </tr>\n    <tr>\n      <th>1</th>\n      <td>.net software developer</td>\n      <td>[142592347, 48796961, 65374720]</td>\n    </tr>\n    <tr>\n      <th>2</th>\n      <td>3d generalist</td>\n      <td>[245710462, 245710462, 245710462, 5580986]</td>\n    </tr>\n  </tbody>\n</table>\n</div>"
     },
     "metadata": {},
     "execution_count": 4
    }
   ],
   "source": [
    "# Group members by position\n",
    "members_grouped = members.groupby('posTitle')['memberUrn'].apply(list) # 2817 jobs w/ more than 1 member\n",
    "# Series -> DataFrame & Reset indices\n",
    "members_grouped = members_grouped.to_frame()\n",
    "members_grouped = members_grouped.reset_index()\n",
    "\n",
    "print(members_grouped.shape)\n",
    "members_grouped.head(3)"
   ]
  },
  {
   "cell_type": "code",
   "execution_count": 5,
   "metadata": {
    "tags": []
   },
   "outputs": [
    {
     "output_type": "stream",
     "name": "stdout",
     "text": "(1458, 2)\n"
    },
    {
     "output_type": "execute_result",
     "data": {
      "text/plain": "                  posTitle                                          memberUrn\n0           .net developer  [0, 0, 0, 0, 0, 0, 0, 0, 1, 0, 0, 0, 0, 0, 0, ...\n1  .net software developer  [0, 0, 0, 0, 0, 0, 0, 0, 0, 0, 0, 0, 0, 0, 0, ...\n2            3d generalist  [0, 0, 0, 0, 0, 0, 0, 0, 0, 0, 0, 0, 0, 0, 0, ...",
      "text/html": "<div>\n<style scoped>\n    .dataframe tbody tr th:only-of-type {\n        vertical-align: middle;\n    }\n\n    .dataframe tbody tr th {\n        vertical-align: top;\n    }\n\n    .dataframe thead th {\n        text-align: right;\n    }\n</style>\n<table border=\"1\" class=\"dataframe\">\n  <thead>\n    <tr style=\"text-align: right;\">\n      <th></th>\n      <th>posTitle</th>\n      <th>memberUrn</th>\n    </tr>\n  </thead>\n  <tbody>\n    <tr>\n      <th>0</th>\n      <td>.net developer</td>\n      <td>[0, 0, 0, 0, 0, 0, 0, 0, 1, 0, 0, 0, 0, 0, 0, ...</td>\n    </tr>\n    <tr>\n      <th>1</th>\n      <td>.net software developer</td>\n      <td>[0, 0, 0, 0, 0, 0, 0, 0, 0, 0, 0, 0, 0, 0, 0, ...</td>\n    </tr>\n    <tr>\n      <th>2</th>\n      <td>3d generalist</td>\n      <td>[0, 0, 0, 0, 0, 0, 0, 0, 0, 0, 0, 0, 0, 0, 0, ...</td>\n    </tr>\n  </tbody>\n</table>\n</div>"
     },
     "metadata": {},
     "execution_count": 5
    }
   ],
   "source": [
    "#! HORRIBLE MEMORY\n",
    "ids = members['memberUrn'].unique().tolist()\n",
    "\n",
    "def multiEncodeMembers(urnList):\n",
    "    l = [0]*len(ids)\n",
    "\n",
    "    for urn in urnList:\n",
    "        if urn:\n",
    "            index = ids.index(urn)\n",
    "            l[index] = 1\n",
    "    return l\n",
    "\n",
    "# Multi=encode the members\n",
    "members_grouped['memberUrn'] = members_grouped['memberUrn'].apply(multiEncodeMembers)\n",
    "# Get rid of entries that only appear once\n",
    "# members_grouped = members_grouped[members_grouped.posTitle.duplicated(keep=False)] # No values?\n",
    "# Drop duplicate entries now\n",
    "# members_grouped['posTitle'] = members_grouped['posTitle'].drop_duplicates()\n",
    "\n",
    "print(members_grouped.shape)\n",
    "members_grouped.head(3)"
   ]
  },
  {
   "cell_type": "code",
   "execution_count": 6,
   "metadata": {
    "tags": []
   },
   "outputs": [
    {
     "output_type": "stream",
     "name": "stdout",
     "text": "5643\n1458\n(1458, 3)\n"
    },
    {
     "output_type": "execute_result",
     "data": {
      "text/plain": "                  posTitle                                          memberUrn  \\\n0           .net developer  [0, 0, 0, 0, 0, 0, 0, 0, 1, 0, 0, 0, 0, 0, 0, ...   \n1  .net software developer  [0, 0, 0, 0, 0, 0, 0, 0, 0, 0, 0, 0, 0, 0, 0, ...   \n2            3d generalist  [0, 0, 0, 0, 0, 0, 0, 0, 0, 0, 0, 0, 0, 0, 0, ...   \n3   academic (part – time)  [0, 0, 0, 0, 0, 0, 0, 0, 0, 0, 0, 0, 0, 0, 0, ...   \n4           academic tutor  [0, 0, 0, 0, 0, 0, 0, 0, 0, 0, 0, 0, 0, 0, 0, ...   \n\n   posEncoded  \n0          17  \n1         878  \n2        1261  \n3        1265  \n4        1095  ",
      "text/html": "<div>\n<style scoped>\n    .dataframe tbody tr th:only-of-type {\n        vertical-align: middle;\n    }\n\n    .dataframe tbody tr th {\n        vertical-align: top;\n    }\n\n    .dataframe thead th {\n        text-align: right;\n    }\n</style>\n<table border=\"1\" class=\"dataframe\">\n  <thead>\n    <tr style=\"text-align: right;\">\n      <th></th>\n      <th>posTitle</th>\n      <th>memberUrn</th>\n      <th>posEncoded</th>\n    </tr>\n  </thead>\n  <tbody>\n    <tr>\n      <th>0</th>\n      <td>.net developer</td>\n      <td>[0, 0, 0, 0, 0, 0, 0, 0, 1, 0, 0, 0, 0, 0, 0, ...</td>\n      <td>17</td>\n    </tr>\n    <tr>\n      <th>1</th>\n      <td>.net software developer</td>\n      <td>[0, 0, 0, 0, 0, 0, 0, 0, 0, 0, 0, 0, 0, 0, 0, ...</td>\n      <td>878</td>\n    </tr>\n    <tr>\n      <th>2</th>\n      <td>3d generalist</td>\n      <td>[0, 0, 0, 0, 0, 0, 0, 0, 0, 0, 0, 0, 0, 0, 0, ...</td>\n      <td>1261</td>\n    </tr>\n    <tr>\n      <th>3</th>\n      <td>academic (part – time)</td>\n      <td>[0, 0, 0, 0, 0, 0, 0, 0, 0, 0, 0, 0, 0, 0, 0, ...</td>\n      <td>1265</td>\n    </tr>\n    <tr>\n      <th>4</th>\n      <td>academic tutor</td>\n      <td>[0, 0, 0, 0, 0, 0, 0, 0, 0, 0, 0, 0, 0, 0, 0, ...</td>\n      <td>1095</td>\n    </tr>\n  </tbody>\n</table>\n</div>"
     },
     "metadata": {},
     "execution_count": 6
    }
   ],
   "source": [
    "#! HORRIBLE MEMORY\n",
    "pos_names = members['posTitle'].unique().tolist()\n",
    "\n",
    "# Multi=encode the members\n",
    "pos_encoded = members_grouped['posTitle'].apply(lambda x: pos_names.index(x)).to_frame()\n",
    "pos_encoded = pos_encoded.rename(columns={'posTitle': 'posEncoded'})\n",
    "# Group data together\n",
    "train = pd.concat([members_grouped, pos_encoded], axis=1)\n",
    "train = train.dropna()\n",
    "\n",
    "train.to_json('w2v_train.json')\n",
    "\n",
    "print(len(ids))\n",
    "print(len(pos_names))\n",
    "print(train.shape)\n",
    "train.head(5)"
   ]
  },
  {
   "cell_type": "code",
   "execution_count": null,
   "metadata": {},
   "outputs": [],
   "source": []
  }
 ]
}