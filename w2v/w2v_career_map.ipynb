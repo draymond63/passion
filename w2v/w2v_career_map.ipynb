{
 "metadata": {
  "language_info": {
   "codemirror_mode": {
    "name": "ipython",
    "version": 3
   },
   "file_extension": ".py",
   "mimetype": "text/x-python",
   "name": "python",
   "nbconvert_exporter": "python",
   "pygments_lexer": "ipython3",
   "version": "3.7.6-final"
  },
  "orig_nbformat": 2,
  "kernelspec": {
   "name": "python_defaultSpec_1598715782601",
   "display_name": "Python 3.7.6 64-bit ('Tensorflow': virtualenv)"
  }
 },
 "nbformat": 4,
 "nbformat_minor": 2,
 "cells": [
  {
   "cell_type": "code",
   "execution_count": 35,
   "metadata": {},
   "outputs": [
    {
     "output_type": "execute_result",
     "data": {
      "text/plain": "              posTitle  posEncoded  \\\n0       academic tutor          76   \n1  account coordinator         526   \n2     account director         416   \n\n                                             members  \n0  [0, 0, 0, 0, 0, 0, 0, 0, 0, 0, 0, 0, 0, 0, 0, ...  \n1  [0, 0, 0, 0, 0, 0, 0, 0, 0, 0, 0, 0, 0, 0, 0, ...  \n2  [0, 0, 0, 0, 0, 0, 0, 0, 0, 0, 0, 0, 0, 0, 0, ...  ",
      "text/html": "<div>\n<style scoped>\n    .dataframe tbody tr th:only-of-type {\n        vertical-align: middle;\n    }\n\n    .dataframe tbody tr th {\n        vertical-align: top;\n    }\n\n    .dataframe thead th {\n        text-align: right;\n    }\n</style>\n<table border=\"1\" class=\"dataframe\">\n  <thead>\n    <tr style=\"text-align: right;\">\n      <th></th>\n      <th>posTitle</th>\n      <th>posEncoded</th>\n      <th>members</th>\n    </tr>\n  </thead>\n  <tbody>\n    <tr>\n      <th>0</th>\n      <td>academic tutor</td>\n      <td>76</td>\n      <td>[0, 0, 0, 0, 0, 0, 0, 0, 0, 0, 0, 0, 0, 0, 0, ...</td>\n    </tr>\n    <tr>\n      <th>1</th>\n      <td>account coordinator</td>\n      <td>526</td>\n      <td>[0, 0, 0, 0, 0, 0, 0, 0, 0, 0, 0, 0, 0, 0, 0, ...</td>\n    </tr>\n    <tr>\n      <th>2</th>\n      <td>account director</td>\n      <td>416</td>\n      <td>[0, 0, 0, 0, 0, 0, 0, 0, 0, 0, 0, 0, 0, 0, 0, ...</td>\n    </tr>\n  </tbody>\n</table>\n</div>"
     },
     "metadata": {},
     "execution_count": 35
    }
   ],
   "source": [
    "import pandas as pd\n",
    "import numpy as np\n",
    "import tensorflow as tf\n",
    "from tensorflow import keras\n",
    "\n",
    "train = pd.read_json('w2v_train.json')\n",
    "train.head(3)"
   ]
  },
  {
   "cell_type": "code",
   "execution_count": 36,
   "metadata": {
    "tags": []
   },
   "outputs": [
    {
     "output_type": "stream",
     "name": "stdout",
     "text": "Model: \"sequential_4\"\n_________________________________________________________________\nLayer (type)                 Output Shape              Param #   \n=================================================================\ndense_8 (Dense)              (None, 10)                59800     \n_________________________________________________________________\ndense_9 (Dense)              (None, 538)               5918      \n=================================================================\nTotal params: 65,718\nTrainable params: 65,718\nNon-trainable params: 0\n_________________________________________________________________\n"
    }
   ],
   "source": [
    "w2v_inner_dim = 10\n",
    "num_users = len(train['members'][0])\n",
    "num_jobs = train.shape[0]\n",
    "# Simple 2 layer model to create the word2vec matrix\n",
    "# Predicting word (job) based off context (members who had that job) currently\n",
    "# people --> job\n",
    "model = keras.models.Sequential([\n",
    "    keras.layers.Dense(w2v_inner_dim, input_dim=num_users),\n",
    "    keras.layers.Dense(num_jobs, activation='softmax')\n",
    "])\n",
    "\n",
    "# Hyper parameters\n",
    "model.compile(\n",
    "    optimizer='adam',\n",
    "    loss='sparse_categorical_crossentropy',\n",
    "    metrics=['accuracy']\n",
    ")\n",
    "\n",
    "model.summary()"
   ]
  },
  {
   "cell_type": "code",
   "execution_count": 37,
   "metadata": {
    "tags": []
   },
   "outputs": [
    {
     "output_type": "execute_result",
     "data": {
      "text/plain": "99.81412887573242"
     },
     "metadata": {},
     "execution_count": 37
    }
   ],
   "source": [
    "history = model.fit(\n",
    "    np.array(train['members'].tolist()), # dtype=np.float32\n",
    "    np.array(train['posEncoded'].tolist()),\n",
    "    callbacks=[\n",
    "        tf.keras.callbacks.EarlyStopping(monitor='accuracy', min_delta=0.0001, patience=10)\n",
    "    ],\n",
    "    epochs=200,\n",
    "    shuffle=True,\n",
    "    verbose=0\n",
    ")\n",
    "history.history['accuracy'][-1] * 100"
   ]
  },
  {
   "cell_type": "code",
   "execution_count": 38,
   "metadata": {
    "tags": []
   },
   "outputs": [
    {
     "output_type": "execute_result",
     "data": {
      "text/plain": "              posTitle         0         1         2         3         4  \\\n0       academic tutor  0.314774  0.366791 -0.361189 -0.376355  0.504210   \n1  account coordinator -0.443244  0.187873  0.381465  0.382059 -0.387396   \n2     account director  0.248015  0.344462 -0.025905 -0.453014 -0.305691   \n3    account executive -0.420903  0.529688  0.340185  0.229981 -0.168508   \n4      account manager  0.294179  0.309620 -0.268075  0.293654 -0.343437   \n\n          5         6         7         8         9  \n0  0.421843 -0.299089  0.322352  0.387822  0.247664  \n1  0.474691  0.413804  0.367517 -0.417806 -0.380789  \n2 -0.209720 -0.302719  0.484575  0.326791  0.245828  \n3  0.612626 -0.362432 -0.405646  0.374507  0.483424  \n4 -0.171601  0.419101  0.270469  0.315768 -0.254636  ",
      "text/html": "<div>\n<style scoped>\n    .dataframe tbody tr th:only-of-type {\n        vertical-align: middle;\n    }\n\n    .dataframe tbody tr th {\n        vertical-align: top;\n    }\n\n    .dataframe thead th {\n        text-align: right;\n    }\n</style>\n<table border=\"1\" class=\"dataframe\">\n  <thead>\n    <tr style=\"text-align: right;\">\n      <th></th>\n      <th>posTitle</th>\n      <th>0</th>\n      <th>1</th>\n      <th>2</th>\n      <th>3</th>\n      <th>4</th>\n      <th>5</th>\n      <th>6</th>\n      <th>7</th>\n      <th>8</th>\n      <th>9</th>\n    </tr>\n  </thead>\n  <tbody>\n    <tr>\n      <th>0</th>\n      <td>academic tutor</td>\n      <td>0.314774</td>\n      <td>0.366791</td>\n      <td>-0.361189</td>\n      <td>-0.376355</td>\n      <td>0.504210</td>\n      <td>0.421843</td>\n      <td>-0.299089</td>\n      <td>0.322352</td>\n      <td>0.387822</td>\n      <td>0.247664</td>\n    </tr>\n    <tr>\n      <th>1</th>\n      <td>account coordinator</td>\n      <td>-0.443244</td>\n      <td>0.187873</td>\n      <td>0.381465</td>\n      <td>0.382059</td>\n      <td>-0.387396</td>\n      <td>0.474691</td>\n      <td>0.413804</td>\n      <td>0.367517</td>\n      <td>-0.417806</td>\n      <td>-0.380789</td>\n    </tr>\n    <tr>\n      <th>2</th>\n      <td>account director</td>\n      <td>0.248015</td>\n      <td>0.344462</td>\n      <td>-0.025905</td>\n      <td>-0.453014</td>\n      <td>-0.305691</td>\n      <td>-0.209720</td>\n      <td>-0.302719</td>\n      <td>0.484575</td>\n      <td>0.326791</td>\n      <td>0.245828</td>\n    </tr>\n    <tr>\n      <th>3</th>\n      <td>account executive</td>\n      <td>-0.420903</td>\n      <td>0.529688</td>\n      <td>0.340185</td>\n      <td>0.229981</td>\n      <td>-0.168508</td>\n      <td>0.612626</td>\n      <td>-0.362432</td>\n      <td>-0.405646</td>\n      <td>0.374507</td>\n      <td>0.483424</td>\n    </tr>\n    <tr>\n      <th>4</th>\n      <td>account manager</td>\n      <td>0.294179</td>\n      <td>0.309620</td>\n      <td>-0.268075</td>\n      <td>0.293654</td>\n      <td>-0.343437</td>\n      <td>-0.171601</td>\n      <td>0.419101</td>\n      <td>0.270469</td>\n      <td>0.315768</td>\n      <td>-0.254636</td>\n    </tr>\n  </tbody>\n</table>\n</div>"
     },
     "metadata": {},
     "execution_count": 38
    }
   ],
   "source": [
    "w2v_matrix = pd.DataFrame(model.get_weights()[2]).transpose()\n",
    "w2v_matrix = pd.concat([train['posTitle'], w2v_matrix], axis=1)\n",
    "\n",
    "w2v_matrix.to_json('pos_w2v_matrix.json')\n",
    "w2v_matrix.head()"
   ]
  },
  {
   "cell_type": "code",
   "execution_count": 39,
   "metadata": {
    "tags": []
   },
   "outputs": [
    {
     "output_type": "stream",
     "name": "stdout",
     "text": "[t-SNE] Computing 91 nearest neighbors...\n[t-SNE] Indexed 538 samples in 0.002s...\n[t-SNE] Computed neighbors for 538 samples in 0.043s...\n[t-SNE] Computed conditional probabilities for sample 538 / 538\n[t-SNE] Mean sigma: 0.468526\n[t-SNE] KL divergence after 250 iterations with early exaggeration: 68.635750\n[t-SNE] KL divergence after 1000 iterations: 1.874615\n"
    },
    {
     "output_type": "execute_result",
     "data": {
      "text/plain": "(538, 10)"
     },
     "metadata": {},
     "execution_count": 39
    }
   ],
   "source": [
    "from sklearn.manifold import TSNE\n",
    "\n",
    "# get_weights returns weights & biases -> we want the 2nd matrix of weights (w2v_inner_dim by # of jobs)\n",
    "w2v_matrix = pd.read_json('pos_w2v_matrix.json').drop(['posTitle'], axis=1)\n",
    "\n",
    "# Collapse matrix into Nx2\n",
    "tsne = TSNE(n_components=2, random_state=0, verbose=1)\n",
    "w2v_visual = tsne.fit_transform(w2v_matrix)\n",
    "w2v_matrix.shape"
   ]
  },
  {
   "cell_type": "code",
   "execution_count": 40,
   "metadata": {},
   "outputs": [
    {
     "output_type": "display_data",
     "data": {
      "application/vnd.plotly.v1+json": {
       "config": {
        "plotlyServerURL": "https://plot.ly"
       },
       "data": [
        {
         "marker": {
          "color": "rgba(255, 182, 193, .8)"
         },
         "mode": "markers",
         "text": [
          "academic tutor",
          "account coordinator",
          "account director",
          "account executive",
          "account manager",
          "accounts assistant",
          "adjunct fellow",
          "adjunct lecturer",
          "adjunct professor",
          "administration manager",
          "administrative assistant",
          "agile business",
          "agile coach",
          "altis consultant",
          "analyst",
          "analyst developer",
          "analyst programmer",
          "application developer",
          "application services",
          "application specialist",
          "application support",
          "applications engineer",
          "architectural technician",
          "art director",
          "assistant director",
          "assistant secretary",
          "assistant store",
          "associate dean",
          "associate director",
          "associate engineer",
          "associate lecturer",
          "associate manager",
          "associate partner",
          "associate producer",
          "associate professor",
          "assurance intern",
          "automation specialist",
          "bank manager",
          "bank teller",
          "bi consultant",
          "board advisor",
          "board directors",
          "board member",
          "branch manager",
          "brand ambassador",
          "brand manager",
          "business advisor",
          "business analyst",
          "business banking",
          "business consultant",
          "business development",
          "business director",
          "business intelligence",
          "business manager",
          "business owner",
          "business partner",
          "business project",
          "business support",
          "business systems",
          "cadet",
          "campaign manager",
          "casual academic",
          "ceo founder",
          "chair board",
          "chairman board",
          "change analyst",
          "change consultant",
          "change lead",
          "change manager",
          "channel manager",
          "chief executive",
          "chief officer",
          "civil engineer",
          "client executive",
          "client manager",
          "client services",
          "clinical dietitian",
          "clinical educator",
          "clinical nurse",
          "clinical psychologist",
          "co ceo",
          "co cto",
          "co founder",
          "co ordinator",
          "commercial analyst",
          "commercial lawyer",
          "committee member",
          "committee president",
          "communications advisor",
          "communications consultant",
          "communications coordinator",
          "communications intern",
          "communications manager",
          "communications officer",
          "community engagement",
          "community organiser",
          "company secretary",
          "computer officer",
          "conference chair",
          "construction manager",
          "consultant",
          "consultant developer",
          "consultant integration",
          "consulting partner",
          "content manager",
          "content producer",
          "content strategist",
          "content writer",
          "contract administrator",
          "contract programmer",
          "contracts administrator",
          "corporate counsel",
          "council member",
          "creative director",
          "creative group",
          "creative producer",
          "creative ux",
          "crew member",
          "crew trainer",
          "crm business",
          "customer advisor",
          "customer manager",
          "customer service",
          "data analyst",
          "data clerk",
          "data engineer",
          "data scientist",
          "database administrator",
          "delivery lead",
          "delivery manager",
          "deputy ceo",
          "deputy chair",
          "deputy director",
          "design engineer",
          "design intern",
          "design lead",
          "desktop support",
          "development consultant",
          "development manager",
          "development officer",
          "devops consultant",
          "digital consultant",
          "digital designer",
          "digital director",
          "digital manager",
          "digital marketing",
          "digital media",
          "digital producer",
          "digital strategist",
          "director consulting",
          "director innovation",
          "director operations",
          "doctoral researcher",
          "editor chief",
          "editorial intern",
          "education officer",
          "electrical engineer",
          "electrician",
          "engagement manager",
          "engineer",
          "engineering intern",
          "engineering manager",
          "enterprise account",
          "enterprise architect",
          "entrepreneur",
          "environmental advisor",
          "environmental engineer",
          "environmental officer",
          "environmental scientist",
          "event coordinator",
          "events coordinator",
          "executive assistant",
          "experience architect",
          "experience designer",
          "external auditor",
          "facilities manager",
          "fellow",
          "field engineer",
          "financial accountant",
          "financial adviser",
          "financial advisor",
          "financial analyst",
          "financial controller",
          "financial planner",
          "financial planning",
          "food beverage",
          "founder director",
          "founder managing",
          "founding partner",
          "freelance contributor",
          "freelance copywriter",
          "freelance designer",
          "freelance editor",
          "freelance journalist",
          "front end",
          "frontend developer",
          "full stack",
          "full time",
          "functional consultant",
          "general counsel",
          "general manager",
          "geotechnical engineer",
          "gis specialist",
          "global account",
          "graduate architect",
          "graduate developer",
          "graduate engineer",
          "graduate law",
          "graduate program",
          "graphic designer",
          "group accountant",
          "group director",
          "group leader",
          "group manager",
          "group representative",
          "guest speaker",
          "head coach",
          "head digital",
          "head marketing",
          "head operations",
          "head product",
          "head risk",
          "head school",
          "head social",
          "head strategy",
          "head teacher",
          "head technology",
          "honorary associate",
          "honorary fellow",
          "hr administrator",
          "hr officer",
          "hr partner",
          "human officer",
          "human resources",
          "implementation manager",
          "industrial designer",
          "information architect",
          "information management",
          "information officer",
          "information technology",
          "infrastructure architect",
          "instructional designer",
          "interactive developer",
          "interior designer",
          "internal audit",
          "internal auditor",
          "internal communications",
          "investment analyst",
          "investor",
          "ios developer",
          "ios engineer",
          "it analyst",
          "it consultant",
          "it contractor",
          "it coordinator",
          "it manager",
          "it specialist",
          "it support",
          "it systems",
          "java developer",
          "junior accountant",
          "key account",
          "keynote presenter",
          "keynote speaker",
          "laboratory demonstrator",
          "laboratory technician",
          "law clerk",
          "lead analyst",
          "lead designer",
          "lead developer",
          "lead ux",
          "leadership coach",
          "learning development",
          "leasing executive",
          "lecturer exercise",
          "lecturer tutor",
          "legal counsel",
          "legal intern",
          "legal officer",
          "lifeguard",
          "major accounts",
          "management accountant",
          "management consultant",
          "manager",
          "managing editor",
          "marketing assistant",
          "marketing communications",
          "marketing coordinator",
          "marketing director",
          "marketing executive",
          "marketing intern",
          "marketing manager",
          "marketing officer",
          "marketing specialist",
          "master administration",
          "mba candidate",
          "mechanical engineer",
          "medical officer",
          "medical writer",
          "misc",
          "mobile developer",
          "mobile engineer",
          "national business",
          "national manager",
          "national sales",
          "net developer",
          "network engineer",
          "non executive",
          "occupational student",
          "office manager",
          "officer",
          "online marketing",
          "operations associate",
          "operations manager",
          "operations officer",
          "organisational change",
          "organisational psychologist",
          "paralegal",
          "partner representative",
          "peer mentor",
          "peer tutor",
          "performance test",
          "personal banker",
          "personal brand",
          "personal underwriter",
          "pharmacy student",
          "phd candidate",
          "phd scholar",
          "php developer",
          "pmo manager",
          "policy adviser",
          "policy officer",
          "portfolio manager",
          "post doctoral",
          "postdoctoral fellow",
          "postdoctoral researcher",
          "pr executive",
          "practice manager",
          "pricing analyst",
          "principal analyst",
          "principal consultant",
          "principal engineer",
          "principal manager",
          "private banker",
          "process analyst",
          "process control",
          "process engineer",
          "procurement specialist",
          "product designer",
          "product manager",
          "product owner",
          "production supervisor",
          "professional player",
          "professional services",
          "professor economics",
          "professor finance",
          "program management",
          "program manager",
          "project administrator",
          "project assistant",
          "project director",
          "project engineer",
          "project executive",
          "project lead",
          "project leader",
          "project manager",
          "project officer",
          "project pharmacist",
          "projects administrator",
          "property manager",
          "property valuer",
          "public relations",
          "qa analyst",
          "quality analyst",
          "quality assurance",
          "quantity surveyor",
          "real estate",
          "recruitment advisor",
          "recruitment consultant",
          "recruitment coordinator",
          "recruitment specialist",
          "regional manager",
          "registered nurse",
          "relations specialist",
          "relationship manager",
          "research assistant",
          "research associate",
          "research coordinator",
          "research engineer",
          "research executive",
          "research fellow",
          "research officer",
          "research scientist",
          "residential agent",
          "retail planner",
          "retail sales",
          "rf planning",
          "safety advisor",
          "sales assistant",
          "sales associate",
          "sales consultant",
          "sales coordinator",
          "sales director",
          "sales executive",
          "sales marketing",
          "sales representative",
          "sales specialist",
          "sales support",
          "sap consultant",
          "sap project",
          "school teacher",
          "secondee",
          "security consultant",
          "security manager",
          "senior analyst",
          "senior architect",
          "senior audit",
          "senior consultant",
          "senior developer",
          "senior director",
          "senior economist",
          "senior engineer",
          "senior estimator",
          "senior manager",
          "senior software",
          "senior technology",
          "service agent",
          "service analyst",
          "service delivery",
          "service designer",
          "service specialist",
          "service supervisor",
          "service technician",
          "services coordinator",
          "services manager",
          "sessional academic",
          "sessional instructor",
          "shift supervisor",
          "site engineer",
          "site supervisor",
          "social media",
          "social worker",
          "software architect",
          "software developer",
          "software development",
          "software engineer",
          "software engineering",
          "software manager",
          "software programmer",
          "software test",
          "solution architect",
          "solution designer",
          "solutions architect",
          "solutions consultant",
          "specialist technician",
          "speech pathologist",
          "speech student",
          "sponsorship director",
          "sports dietitian",
          "sports physiotherapist",
          "sr business",
          "state manager",
          "strategic advisor",
          "strategic planner",
          "strategic sourcing",
          "structural draftsman",
          "structural engineer",
          "student advisor",
          "student intern",
          "student planner",
          "student research",
          "student researcher",
          "summer clerk",
          "summer internship",
          "summer vacationer",
          "support engineer",
          "sustainability officer",
          "system administrator",
          "system analyst",
          "system engineer",
          "systems administrator",
          "systems analyst",
          "systems engineer",
          "systems manager",
          "tax lawyer",
          "teacher librarian",
          "teaching associate",
          "teaching fellow",
          "team assistant",
          "team lead",
          "team leader",
          "team member",
          "technical advisor",
          "technical analyst",
          "technical architect",
          "technical consultant",
          "technical developer",
          "technical expert",
          "technical lead",
          "technical leader",
          "technical manager",
          "technical officer",
          "technical specialist",
          "technical support",
          "technical team",
          "technology advisor",
          "test analyst",
          "test consultant",
          "test lead",
          "trainee accountant",
          "trainee solicitor",
          "training coordinator",
          "training facilitator",
          "travel consultant",
          "undergraduate engineer",
          "undergraduate work",
          "unit coordinator",
          "user experience",
          "ux consultant",
          "ux designer",
          "vacation clerk",
          "various",
          "vice president",
          "video technician",
          "visiting fellow",
          "visiting lecturer",
          "visiting professor",
          "visiting researcher",
          "visiting scholar",
          "visiting scientist",
          "visual technician",
          "volunteer",
          "vp engineering",
          "web architect",
          "web designer",
          "web developer",
          "web development",
          "work experience"
         ],
         "type": "scatter",
         "x": [
          -13.2520112991333,
          15.60922622680664,
          -3.0382418632507324,
          -8.683943748474121,
          10.266813278198242,
          1.1591761112213135,
          6.3999738693237305,
          -1.1748181581497192,
          14.752557754516602,
          4.540732383728027,
          7.637527942657471,
          17.1948184967041,
          -7.440446853637695,
          -5.089116096496582,
          -5.988986968994141,
          -1.683189034461975,
          -7.525428295135498,
          12.631402015686035,
          5.324267387390137,
          3.5988962650299072,
          -3.6479036808013916,
          -19.685237884521484,
          9.976103782653809,
          -12.46757984161377,
          8.565003395080566,
          3.3870177268981934,
          10.160768508911133,
          0.6361939311027527,
          -8.573421478271484,
          11.607996940612793,
          -1.618106484413147,
          -0.822250247001648,
          -17.419788360595703,
          5.907649517059326,
          4.5850443840026855,
          -4.167779922485352,
          4.701447486877441,
          -5.085747241973877,
          7.898098945617676,
          -17.08918571472168,
          7.712588310241699,
          -4.477506637573242,
          -0.45057737827301025,
          4.796260356903076,
          15.448975563049316,
          11.370161056518555,
          13.983053207397461,
          23.317676544189453,
          -0.5522289872169495,
          -11.211509704589844,
          -6.528916835784912,
          9.0178861618042,
          -1.264899730682373,
          -4.1404523849487305,
          8.31141471862793,
          -10.566795349121094,
          -3.377755641937256,
          -10.61000919342041,
          2.699769973754883,
          12.981300354003906,
          11.108633041381836,
          1.0509833097457886,
          -13.362643241882324,
          7.8735480308532715,
          -0.5397774577140808,
          -4.8446197509765625,
          5.160647392272949,
          -0.025112085044384003,
          3.691885471343994,
          -14.535491943359375,
          4.913611888885498,
          2.011996269226074,
          -1.6429368257522583,
          14.662628173828125,
          6.7556891441345215,
          -8.60174560546875,
          11.092212677001953,
          4.280905723571777,
          2.553508758544922,
          1.1639623641967773,
          4.898910999298096,
          6.772152423858643,
          -16.106924057006836,
          1.846638560295105,
          12.921614646911621,
          16.130739212036133,
          -6.375667572021484,
          -1.8866416215896606,
          17.83318519592285,
          3.421278953552246,
          16.917129516601562,
          -11.692981719970703,
          -8.638420104980469,
          -3.4377124309539795,
          -0.8837381601333618,
          -3.4118120670318604,
          1.8647363185882568,
          9.717140197753906,
          9.95726203918457,
          -12.487385749816895,
          11.552858352661133,
          -3.7603838443756104,
          -4.775243759155273,
          14.45650863647461,
          -9.160412788391113,
          -1.6616207361221313,
          16.990278244018555,
          3.5258398056030273,
          -4.383444786071777,
          8.132990837097168,
          -8.264437675476074,
          -12.234575271606445,
          2.6821765899658203,
          0.5130206346511841,
          -9.814372062683105,
          -17.606290817260742,
          -13.491361618041992,
          10.197247505187988,
          18.6641845703125,
          14.360668182373047,
          -5.278042793273926,
          6.856437683105469,
          7.982155799865723,
          -5.036001682281494,
          17.689966201782227,
          20.25856590270996,
          -11.19373893737793,
          7.761703014373779,
          -10.150243759155273,
          5.151560306549072,
          9.52687931060791,
          11.26816177368164,
          -17.276819229125977,
          -8.511507034301758,
          5.498436450958252,
          7.022209167480469,
          -3.4310028553009033,
          -8.576379776000977,
          -20.60365867614746,
          -10.86758041381836,
          7.98423957824707,
          3.5797510147094727,
          -15.443467140197754,
          13.606493949890137,
          -14.794310569763184,
          -12.072770118713379,
          8.059158325195312,
          14.842747688293457,
          -20.158424377441406,
          -13.518146514892578,
          7.5266499519348145,
          0.15058645606040955,
          -5.27203893661499,
          18.050344467163086,
          8.719592094421387,
          2.4264683723449707,
          5.898688316345215,
          2.162362575531006,
          -0.4404428005218506,
          -2.20969820022583,
          -13.048379898071289,
          20.403413772583008,
          -0.4586732089519501,
          -8.339856147766113,
          2.2725017070770264,
          6.350410461425781,
          -12.709251403808594,
          -2.1374118328094482,
          -12.973712921142578,
          -14.633657455444336,
          9.301939964294434,
          10.278509140014648,
          14.532410621643066,
          -6.163156032562256,
          -6.470600605010986,
          -1.3276492357254028,
          0.6737419366836548,
          -7.560937404632568,
          -3.3771419525146484,
          -1.8128843307495117,
          6.468560695648193,
          -14.191556930541992,
          -4.226898670196533,
          16.45882797241211,
          4.003019332885742,
          11.097346305847168,
          -15.390645027160645,
          19.667213439941406,
          -18.05419158935547,
          15.620315551757812,
          12.329142570495605,
          -15.021894454956055,
          8.594197273254395,
          6.640817165374756,
          -8.911208152770996,
          4.820101737976074,
          15.834198951721191,
          1.953309178352356,
          6.010259628295898,
          0.12280763685703278,
          -17.73872947692871,
          -6.536798000335693,
          -8.927691459655762,
          9.226963996887207,
          3.369028329849243,
          -22.94991111755371,
          7.749697208404541,
          -19.823875427246094,
          17.233325958251953,
          6.311567783355713,
          8.321412086486816,
          -16.61328125,
          -0.3959687650203705,
          -1.2797883749008179,
          15.763265609741211,
          11.446248054504395,
          -20.7166690826416,
          4.837220668792725,
          -6.242669105529785,
          -0.8546010851860046,
          -20.311038970947266,
          1.1481356620788574,
          -18.63016700744629,
          6.656838893890381,
          -19.206588745117188,
          -9.587777137756348,
          -7.815909385681152,
          16.37765884399414,
          14.19229507446289,
          -0.8437072038650513,
          2.3703465461730957,
          0.510932207107544,
          5.306890487670898,
          10.946916580200195,
          -12.442999839782715,
          -6.099008560180664,
          0.8147927522659302,
          18.853599548339844,
          16.17287826538086,
          -9.13493824005127,
          4.201138973236084,
          19.948226928710938,
          -8.421926498413086,
          10.339872360229492,
          -6.672432899475098,
          -9.707605361938477,
          4.933825969696045,
          -18.36060905456543,
          -10.531773567199707,
          -22.06050682067871,
          9.317789077758789,
          -18.008607864379883,
          -8.028646469116211,
          12.68608283996582,
          13.448439598083496,
          3.777149200439453,
          -10.773018836975098,
          -21.05771827697754,
          4.495158672332764,
          -1.1183680295944214,
          18.93577766418457,
          -4.822281360626221,
          -8.596364974975586,
          -16.698291778564453,
          14.215993881225586,
          -12.14642333984375,
          6.629067897796631,
          -7.226792812347412,
          -5.356197834014893,
          -4.875319480895996,
          -18.442419052124023,
          22.077457427978516,
          5.602367877960205,
          12.870728492736816,
          -7.56837272644043,
          -11.535758972167969,
          -1.6395405530929565,
          -3.4072275161743164,
          4.3979010581970215,
          2.008074998855591,
          14.08194637298584,
          9.08780288696289,
          -15.8997163772583,
          -12.604397773742676,
          12.921602249145508,
          -0.4700947403907776,
          -11.47651481628418,
          12.875945091247559,
          -3.0761399269104004,
          -6.241442680358887,
          0.3755986988544464,
          15.324450492858887,
          13.734282493591309,
          -16.102432250976562,
          -14.448808670043945,
          -0.10317352414131165,
          5.048348426818848,
          13.99825382232666,
          12.399332046508789,
          -13.239128112792969,
          5.593648433685303,
          2.505801200866699,
          -7.8742804527282715,
          -18.529279708862305,
          -1.5762660503387451,
          5.444836139678955,
          11.984228134155273,
          -14.49734878540039,
          -5.818794250488281,
          -6.142256259918213,
          -16.63633155822754,
          10.709975242614746,
          -15.185405731201172,
          -10.675837516784668,
          9.048563003540039,
          9.620928764343262,
          -15.230342864990234,
          2.502190589904785,
          -17.304780960083008,
          -10.463844299316406,
          20.169992446899414,
          6.491411209106445,
          10.178988456726074,
          -17.60060691833496,
          3.1815812587738037,
          10.52435302734375,
          12.681884765625,
          15.505645751953125,
          -6.0571818351745605,
          -14.774677276611328,
          -18.259092330932617,
          -14.263992309570312,
          19.86586570739746,
          -9.099326133728027,
          11.554247856140137,
          11.239021301269531,
          -3.1781861782073975,
          -18.03663444519043,
          11.665486335754395,
          -1.8124741315841675,
          18.81903648376465,
          -5.515751361846924,
          2.801114797592163,
          -11.699169158935547,
          16.981660842895508,
          4.711398124694824,
          1.3979902267456055,
          2.6185710430145264,
          11.857163429260254,
          10.503891944885254,
          16.931446075439453,
          -8.386927604675293,
          -11.316132545471191,
          21.372861862182617,
          -7.432816505432129,
          12.274574279785156,
          -2.0632412433624268,
          2.4117133617401123,
          1.5337387323379517,
          -3.514228582382202,
          -5.0745038986206055,
          11.08234977722168,
          -7.2569804191589355,
          -9.276573181152344,
          3.144702911376953,
          21.8627986907959,
          -2.465867519378662,
          6.8368096351623535,
          -3.467534065246582,
          -12.263471603393555,
          -3.5700368881225586,
          -2.237278699874878,
          -1.1903752088546753,
          23.15164566040039,
          8.522319793701172,
          -12.788625717163086,
          -2.6540281772613525,
          14.281903266906738,
          -0.7157666683197021,
          1.3637146949768066,
          -12.556509017944336,
          -8.557243347167969,
          -0.4943322241306305,
          12.155928611755371,
          2.9040138721466064,
          -19.29231071472168,
          -5.968874931335449,
          10.088335037231445,
          19.971467971801758,
          9.680992126464844,
          2.6805174350738525,
          -7.451872825622559,
          3.5927510261535645,
          9.673333168029785,
          4.354259014129639,
          4.962245464324951,
          17.183740615844727,
          -0.3139929175376892,
          7.101580619812012,
          7.272305965423584,
          -3.3900067806243896,
          -11.894413948059082,
          -8.867700576782227,
          6.579275131225586,
          -18.082056045532227,
          7.489720821380615,
          12.860811233520508,
          -7.4328789710998535,
          -16.031827926635742,
          -6.800793647766113,
          -4.131704330444336,
          3.661411762237549,
          6.880770683288574,
          -6.390010356903076,
          10.927248001098633,
          4.830852508544922,
          3.9775161743164062,
          8.053277969360352,
          10.454645156860352,
          -20.063190460205078,
          16.93933868408203,
          21.45604133605957,
          -1.3850661516189575,
          -3.50997257232666,
          -7.773366928100586,
          -5.540439605712891,
          0.7522681355476379,
          -15.349214553833008,
          -13.53659725189209,
          -19.038646697998047,
          -4.802679538726807,
          -2.717820644378662,
          3.6967742443084717,
          10.058426856994629,
          -3.0413050651550293,
          14.23540210723877,
          7.480775356292725,
          -17.72414207458496,
          -8.996664047241211,
          -5.526024341583252,
          -0.48544541001319885,
          2.4626777172088623,
          16.10065460205078,
          -10.644964218139648,
          -3.7297768592834473,
          -6.744778633117676,
          4.686837196350098,
          15.016508102416992,
          18.61370086669922,
          8.111944198608398,
          -9.083276748657227,
          -12.79723072052002,
          -19.624509811401367,
          -6.983780384063721,
          6.017677307128906,
          13.83153247833252,
          16.91080665588379,
          17.513229370117188,
          -4.927743434906006,
          16.72309684753418,
          -1.9686815738677979,
          7.052062034606934,
          -1.2922154664993286,
          5.69752836227417,
          15.572663307189941,
          -21.697355270385742,
          -3.5604970455169678,
          10.634647369384766,
          -6.3941168785095215,
          -13.770265579223633,
          2.486804723739624,
          -0.09741681814193726,
          14.96444320678711,
          12.64333438873291,
          11.06045913696289,
          -6.199807643890381,
          -3.7360007762908936,
          -3.370028495788574,
          19.549325942993164,
          1.0135971307754517,
          -18.923625946044922,
          -2.422621726989746,
          -22.381961822509766,
          2.259915590286255,
          -18.083253860473633,
          -20.569011688232422,
          -10.824762344360352,
          0.17221371829509735,
          -0.29786866903305054,
          -17.90436363220215,
          -16.653034210205078,
          -3.6243340969085693,
          10.423114776611328,
          -6.919660568237305,
          12.607205390930176,
          18.88248634338379,
          -13.538832664489746,
          6.536533355712891,
          -4.125748157501221,
          0.8438431620597839,
          -14.66975212097168,
          -20.0676326751709,
          -18.554353713989258,
          -6.992398262023926,
          17.70602798461914,
          -11.310785293579102,
          -4.536996841430664,
          8.874407768249512,
          -7.915950775146484,
          23.89822006225586,
          -16.92825698852539,
          19.890832901000977,
          -4.469998836517334,
          -9.301814079284668,
          17.139286041259766,
          -19.38202667236328,
          3.753892660140991,
          -7.973840236663818,
          6.68092679977417,
          -12.503847122192383,
          -0.7367433905601501,
          -8.955985069274902,
          -10.367732048034668,
          5.731314182281494,
          5.199807167053223,
          -1.0188696384429932,
          -1.8494166135787964,
          8.0358304977417,
          3.076946973800659,
          -1.8704098463058472,
          -21.887022018432617,
          -16.992101669311523,
          -1.5730968713760376,
          9.450090408325195,
          3.49581241607666,
          5.387502193450928,
          -20.14404296875,
          9.727505683898926
         ],
         "y": [
          5.4152374267578125,
          -8.053326606750488,
          0.20775698125362396,
          12.4430513381958,
          5.820591449737549,
          5.0176005363464355,
          20.035327911376953,
          -5.619052410125732,
          -0.28532397747039795,
          -12.582756042480469,
          5.5424041748046875,
          -11.066319465637207,
          -5.790524959564209,
          18.0800724029541,
          5.3540802001953125,
          -0.7474343180656433,
          -6.714103698730469,
          -6.523625373840332,
          12.22409439086914,
          11.54332447052002,
          -13.01446533203125,
          2.397806167602539,
          4.250949859619141,
          -0.4035412073135376,
          2.238701105117798,
          6.150370121002197,
          7.817471027374268,
          -4.025879859924316,
          -4.121087551116943,
          16.562152862548828,
          -7.510147571563721,
          18.365158081054688,
          -0.8390922546386719,
          4.41733455657959,
          1.7606626749038696,
          -9.941335678100586,
          17.835142135620117,
          -5.933837890625,
          15.496589660644531,
          7.740835666656494,
          5.180844306945801,
          2.8378686904907227,
          4.391857624053955,
          19.61811065673828,
          6.050668239593506,
          1.3569363355636597,
          0.47796085476875305,
          -1.718847393989563,
          -0.3121994435787201,
          5.873286724090576,
          -10.988321304321289,
          -6.313792705535889,
          14.03650951385498,
          5.377764701843262,
          10.969324111938477,
          2.598167896270752,
          16.516855239868164,
          -7.362874984741211,
          -7.243943691253662,
          -2.533543109893799,
          1.784724473953247,
          -9.827595710754395,
          4.561820983886719,
          -3.081009864807129,
          -7.828130722045898,
          9.128602027893066,
          3.1194374561309814,
          0.667035698890686,
          -7.927028179168701,
          -13.187438011169434,
          -3.5893807411193848,
          -12.992751121520996,
          -16.661033630371094,
          10.428415298461914,
          1.0843428373336792,
          0.9055682420730591,
          7.643589496612549,
          8.345661163330078,
          -9.642163276672363,
          -8.67590618133545,
          0.9256874322891235,
          5.1244611740112305,
          -3.6778924465179443,
          -8.612852096557617,
          11.823179244995117,
          11.678972244262695,
          -20.584924697875977,
          5.3312602043151855,
          8.343802452087402,
          4.622517108917236,
          15.58338737487793,
          -11.753266334533691,
          5.395062446594238,
          -8.916512489318848,
          19.23193359375,
          10.6890287399292,
          -5.718072891235352,
          6.567051887512207,
          1.444979190826416,
          12.261331558227539,
          -3.088561773300171,
          -1.570120930671692,
          12.086856842041016,
          3.1245603561401367,
          -0.5520370006561279,
          6.936789035797119,
          5.301232814788818,
          3.9904558658599854,
          -20.41702651977539,
          1.2102718353271484,
          5.185421943664551,
          13.718460083007812,
          9.248544692993164,
          10.827533721923828,
          -8.442034721374512,
          -1.5478320121765137,
          7.844902038574219,
          1.0847845077514648,
          -9.009881019592285,
          -7.598451614379883,
          9.844053268432617,
          13.287981033325195,
          0.4263189435005188,
          1.5249555110931396,
          8.268609046936035,
          7.771884441375732,
          -16.98392677307129,
          16.897493362426758,
          15.148667335510254,
          0.27800893783569336,
          -10.6889066696167,
          0.05412423238158226,
          4.186928749084473,
          -17.024913787841797,
          -13.821037292480469,
          9.202824592590332,
          4.124851703643799,
          2.304126024246216,
          0.08099522441625595,
          9.805198669433594,
          -2.248018741607666,
          16.15283966064453,
          2.7963194847106934,
          -2.6502442359924316,
          7.593502044677734,
          -5.880105018615723,
          8.912223815917969,
          5.482370853424072,
          -9.449520111083984,
          2.467633008956909,
          -10.42039680480957,
          -2.0495426654815674,
          18.629287719726562,
          -3.866100549697876,
          -3.4417152404785156,
          13.766286849975586,
          -1.8652030229568481,
          -12.816423416137695,
          -14.451164245605469,
          -2.1100144386291504,
          0.41630494594573975,
          -0.4906996488571167,
          -3.2235476970672607,
          -19.632366180419922,
          -14.713654518127441,
          2.012692928314209,
          8.30916690826416,
          -5.942705154418945,
          -15.775067329406738,
          0.8252216577529907,
          14.723709106445312,
          -8.997150421142578,
          -2.4175331592559814,
          -14.488517761230469,
          -18.774700164794922,
          -20.288908004760742,
          -0.4309544563293457,
          9.793193817138672,
          1.3764681816101074,
          -11.406861305236816,
          -3.521369457244873,
          6.075279235839844,
          -13.179035186767578,
          7.82171106338501,
          20.65580940246582,
          5.5540313720703125,
          -12.661812782287598,
          -8.501839637756348,
          -6.573327541351318,
          0.09315650165081024,
          -4.500155925750732,
          -6.399728298187256,
          7.206862449645996,
          -5.2064433097839355,
          3.3513805866241455,
          -12.612277030944824,
          -4.526706218719482,
          -5.469385623931885,
          2.880140542984009,
          8.836865425109863,
          2.4062187671661377,
          7.613710880279541,
          -16.787572860717773,
          -1.3865091800689697,
          -3.6434054374694824,
          -1.91858971118927,
          17.21455955505371,
          -2.020009994506836,
          -11.21380615234375,
          -15.712942123413086,
          4.065981388092041,
          -13.793731689453125,
          -9.118227005004883,
          -2.4712135791778564,
          1.7387858629226685,
          3.4585466384887695,
          -0.008308624848723412,
          -14.97142219543457,
          -7.708767414093018,
          -1.4448190927505493,
          -3.282470226287842,
          6.053259372711182,
          -9.598556518554688,
          10.092452049255371,
          5.102226257324219,
          -4.544373035430908,
          -1.0548170804977417,
          12.521617889404297,
          -11.742707252502441,
          9.091431617736816,
          -11.407709121704102,
          -1.867967128753662,
          14.417972564697266,
          -10.299074172973633,
          -4.467390060424805,
          -2.8232507705688477,
          7.3921380043029785,
          12.20920181274414,
          6.176505088806152,
          -5.810250282287598,
          3.265299081802368,
          5.261988639831543,
          -11.066754341125488,
          3.9523613452911377,
          2.939992666244507,
          12.36972713470459,
          18.153993606567383,
          -2.821622848510742,
          -11.07690143585205,
          -7.811609745025635,
          10.762116432189941,
          -12.570880889892578,
          1.5492404699325562,
          13.694669723510742,
          6.8805341720581055,
          6.539261341094971,
          -9.565771102905273,
          -9.193782806396484,
          -1.792994737625122,
          -21.784040451049805,
          1.4267123937606812,
          -3.0062060356140137,
          -11.165346145629883,
          -7.4159345626831055,
          -6.170834541320801,
          -9.073101997375488,
          -4.650474548339844,
          7.356935501098633,
          -8.395761489868164,
          -5.987155437469482,
          6.529119968414307,
          1.1630384922027588,
          -7.7196197509765625,
          4.689942836761475,
          17.505191802978516,
          -11.702860832214355,
          0.8774794340133667,
          -3.5630743503570557,
          -9.52171516418457,
          2.9223270416259766,
          17.391210556030273,
          -12.956579208374023,
          -10.697562217712402,
          -4.343214511871338,
          16.512859344482422,
          2.2146646976470947,
          5.64412260055542,
          -6.809724807739258,
          15.126049995422363,
          -21.293790817260742,
          -11.184929847717285,
          8.553071022033691,
          17.121301651000977,
          4.3062849044799805,
          4.687947750091553,
          13.968772888183594,
          -0.9194875955581665,
          13.35081958770752,
          5.809920310974121,
          14.024653434753418,
          10.920159339904785,
          8.355667114257812,
          -8.783065795898438,
          -6.839254379272461,
          14.247979164123535,
          14.647427558898926,
          -2.0182814598083496,
          -3.944824695587158,
          0.0678168386220932,
          5.1168084144592285,
          7.972582817077637,
          14.319786071777344,
          -9.37433910369873,
          -14.719515800476074,
          -7.0126237869262695,
          2.5760838985443115,
          7.3518595695495605,
          2.9404349327087402,
          -7.231126308441162,
          3.7558979988098145,
          7.746030330657959,
          2.685015916824341,
          19.746387481689453,
          -12.995102882385254,
          -6.208876132965088,
          11.95009708404541,
          8.344795227050781,
          8.402647018432617,
          -2.0853445529937744,
          -5.473391532897949,
          -9.120969772338867,
          -10.839025497436523,
          10.030744552612305,
          -5.478127956390381,
          16.63540267944336,
          3.6082921028137207,
          -0.1245676651597023,
          -5.397235870361328,
          -10.521495819091797,
          7.1516594886779785,
          12.197197914123535,
          6.4431939125061035,
          -16.36980628967285,
          9.571939468383789,
          2.502345561981201,
          4.041836261749268,
          -17.20288848876953,
          -0.7472502589225769,
          9.515257835388184,
          13.022261619567871,
          -0.0632561445236206,
          16.2088565826416,
          -17.671588897705078,
          1.0677359104156494,
          -0.9984022974967957,
          0.6120763421058655,
          -12.182482719421387,
          11.862028121948242,
          7.648739337921143,
          -16.30132484436035,
          -3.9282453060150146,
          -7.230927467346191,
          -16.930313110351562,
          -3.0563623905181885,
          -3.2011775970458984,
          2.579843282699585,
          -3.2075934410095215,
          -12.224885940551758,
          10.785085678100586,
          -7.180019378662109,
          -8.502642631530762,
          -11.543228149414062,
          5.890398025512695,
          -2.0095858573913574,
          -10.384389877319336,
          -6.5097832679748535,
          -18.18816566467285,
          10.176172256469727,
          -11.138737678527832,
          11.752381324768066,
          -8.173300743103027,
          -8.427985191345215,
          -14.6503267288208,
          14.223020553588867,
          -16.699769973754883,
          4.910542964935303,
          -9.685138702392578,
          -6.4183349609375,
          -1.4558846950531006,
          8.983044624328613,
          -1.9204127788543701,
          -13.626667022705078,
          17.53852653503418,
          -12.488380432128906,
          -3.830350637435913,
          9.607158660888672,
          4.943822383880615,
          -9.482003211975098,
          7.191015720367432,
          13.956300735473633,
          -6.25961971282959,
          -13.681857109069824,
          -0.010867511853575706,
          20.26938247680664,
          -5.2327189445495605,
          0.26632097363471985,
          -8.447799682617188,
          14.262929916381836,
          0.06980808824300766,
          3.580559492111206,
          -20.370140075683594,
          -0.6935805678367615,
          -7.749148368835449,
          15.240543365478516,
          17.733652114868164,
          -5.481332302093506,
          -13.905793190002441,
          -14.141255378723145,
          -3.218770980834961,
          -9.028849601745605,
          4.000086784362793,
          3.618886947631836,
          -20.37704086303711,
          -1.4732439517974854,
          -14.911859512329102,
          -0.20538777112960815,
          10.54798698425293,
          -8.805526733398438,
          3.010767698287964,
          0.36562493443489075,
          -14.405072212219238,
          2.9527785778045654,
          -9.544953346252441,
          9.537578582763672,
          -6.890133380889893,
          -11.786260604858398,
          7.309235572814941,
          3.7789981365203857,
          -15.554936408996582,
          -10.326057434082031,
          16.804533004760742,
          14.49144172668457,
          13.26928424835205,
          -9.16431713104248,
          -16.59113121032715,
          0.7865534424781799,
          4.48448371887207,
          18.385713577270508,
          1.8047069311141968,
          3.5066514015197754,
          -9.616551399230957,
          1.1562247276306152,
          -7.094693660736084,
          14.71566390991211,
          -7.047747611999512,
          -4.644406795501709,
          -9.905549049377441,
          -6.098250865936279,
          12.1535062789917,
          -0.8971757292747498,
          -13.990424156188965,
          3.470109462738037,
          4.0785346031188965,
          8.25162410736084,
          -10.210962295532227,
          -2.6304819583892822,
          8.906193733215332,
          -3.87453293800354,
          -19.991622924804688,
          -2.4938454627990723,
          1.152135968208313,
          3.0889575481414795,
          3.07629656791687,
          2.5617153644561768,
          -5.8679585456848145,
          -17.68659782409668,
          6.484330177307129,
          2.3267691135406494,
          5.598840236663818,
          -7.182610034942627,
          0.13789305090904236,
          -4.173823833465576,
          -3.0741398334503174,
          10.814441680908203,
          -8.652710914611816,
          -7.211245536804199,
          4.80120849609375,
          -5.189023017883301,
          -13.320576667785645,
          -12.490097045898438,
          -10.644412994384766,
          15.821779251098633,
          19.484025955200195,
          -20.278270721435547,
          -11.205733299255371,
          1.3935047388076782,
          -4.807463645935059,
          -0.36428579688072205,
          -18.515268325805664,
          16.911527633666992,
          -5.028547763824463,
          2.385110855102539,
          -11.425460815429688,
          4.485161304473877,
          -3.9127824306488037,
          1.5183690786361694,
          3.0090110301971436,
          -5.711679458618164,
          -4.45819091796875,
          -1.2684245109558105,
          -2.4095823764801025,
          9.924126625061035,
          15.545178413391113,
          6.93177604675293,
          -6.9855194091796875,
          1.4816373586654663,
          16.741283416748047,
          -2.741608142852783,
          5.842573165893555,
          -16.17031478881836,
          17.884729385375977,
          7.855564594268799,
          -2.340684413909912,
          -15.484490394592285,
          6.276320457458496,
          2.0872890949249268,
          11.846586227416992,
          12.154157638549805,
          0.580192506313324,
          -8.76640796661377,
          -6.813814163208008,
          -3.244473695755005,
          -17.138769149780273,
          15.069756507873535,
          13.13594913482666,
          7.3745832443237305,
          -3.2620997428894043,
          -0.9420578479766846
         ]
        }
       ],
       "layout": {
        "template": {
         "data": {
          "bar": [
           {
            "error_x": {
             "color": "#2a3f5f"
            },
            "error_y": {
             "color": "#2a3f5f"
            },
            "marker": {
             "line": {
              "color": "#E5ECF6",
              "width": 0.5
             }
            },
            "type": "bar"
           }
          ],
          "barpolar": [
           {
            "marker": {
             "line": {
              "color": "#E5ECF6",
              "width": 0.5
             }
            },
            "type": "barpolar"
           }
          ],
          "carpet": [
           {
            "aaxis": {
             "endlinecolor": "#2a3f5f",
             "gridcolor": "white",
             "linecolor": "white",
             "minorgridcolor": "white",
             "startlinecolor": "#2a3f5f"
            },
            "baxis": {
             "endlinecolor": "#2a3f5f",
             "gridcolor": "white",
             "linecolor": "white",
             "minorgridcolor": "white",
             "startlinecolor": "#2a3f5f"
            },
            "type": "carpet"
           }
          ],
          "choropleth": [
           {
            "colorbar": {
             "outlinewidth": 0,
             "ticks": ""
            },
            "type": "choropleth"
           }
          ],
          "contour": [
           {
            "colorbar": {
             "outlinewidth": 0,
             "ticks": ""
            },
            "colorscale": [
             [
              0,
              "#0d0887"
             ],
             [
              0.1111111111111111,
              "#46039f"
             ],
             [
              0.2222222222222222,
              "#7201a8"
             ],
             [
              0.3333333333333333,
              "#9c179e"
             ],
             [
              0.4444444444444444,
              "#bd3786"
             ],
             [
              0.5555555555555556,
              "#d8576b"
             ],
             [
              0.6666666666666666,
              "#ed7953"
             ],
             [
              0.7777777777777778,
              "#fb9f3a"
             ],
             [
              0.8888888888888888,
              "#fdca26"
             ],
             [
              1,
              "#f0f921"
             ]
            ],
            "type": "contour"
           }
          ],
          "contourcarpet": [
           {
            "colorbar": {
             "outlinewidth": 0,
             "ticks": ""
            },
            "type": "contourcarpet"
           }
          ],
          "heatmap": [
           {
            "colorbar": {
             "outlinewidth": 0,
             "ticks": ""
            },
            "colorscale": [
             [
              0,
              "#0d0887"
             ],
             [
              0.1111111111111111,
              "#46039f"
             ],
             [
              0.2222222222222222,
              "#7201a8"
             ],
             [
              0.3333333333333333,
              "#9c179e"
             ],
             [
              0.4444444444444444,
              "#bd3786"
             ],
             [
              0.5555555555555556,
              "#d8576b"
             ],
             [
              0.6666666666666666,
              "#ed7953"
             ],
             [
              0.7777777777777778,
              "#fb9f3a"
             ],
             [
              0.8888888888888888,
              "#fdca26"
             ],
             [
              1,
              "#f0f921"
             ]
            ],
            "type": "heatmap"
           }
          ],
          "heatmapgl": [
           {
            "colorbar": {
             "outlinewidth": 0,
             "ticks": ""
            },
            "colorscale": [
             [
              0,
              "#0d0887"
             ],
             [
              0.1111111111111111,
              "#46039f"
             ],
             [
              0.2222222222222222,
              "#7201a8"
             ],
             [
              0.3333333333333333,
              "#9c179e"
             ],
             [
              0.4444444444444444,
              "#bd3786"
             ],
             [
              0.5555555555555556,
              "#d8576b"
             ],
             [
              0.6666666666666666,
              "#ed7953"
             ],
             [
              0.7777777777777778,
              "#fb9f3a"
             ],
             [
              0.8888888888888888,
              "#fdca26"
             ],
             [
              1,
              "#f0f921"
             ]
            ],
            "type": "heatmapgl"
           }
          ],
          "histogram": [
           {
            "marker": {
             "colorbar": {
              "outlinewidth": 0,
              "ticks": ""
             }
            },
            "type": "histogram"
           }
          ],
          "histogram2d": [
           {
            "colorbar": {
             "outlinewidth": 0,
             "ticks": ""
            },
            "colorscale": [
             [
              0,
              "#0d0887"
             ],
             [
              0.1111111111111111,
              "#46039f"
             ],
             [
              0.2222222222222222,
              "#7201a8"
             ],
             [
              0.3333333333333333,
              "#9c179e"
             ],
             [
              0.4444444444444444,
              "#bd3786"
             ],
             [
              0.5555555555555556,
              "#d8576b"
             ],
             [
              0.6666666666666666,
              "#ed7953"
             ],
             [
              0.7777777777777778,
              "#fb9f3a"
             ],
             [
              0.8888888888888888,
              "#fdca26"
             ],
             [
              1,
              "#f0f921"
             ]
            ],
            "type": "histogram2d"
           }
          ],
          "histogram2dcontour": [
           {
            "colorbar": {
             "outlinewidth": 0,
             "ticks": ""
            },
            "colorscale": [
             [
              0,
              "#0d0887"
             ],
             [
              0.1111111111111111,
              "#46039f"
             ],
             [
              0.2222222222222222,
              "#7201a8"
             ],
             [
              0.3333333333333333,
              "#9c179e"
             ],
             [
              0.4444444444444444,
              "#bd3786"
             ],
             [
              0.5555555555555556,
              "#d8576b"
             ],
             [
              0.6666666666666666,
              "#ed7953"
             ],
             [
              0.7777777777777778,
              "#fb9f3a"
             ],
             [
              0.8888888888888888,
              "#fdca26"
             ],
             [
              1,
              "#f0f921"
             ]
            ],
            "type": "histogram2dcontour"
           }
          ],
          "mesh3d": [
           {
            "colorbar": {
             "outlinewidth": 0,
             "ticks": ""
            },
            "type": "mesh3d"
           }
          ],
          "parcoords": [
           {
            "line": {
             "colorbar": {
              "outlinewidth": 0,
              "ticks": ""
             }
            },
            "type": "parcoords"
           }
          ],
          "pie": [
           {
            "automargin": true,
            "type": "pie"
           }
          ],
          "scatter": [
           {
            "marker": {
             "colorbar": {
              "outlinewidth": 0,
              "ticks": ""
             }
            },
            "type": "scatter"
           }
          ],
          "scatter3d": [
           {
            "line": {
             "colorbar": {
              "outlinewidth": 0,
              "ticks": ""
             }
            },
            "marker": {
             "colorbar": {
              "outlinewidth": 0,
              "ticks": ""
             }
            },
            "type": "scatter3d"
           }
          ],
          "scattercarpet": [
           {
            "marker": {
             "colorbar": {
              "outlinewidth": 0,
              "ticks": ""
             }
            },
            "type": "scattercarpet"
           }
          ],
          "scattergeo": [
           {
            "marker": {
             "colorbar": {
              "outlinewidth": 0,
              "ticks": ""
             }
            },
            "type": "scattergeo"
           }
          ],
          "scattergl": [
           {
            "marker": {
             "colorbar": {
              "outlinewidth": 0,
              "ticks": ""
             }
            },
            "type": "scattergl"
           }
          ],
          "scattermapbox": [
           {
            "marker": {
             "colorbar": {
              "outlinewidth": 0,
              "ticks": ""
             }
            },
            "type": "scattermapbox"
           }
          ],
          "scatterpolar": [
           {
            "marker": {
             "colorbar": {
              "outlinewidth": 0,
              "ticks": ""
             }
            },
            "type": "scatterpolar"
           }
          ],
          "scatterpolargl": [
           {
            "marker": {
             "colorbar": {
              "outlinewidth": 0,
              "ticks": ""
             }
            },
            "type": "scatterpolargl"
           }
          ],
          "scatterternary": [
           {
            "marker": {
             "colorbar": {
              "outlinewidth": 0,
              "ticks": ""
             }
            },
            "type": "scatterternary"
           }
          ],
          "surface": [
           {
            "colorbar": {
             "outlinewidth": 0,
             "ticks": ""
            },
            "colorscale": [
             [
              0,
              "#0d0887"
             ],
             [
              0.1111111111111111,
              "#46039f"
             ],
             [
              0.2222222222222222,
              "#7201a8"
             ],
             [
              0.3333333333333333,
              "#9c179e"
             ],
             [
              0.4444444444444444,
              "#bd3786"
             ],
             [
              0.5555555555555556,
              "#d8576b"
             ],
             [
              0.6666666666666666,
              "#ed7953"
             ],
             [
              0.7777777777777778,
              "#fb9f3a"
             ],
             [
              0.8888888888888888,
              "#fdca26"
             ],
             [
              1,
              "#f0f921"
             ]
            ],
            "type": "surface"
           }
          ],
          "table": [
           {
            "cells": {
             "fill": {
              "color": "#EBF0F8"
             },
             "line": {
              "color": "white"
             }
            },
            "header": {
             "fill": {
              "color": "#C8D4E3"
             },
             "line": {
              "color": "white"
             }
            },
            "type": "table"
           }
          ]
         },
         "layout": {
          "annotationdefaults": {
           "arrowcolor": "#2a3f5f",
           "arrowhead": 0,
           "arrowwidth": 1
          },
          "coloraxis": {
           "colorbar": {
            "outlinewidth": 0,
            "ticks": ""
           }
          },
          "colorscale": {
           "diverging": [
            [
             0,
             "#8e0152"
            ],
            [
             0.1,
             "#c51b7d"
            ],
            [
             0.2,
             "#de77ae"
            ],
            [
             0.3,
             "#f1b6da"
            ],
            [
             0.4,
             "#fde0ef"
            ],
            [
             0.5,
             "#f7f7f7"
            ],
            [
             0.6,
             "#e6f5d0"
            ],
            [
             0.7,
             "#b8e186"
            ],
            [
             0.8,
             "#7fbc41"
            ],
            [
             0.9,
             "#4d9221"
            ],
            [
             1,
             "#276419"
            ]
           ],
           "sequential": [
            [
             0,
             "#0d0887"
            ],
            [
             0.1111111111111111,
             "#46039f"
            ],
            [
             0.2222222222222222,
             "#7201a8"
            ],
            [
             0.3333333333333333,
             "#9c179e"
            ],
            [
             0.4444444444444444,
             "#bd3786"
            ],
            [
             0.5555555555555556,
             "#d8576b"
            ],
            [
             0.6666666666666666,
             "#ed7953"
            ],
            [
             0.7777777777777778,
             "#fb9f3a"
            ],
            [
             0.8888888888888888,
             "#fdca26"
            ],
            [
             1,
             "#f0f921"
            ]
           ],
           "sequentialminus": [
            [
             0,
             "#0d0887"
            ],
            [
             0.1111111111111111,
             "#46039f"
            ],
            [
             0.2222222222222222,
             "#7201a8"
            ],
            [
             0.3333333333333333,
             "#9c179e"
            ],
            [
             0.4444444444444444,
             "#bd3786"
            ],
            [
             0.5555555555555556,
             "#d8576b"
            ],
            [
             0.6666666666666666,
             "#ed7953"
            ],
            [
             0.7777777777777778,
             "#fb9f3a"
            ],
            [
             0.8888888888888888,
             "#fdca26"
            ],
            [
             1,
             "#f0f921"
            ]
           ]
          },
          "colorway": [
           "#636efa",
           "#EF553B",
           "#00cc96",
           "#ab63fa",
           "#FFA15A",
           "#19d3f3",
           "#FF6692",
           "#B6E880",
           "#FF97FF",
           "#FECB52"
          ],
          "font": {
           "color": "#2a3f5f"
          },
          "geo": {
           "bgcolor": "white",
           "lakecolor": "white",
           "landcolor": "#E5ECF6",
           "showlakes": true,
           "showland": true,
           "subunitcolor": "white"
          },
          "hoverlabel": {
           "align": "left"
          },
          "hovermode": "closest",
          "mapbox": {
           "style": "light"
          },
          "paper_bgcolor": "white",
          "plot_bgcolor": "#E5ECF6",
          "polar": {
           "angularaxis": {
            "gridcolor": "white",
            "linecolor": "white",
            "ticks": ""
           },
           "bgcolor": "#E5ECF6",
           "radialaxis": {
            "gridcolor": "white",
            "linecolor": "white",
            "ticks": ""
           }
          },
          "scene": {
           "xaxis": {
            "backgroundcolor": "#E5ECF6",
            "gridcolor": "white",
            "gridwidth": 2,
            "linecolor": "white",
            "showbackground": true,
            "ticks": "",
            "zerolinecolor": "white"
           },
           "yaxis": {
            "backgroundcolor": "#E5ECF6",
            "gridcolor": "white",
            "gridwidth": 2,
            "linecolor": "white",
            "showbackground": true,
            "ticks": "",
            "zerolinecolor": "white"
           },
           "zaxis": {
            "backgroundcolor": "#E5ECF6",
            "gridcolor": "white",
            "gridwidth": 2,
            "linecolor": "white",
            "showbackground": true,
            "ticks": "",
            "zerolinecolor": "white"
           }
          },
          "shapedefaults": {
           "line": {
            "color": "#2a3f5f"
           }
          },
          "ternary": {
           "aaxis": {
            "gridcolor": "white",
            "linecolor": "white",
            "ticks": ""
           },
           "baxis": {
            "gridcolor": "white",
            "linecolor": "white",
            "ticks": ""
           },
           "bgcolor": "#E5ECF6",
           "caxis": {
            "gridcolor": "white",
            "linecolor": "white",
            "ticks": ""
           }
          },
          "title": {
           "x": 0.05
          },
          "xaxis": {
           "automargin": true,
           "gridcolor": "white",
           "linecolor": "white",
           "ticks": "",
           "title": {
            "standoff": 15
           },
           "zerolinecolor": "white",
           "zerolinewidth": 2
          },
          "yaxis": {
           "automargin": true,
           "gridcolor": "white",
           "linecolor": "white",
           "ticks": "",
           "title": {
            "standoff": 15
           },
           "zerolinecolor": "white",
           "zerolinewidth": 2
          }
         }
        },
        "title": {
         "text": "Word2Vec 2D Career Map"
        }
       }
      }
     },
     "metadata": {}
    }
   ],
   "source": [
    "import plotly.graph_objects as go\n",
    "# Display data\n",
    "fig = go.Figure()\n",
    "\n",
    "fig.add_trace(go.Scatter(\n",
    "    x=w2v_visual[:,0], y=w2v_visual[:,1],\n",
    "    text=train['posTitle'], # ! LABELS ARE WRONG\n",
    "    mode='markers',\n",
    "    marker_color='rgba(255, 182, 193, .8)'\n",
    "))\n",
    "fig.update_layout(title='Word2Vec 2D Career Map')"
   ]
  },
  {
   "cell_type": "code",
   "execution_count": null,
   "metadata": {},
   "outputs": [],
   "source": []
  }
 ]
}