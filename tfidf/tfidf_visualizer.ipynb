{
 "metadata": {
  "language_info": {
   "codemirror_mode": {
    "name": "ipython",
    "version": 3
   },
   "file_extension": ".py",
   "mimetype": "text/x-python",
   "name": "python",
   "nbconvert_exporter": "python",
   "pygments_lexer": "ipython3",
   "version": "3.7.6-final"
  },
  "orig_nbformat": 2,
  "kernelspec": {
   "name": "python_defaultSpec_1598745406127",
   "display_name": "Python 3.7.6 64-bit ('Tensorflow': virtualenv)"
  }
 },
 "nbformat": 4,
 "nbformat_minor": 2,
 "cells": [
  {
   "cell_type": "code",
   "execution_count": 25,
   "metadata": {
    "tags": []
   },
   "outputs": [
    {
     "output_type": "stream",
     "name": "stdout",
     "text": "(1632, 344)\n"
    },
    {
     "output_type": "execute_result",
     "data": {
      "text/plain": "   academic  account  accountant  accounts  adjunct  administration  \\\n0       0.0      0.0         0.0       0.0      0.0             0.0   \n1       0.0      0.0         0.0       0.0      0.0             0.0   \n2       0.0      0.0         0.0       0.0      0.0             0.0   \n\n   administrative  administrator  adviser  advisor  ...  vice  video  \\\n0             0.0            0.0      0.0      0.0  ...   0.0    0.0   \n1             0.0            0.0      0.0      0.0  ...   0.0    0.0   \n2             0.0            0.0      0.0      0.0  ...   0.0    0.0   \n\n   visiting  visual  volunteer   vp  web  work  worker  writer  \n0       0.0     0.0        0.0  0.0  0.0   0.0     0.0     0.0  \n1       0.0     0.0        0.0  0.0  0.0   0.0     0.0     0.0  \n2       0.0     0.0        0.0  0.0  0.0   0.0     0.0     0.0  \n\n[3 rows x 344 columns]",
      "text/html": "<div>\n<style scoped>\n    .dataframe tbody tr th:only-of-type {\n        vertical-align: middle;\n    }\n\n    .dataframe tbody tr th {\n        vertical-align: top;\n    }\n\n    .dataframe thead th {\n        text-align: right;\n    }\n</style>\n<table border=\"1\" class=\"dataframe\">\n  <thead>\n    <tr style=\"text-align: right;\">\n      <th></th>\n      <th>academic</th>\n      <th>account</th>\n      <th>accountant</th>\n      <th>accounts</th>\n      <th>adjunct</th>\n      <th>administration</th>\n      <th>administrative</th>\n      <th>administrator</th>\n      <th>adviser</th>\n      <th>advisor</th>\n      <th>...</th>\n      <th>vice</th>\n      <th>video</th>\n      <th>visiting</th>\n      <th>visual</th>\n      <th>volunteer</th>\n      <th>vp</th>\n      <th>web</th>\n      <th>work</th>\n      <th>worker</th>\n      <th>writer</th>\n    </tr>\n  </thead>\n  <tbody>\n    <tr>\n      <th>0</th>\n      <td>0.0</td>\n      <td>0.0</td>\n      <td>0.0</td>\n      <td>0.0</td>\n      <td>0.0</td>\n      <td>0.0</td>\n      <td>0.0</td>\n      <td>0.0</td>\n      <td>0.0</td>\n      <td>0.0</td>\n      <td>...</td>\n      <td>0.0</td>\n      <td>0.0</td>\n      <td>0.0</td>\n      <td>0.0</td>\n      <td>0.0</td>\n      <td>0.0</td>\n      <td>0.0</td>\n      <td>0.0</td>\n      <td>0.0</td>\n      <td>0.0</td>\n    </tr>\n    <tr>\n      <th>1</th>\n      <td>0.0</td>\n      <td>0.0</td>\n      <td>0.0</td>\n      <td>0.0</td>\n      <td>0.0</td>\n      <td>0.0</td>\n      <td>0.0</td>\n      <td>0.0</td>\n      <td>0.0</td>\n      <td>0.0</td>\n      <td>...</td>\n      <td>0.0</td>\n      <td>0.0</td>\n      <td>0.0</td>\n      <td>0.0</td>\n      <td>0.0</td>\n      <td>0.0</td>\n      <td>0.0</td>\n      <td>0.0</td>\n      <td>0.0</td>\n      <td>0.0</td>\n    </tr>\n    <tr>\n      <th>2</th>\n      <td>0.0</td>\n      <td>0.0</td>\n      <td>0.0</td>\n      <td>0.0</td>\n      <td>0.0</td>\n      <td>0.0</td>\n      <td>0.0</td>\n      <td>0.0</td>\n      <td>0.0</td>\n      <td>0.0</td>\n      <td>...</td>\n      <td>0.0</td>\n      <td>0.0</td>\n      <td>0.0</td>\n      <td>0.0</td>\n      <td>0.0</td>\n      <td>0.0</td>\n      <td>0.0</td>\n      <td>0.0</td>\n      <td>0.0</td>\n      <td>0.0</td>\n    </tr>\n  </tbody>\n</table>\n<p>3 rows × 344 columns</p>\n</div>"
     },
     "metadata": {},
     "execution_count": 25
    }
   ],
   "source": [
    "# Libraries used to train models & manipulate data\n",
    "import numpy as np\n",
    "import pandas as pd\n",
    "\n",
    "# Recalculate the tsne 2-3D visualization of the career map (it takes a while)\n",
    "data = pd.read_csv('tfidf_positions.csv')\n",
    "vecs = data.drop('posTitle', axis=1)\n",
    "\n",
    "print(vecs.shape)\n",
    "vecs.head(3)"
   ]
  },
  {
   "cell_type": "code",
   "execution_count": 26,
   "metadata": {
    "tags": []
   },
   "outputs": [
    {
     "output_type": "stream",
     "name": "stdout",
     "text": "[t-SNE] Computing 91 nearest neighbors...\n[t-SNE] Indexed 1632 samples in 0.117s...\n[t-SNE] Computed neighbors for 1632 samples in 1.800s...\n[t-SNE] Computed conditional probabilities for sample 1000 / 1632\n[t-SNE] Computed conditional probabilities for sample 1632 / 1632\n[t-SNE] Mean sigma: 0.000000\n[t-SNE] KL divergence after 250 iterations with early exaggeration: 89.808464\n[t-SNE] KL divergence after 1000 iterations: 1.528548\n"
    }
   ],
   "source": [
    "# Collapse NxM vecotrs to Nx2 in order to visual data\n",
    "# Principal component analysis (PCA), vs t-Distributed Stochastic Neighbour Embedding (t-SNE)\n",
    "# https://scikit-learn.org/stable/modules/generated/sklearn.decomposition.PCA.html\n",
    "# https://nbviewer.jupyter.org/urls/gist.githubusercontent.com/AlexanderFabisch/1a0c648de22eff4a2a3e/raw/59d5bc5ed8f8bfd9ff1f7faa749d1b095aa97d5a/t-SNE.ipynb\n",
    "from sklearn.manifold import TSNE\n",
    "\n",
    "# Collapse matrix into Nx2\n",
    "tsne = TSNE(n_components=visual_dims, random_state=0, verbose=1)\n",
    "vec_visual = tsne.fit_transform(vecs)"
   ]
  },
  {
   "cell_type": "code",
   "execution_count": 29,
   "metadata": {},
   "outputs": [
    {
     "output_type": "execute_result",
     "data": {
      "text/plain": "                  posTitle          x          y           tfidfKey  \\\n0            guest speaker  29.912535  35.412914      guest speaker   \n2        graduate engineer -11.897299  33.614655  graduate engineer   \n52  senior sales assistant  29.175669  -1.665344    sales assistant   \n\n    tfidfKeyNum  \n0            39  \n2           381  \n52          423  ",
      "text/html": "<div>\n<style scoped>\n    .dataframe tbody tr th:only-of-type {\n        vertical-align: middle;\n    }\n\n    .dataframe tbody tr th {\n        vertical-align: top;\n    }\n\n    .dataframe thead th {\n        text-align: right;\n    }\n</style>\n<table border=\"1\" class=\"dataframe\">\n  <thead>\n    <tr style=\"text-align: right;\">\n      <th></th>\n      <th>posTitle</th>\n      <th>x</th>\n      <th>y</th>\n      <th>tfidfKey</th>\n      <th>tfidfKeyNum</th>\n    </tr>\n  </thead>\n  <tbody>\n    <tr>\n      <th>0</th>\n      <td>guest speaker</td>\n      <td>29.912535</td>\n      <td>35.412914</td>\n      <td>guest speaker</td>\n      <td>39</td>\n    </tr>\n    <tr>\n      <th>2</th>\n      <td>graduate engineer</td>\n      <td>-11.897299</td>\n      <td>33.614655</td>\n      <td>graduate engineer</td>\n      <td>381</td>\n    </tr>\n    <tr>\n      <th>52</th>\n      <td>senior sales assistant</td>\n      <td>29.175669</td>\n      <td>-1.665344</td>\n      <td>sales assistant</td>\n      <td>423</td>\n    </tr>\n  </tbody>\n</table>\n</div>"
     },
     "metadata": {},
     "execution_count": 29
    }
   ],
   "source": [
    "# Add color\n",
    "dump = pd.read_csv('../dump_cleaned.csv')\n",
    "# Join the visualization vectors\n",
    "vec_vis = pd.DataFrame(vec_visual, columns=['x', 'y'])\n",
    "df = data.join(vec_vis)\n",
    "# Join the tfidf categories\n",
    "df = pd.merge(df, dump, on='posTitle')\n",
    "df = df.filter(['posTitle', 'x', 'y', 'tfidfKey', 'tfidfKeyNum'])\n",
    "df = df.drop_duplicates()\n",
    "df.head(3)"
   ]
  },
  {
   "cell_type": "code",
   "execution_count": 39,
   "metadata": {
    "tags": []
   },
   "outputs": [
    {
     "output_type": "display_data",
     "data": {
      "application/vnd.plotly.v1+json": {
       "config": {
        "plotlyServerURL": "https://plot.ly"
       },
       "data": [
        {
         "customdata": [
          [
           "guest speaker"
          ],
          [
           "graduate engineer"
          ],
          [
           "sales assistant"
          ],
          [
           "software engineer"
          ],
          [
           "software engineer"
          ],
          [
           "misc"
          ],
          [
           "manager"
          ],
          [
           "crew member"
          ],
          [
           "commercial analyst"
          ],
          [
           "student intern"
          ],
          [
           "misc"
          ],
          [
           "marketing coordinator"
          ],
          [
           "specialist technician"
          ],
          [
           "technical developer"
          ],
          [
           "committee president"
          ],
          [
           "national business"
          ],
          [
           "major accounts"
          ],
          [
           "team leader"
          ],
          [
           "key account"
          ],
          [
           "account manager"
          ],
          [
           "sales coordinator"
          ],
          [
           "public relations"
          ],
          [
           "retail sales"
          ],
          [
           "misc"
          ],
          [
           "customer service"
          ],
          [
           "sales representative"
          ],
          [
           "project officer"
          ],
          [
           "operations officer"
          ],
          [
           "research officer"
          ],
          [
           "editor chief"
          ],
          [
           "research assistant"
          ],
          [
           "group accountant"
          ],
          [
           "structural engineer"
          ],
          [
           "architectural technician"
          ],
          [
           "software developer"
          ],
          [
           "lecturer tutor"
          ],
          [
           "sales associate"
          ],
          [
           "general counsel"
          ],
          [
           "associate manager"
          ],
          [
           "commercial lawyer"
          ],
          [
           "associate manager"
          ],
          [
           "site supervisor"
          ],
          [
           "quality assurance"
          ],
          [
           "student intern"
          ],
          [
           "student advisor"
          ],
          [
           "associate engineer"
          ],
          [
           "engineer"
          ],
          [
           "student advisor"
          ],
          [
           "occupational student"
          ],
          [
           "management consultant"
          ],
          [
           "project manager"
          ],
          [
           "sales associate"
          ],
          [
           "sales assistant"
          ],
          [
           "various"
          ],
          [
           "head coach"
          ],
          [
           "team member"
          ],
          [
           "change analyst"
          ],
          [
           "property manager"
          ],
          [
           "project assistant"
          ],
          [
           "financial planner"
          ],
          [
           "brand ambassador"
          ],
          [
           "food beverage"
          ],
          [
           "teaching associate"
          ],
          [
           "technical officer"
          ],
          [
           "assistant director"
          ],
          [
           "senior director"
          ],
          [
           "sales representative"
          ],
          [
           "service agent"
          ],
          [
           "misc"
          ],
          [
           "marketing executive"
          ],
          [
           "public relations"
          ],
          [
           "student advisor"
          ],
          [
           "content writer"
          ],
          [
           "digital media"
          ],
          [
           "assistant store"
          ],
          [
           "facilities manager"
          ],
          [
           "operations manager"
          ],
          [
           "construction manager"
          ],
          [
           "marketing manager"
          ],
          [
           "digital marketing"
          ],
          [
           "digital manager"
          ],
          [
           "business development"
          ],
          [
           "marketing director"
          ],
          [
           "trainee accountant"
          ],
          [
           "graduate program"
          ],
          [
           "service supervisor"
          ],
          [
           "business analyst"
          ],
          [
           "student intern"
          ],
          [
           "project director"
          ],
          [
           "sessional instructor"
          ],
          [
           "freelance designer"
          ],
          [
           "casual academic"
          ],
          [
           "academic tutor"
          ],
          [
           "head teacher"
          ],
          [
           "consultant"
          ],
          [
           "recruitment consultant"
          ],
          [
           "sponsorship director"
          ],
          [
           "senior consultant"
          ],
          [
           "team member"
          ],
          [
           "environmental officer"
          ],
          [
           "assistant store"
          ],
          [
           "customer service"
          ],
          [
           "clinical educator"
          ],
          [
           "travel consultant"
          ],
          [
           "associate manager"
          ],
          [
           "residential agent"
          ],
          [
           "program manager"
          ],
          [
           "head coach"
          ],
          [
           "field engineer"
          ],
          [
           "misc"
          ],
          [
           "vice president"
          ],
          [
           "assistant secretary"
          ],
          [
           "associate director"
          ],
          [
           "account manager"
          ],
          [
           "account executive"
          ],
          [
           "misc"
          ],
          [
           "council member"
          ],
          [
           "shift supervisor"
          ],
          [
           "group representative"
          ],
          [
           "brand ambassador"
          ],
          [
           "board member"
          ],
          [
           "laboratory demonstrator"
          ],
          [
           "sales consultant"
          ],
          [
           "peer mentor"
          ],
          [
           "entrepreneur"
          ],
          [
           "assistant director"
          ],
          [
           "construction manager"
          ],
          [
           "postdoctoral researcher"
          ],
          [
           "lifeguard"
          ],
          [
           "work experience"
          ],
          [
           "personal underwriter"
          ],
          [
           "manager"
          ],
          [
           "founder director"
          ],
          [
           "deputy director"
          ],
          [
           "sales director"
          ],
          [
           "sessional academic"
          ],
          [
           "technical leader"
          ],
          [
           "strategic planner"
          ],
          [
           "strategic planner"
          ],
          [
           "law clerk"
          ],
          [
           "project manager"
          ],
          [
           "communications officer"
          ],
          [
           "legal intern"
          ],
          [
           "associate professor"
          ],
          [
           "research fellow"
          ],
          [
           "school teacher"
          ],
          [
           "general manager"
          ],
          [
           "head operations"
          ],
          [
           "non executive"
          ],
          [
           "misc"
          ],
          [
           "financial controller"
          ],
          [
           "sessional instructor"
          ],
          [
           "customer service"
          ],
          [
           "teacher librarian"
          ],
          [
           "data clerk"
          ],
          [
           "marketing assistant"
          ],
          [
           "paralegal"
          ],
          [
           "head teacher"
          ],
          [
           "content producer"
          ],
          [
           "head product"
          ],
          [
           "front end"
          ],
          [
           "web developer"
          ],
          [
           "technology advisor"
          ],
          [
           "engineering intern"
          ],
          [
           "sports physiotherapist"
          ],
          [
           "communications manager"
          ],
          [
           "pharmacy student"
          ],
          [
           "site supervisor"
          ],
          [
           "speech pathologist"
          ],
          [
           "speech student"
          ],
          [
           "student research"
          ],
          [
           "real estate"
          ],
          [
           "research coordinator"
          ],
          [
           "senior manager"
          ],
          [
           "data analyst"
          ],
          [
           "undergraduate engineer"
          ],
          [
           "freelance contributor"
          ],
          [
           "freelance copywriter"
          ],
          [
           "marketing intern"
          ],
          [
           "bank teller"
          ],
          [
           "associate lecturer"
          ],
          [
           "associate lecturer"
          ],
          [
           "customer service"
          ],
          [
           "office manager"
          ],
          [
           "administrative assistant"
          ],
          [
           "full stack"
          ],
          [
           "network engineer"
          ],
          [
           "student planner"
          ],
          [
           "administration manager"
          ],
          [
           "customer service"
          ],
          [
           "analyst"
          ],
          [
           "financial planner"
          ],
          [
           "misc"
          ],
          [
           "managing editor"
          ],
          [
           "recruitment consultant"
          ],
          [
           "client executive"
          ],
          [
           "research executive"
          ],
          [
           "graduate engineer"
          ],
          [
           "misc"
          ],
          [
           "policy officer"
          ],
          [
           "account executive"
          ],
          [
           "lead designer"
          ],
          [
           "graphic designer"
          ],
          [
           "graphic designer"
          ],
          [
           "campaign manager"
          ],
          [
           "design engineer"
          ],
          [
           "misc"
          ],
          [
           "relationship manager"
          ],
          [
           "communications intern"
          ],
          [
           "production supervisor"
          ],
          [
           "engineering manager"
          ],
          [
           "project engineer"
          ],
          [
           "business development"
          ],
          [
           "sales director"
          ],
          [
           "misc"
          ],
          [
           "business owner"
          ],
          [
           "business support"
          ],
          [
           "service analyst"
          ],
          [
           "associate partner"
          ],
          [
           "technical consultant"
          ],
          [
           "automation specialist"
          ],
          [
           "head product"
          ],
          [
           "analyst"
          ],
          [
           "manager"
          ],
          [
           "visual technician"
          ],
          [
           "communications manager"
          ],
          [
           "event coordinator"
          ],
          [
           "retail sales"
          ],
          [
           "student planner"
          ],
          [
           "quality analyst"
          ],
          [
           "electrician"
          ],
          [
           "project engineer"
          ],
          [
           "site engineer"
          ],
          [
           "service specialist"
          ],
          [
           "business director"
          ],
          [
           "community engagement"
          ],
          [
           "misc"
          ],
          [
           "head teacher"
          ],
          [
           "registered nurse"
          ],
          [
           "administration manager"
          ],
          [
           "graduate architect"
          ],
          [
           "paralegal"
          ],
          [
           "manager"
          ],
          [
           "business banking"
          ],
          [
           "marketing communications"
          ],
          [
           "desktop support"
          ],
          [
           "vacation clerk"
          ],
          [
           "property manager"
          ],
          [
           "misc"
          ],
          [
           "misc"
          ],
          [
           "client services"
          ],
          [
           "consultant developer"
          ],
          [
           "commercial lawyer"
          ],
          [
           "sales representative"
          ],
          [
           "communications intern"
          ],
          [
           "committee member"
          ],
          [
           "social media"
          ],
          [
           "assistant director"
          ],
          [
           "phd scholar"
          ],
          [
           "event coordinator"
          ],
          [
           "electrical engineer"
          ],
          [
           "data analyst"
          ],
          [
           "digital strategist"
          ],
          [
           "training facilitator"
          ],
          [
           "digital media"
          ],
          [
           "principal consultant"
          ],
          [
           "senior developer"
          ],
          [
           "web developer"
          ],
          [
           "analyst programmer"
          ],
          [
           "pricing analyst"
          ],
          [
           "mechanical engineer"
          ],
          [
           "retail sales"
          ],
          [
           "hr officer"
          ],
          [
           "project pharmacist"
          ],
          [
           "ios developer"
          ],
          [
           "program manager"
          ],
          [
           "recruitment coordinator"
          ],
          [
           "recruitment coordinator"
          ],
          [
           "assistant director"
          ],
          [
           "sessional instructor"
          ],
          [
           "visiting scientist"
          ],
          [
           "digital media"
          ],
          [
           "electrical engineer"
          ],
          [
           "student research"
          ],
          [
           "personal banker"
          ],
          [
           "relationship manager"
          ],
          [
           "administration manager"
          ],
          [
           "civil engineer"
          ],
          [
           "chief executive"
          ],
          [
           "board advisor"
          ],
          [
           "graduate program"
          ],
          [
           "co founder"
          ],
          [
           "practice manager"
          ],
          [
           "chief officer"
          ],
          [
           "freelance journalist"
          ],
          [
           "service specialist"
          ],
          [
           "assistant director"
          ],
          [
           "sales specialist"
          ],
          [
           "associate producer"
          ],
          [
           "volunteer"
          ],
          [
           "associate producer"
          ],
          [
           "teaching associate"
          ],
          [
           "phd candidate"
          ],
          [
           "research scientist"
          ],
          [
           "retail sales"
          ],
          [
           "structural draftsman"
          ],
          [
           "research assistant"
          ],
          [
           "sales specialist"
          ],
          [
           "technical consultant"
          ],
          [
           "senior technology"
          ],
          [
           "sales director"
          ],
          [
           "hr administrator"
          ],
          [
           "events coordinator"
          ],
          [
           "quantity surveyor"
          ],
          [
           "construction manager"
          ],
          [
           "misc"
          ],
          [
           "contract administrator"
          ],
          [
           "customer service"
          ],
          [
           "creative director"
          ],
          [
           "management accountant"
          ],
          [
           "summer internship"
          ],
          [
           "group accountant"
          ],
          [
           "student intern"
          ],
          [
           "public relations"
          ],
          [
           "lifeguard"
          ],
          [
           "software programmer"
          ],
          [
           "mechanical engineer"
          ],
          [
           "application specialist"
          ],
          [
           "postdoctoral fellow"
          ],
          [
           "sales support"
          ],
          [
           "student intern"
          ],
          [
           "misc"
          ],
          [
           "tax lawyer"
          ],
          [
           "consultant developer"
          ],
          [
           "project administrator"
          ],
          [
           "national sales"
          ],
          [
           "business manager"
          ],
          [
           "sales executive"
          ],
          [
           "technical specialist"
          ],
          [
           "engineering intern"
          ],
          [
           "system engineer"
          ],
          [
           "private banker"
          ],
          [
           "policy officer"
          ],
          [
           "head strategy"
          ],
          [
           "business advisor"
          ],
          [
           "project executive"
          ],
          [
           "head strategy"
          ],
          [
           "visiting researcher"
          ],
          [
           "graduate law"
          ],
          [
           "data scientist"
          ],
          [
           "student researcher"
          ],
          [
           "personal banker"
          ],
          [
           "customer advisor"
          ],
          [
           "it support"
          ],
          [
           "system analyst"
          ],
          [
           "data engineer"
          ],
          [
           "medical writer"
          ],
          [
           "event coordinator"
          ],
          [
           "marketing officer"
          ],
          [
           "trainee solicitor"
          ],
          [
           "communications coordinator"
          ],
          [
           "editorial intern"
          ],
          [
           "user experience"
          ],
          [
           "product owner"
          ],
          [
           "services manager"
          ],
          [
           "clinical psychologist"
          ],
          [
           "clinical dietitian"
          ],
          [
           "clinical dietitian"
          ],
          [
           "project executive"
          ],
          [
           "management accountant"
          ],
          [
           "assistant director"
          ],
          [
           "development manager"
          ],
          [
           "research executive"
          ],
          [
           "undergraduate engineer"
          ],
          [
           "research coordinator"
          ],
          [
           "site engineer"
          ],
          [
           "marketing intern"
          ],
          [
           "visiting scientist"
          ],
          [
           "branch manager"
          ],
          [
           "keynote presenter"
          ],
          [
           "devops consultant"
          ],
          [
           "financial advisor"
          ],
          [
           "brand manager"
          ],
          [
           "engineering intern"
          ],
          [
           "officer"
          ],
          [
           "visual technician"
          ],
          [
           "service agent"
          ],
          [
           "bank manager"
          ],
          [
           "team leader"
          ],
          [
           "visiting professor"
          ],
          [
           "misc"
          ],
          [
           "internal auditor"
          ],
          [
           "administrative assistant"
          ],
          [
           "information officer"
          ],
          [
           "investment analyst"
          ],
          [
           "peer tutor"
          ],
          [
           "clinical educator"
          ],
          [
           "social media"
          ],
          [
           "director innovation"
          ],
          [
           "branch manager"
          ],
          [
           "misc"
          ],
          [
           "project lead"
          ],
          [
           "manager"
          ],
          [
           "manager"
          ],
          [
           "misc"
          ],
          [
           "relationship manager"
          ],
          [
           "technical support"
          ],
          [
           "company secretary"
          ],
          [
           "junior accountant"
          ],
          [
           "design intern"
          ],
          [
           "sales marketing"
          ],
          [
           "interior designer"
          ],
          [
           "content strategist"
          ],
          [
           "digital strategist"
          ],
          [
           "visiting researcher"
          ],
          [
           "front end"
          ],
          [
           "management consultant"
          ],
          [
           "customer service"
          ],
          [
           "electrical engineer"
          ],
          [
           "junior accountant"
          ],
          [
           "graduate architect"
          ],
          [
           "associate manager"
          ],
          [
           "manager"
          ],
          [
           "national manager"
          ],
          [
           "laboratory technician"
          ],
          [
           "consultant"
          ],
          [
           "it contractor"
          ],
          [
           "research assistant"
          ],
          [
           "property valuer"
          ],
          [
           "lead designer"
          ],
          [
           "work experience"
          ],
          [
           "summer vacationer"
          ],
          [
           "project executive"
          ],
          [
           "executive assistant"
          ],
          [
           "officer"
          ],
          [
           "office manager"
          ],
          [
           "ios developer"
          ],
          [
           "group accountant"
          ],
          [
           "creative producer"
          ],
          [
           "summer clerk"
          ],
          [
           "summer clerk"
          ],
          [
           "professional services"
          ],
          [
           "principal analyst"
          ],
          [
           "business owner"
          ],
          [
           "professor finance"
          ],
          [
           "director operations"
          ],
          [
           "office manager"
          ],
          [
           "design lead"
          ],
          [
           "ux designer"
          ],
          [
           "various"
          ],
          [
           "legal officer"
          ],
          [
           "brand manager"
          ],
          [
           "services manager"
          ],
          [
           "technical expert"
          ],
          [
           "system administrator"
          ],
          [
           "national manager"
          ],
          [
           "digital producer"
          ],
          [
           "manager"
          ],
          [
           "social worker"
          ],
          [
           "trainee accountant"
          ],
          [
           "development manager"
          ],
          [
           "social media"
          ],
          [
           "research scientist"
          ],
          [
           "postdoctoral fellow"
          ],
          [
           "project officer"
          ],
          [
           "client manager"
          ],
          [
           "associate lecturer"
          ],
          [
           "clinical psychologist"
          ],
          [
           "site engineer"
          ],
          [
           "projects administrator"
          ],
          [
           "financial controller"
          ],
          [
           "professional player"
          ],
          [
           "business development"
          ],
          [
           "human officer"
          ],
          [
           "human resources"
          ],
          [
           "officer"
          ],
          [
           "architectural technician"
          ],
          [
           "full time"
          ],
          [
           "office manager"
          ],
          [
           "visiting professor"
          ],
          [
           "visiting lecturer"
          ],
          [
           "production supervisor"
          ],
          [
           "it systems"
          ],
          [
           "web designer"
          ],
          [
           "content manager"
          ],
          [
           "personal underwriter"
          ],
          [
           "principal manager"
          ],
          [
           "financial accountant"
          ],
          [
           "group accountant"
          ],
          [
           "work experience"
          ],
          [
           "editor chief"
          ],
          [
           "misc"
          ],
          [
           "crew trainer"
          ],
          [
           "industrial designer"
          ],
          [
           "student advisor"
          ],
          [
           "misc"
          ],
          [
           "graduate program"
          ],
          [
           "peer mentor"
          ],
          [
           "occupational student"
          ],
          [
           "guest speaker"
          ],
          [
           "bank teller"
          ],
          [
           "environmental engineer"
          ],
          [
           "training coordinator"
          ],
          [
           "database administrator"
          ],
          [
           "associate lecturer"
          ],
          [
           "social worker"
          ],
          [
           "facilities manager"
          ],
          [
           "facilities manager"
          ],
          [
           "application developer"
          ],
          [
           "training facilitator"
          ],
          [
           "business manager"
          ],
          [
           "human resources"
          ],
          [
           "hr administrator"
          ],
          [
           "account coordinator"
          ],
          [
           "hr partner"
          ],
          [
           "hr partner"
          ],
          [
           "hr administrator"
          ],
          [
           "team lead"
          ],
          [
           "senior technology"
          ],
          [
           "project director"
          ],
          [
           "financial accountant"
          ],
          [
           "accounts assistant"
          ],
          [
           "co founder"
          ],
          [
           "process engineer"
          ],
          [
           "process engineer"
          ],
          [
           "site engineer"
          ],
          [
           "project executive"
          ],
          [
           "structural engineer"
          ],
          [
           "summer vacationer"
          ],
          [
           "casual academic"
          ],
          [
           "senior architect"
          ],
          [
           "senior analyst"
          ],
          [
           "lecturer exercise"
          ],
          [
           "commercial analyst"
          ],
          [
           "secondee"
          ],
          [
           "legal intern"
          ],
          [
           "analyst programmer"
          ],
          [
           "laboratory demonstrator"
          ],
          [
           "cadet"
          ],
          [
           "architectural technician"
          ],
          [
           "misc"
          ],
          [
           "human resources"
          ],
          [
           "hr administrator"
          ],
          [
           "financial analyst"
          ],
          [
           "project executive"
          ],
          [
           "structural engineer"
          ],
          [
           "food beverage"
          ],
          [
           "change manager"
          ],
          [
           "development manager"
          ],
          [
           "clinical nurse"
          ],
          [
           "engineer"
          ],
          [
           "sessional instructor"
          ],
          [
           "sales specialist"
          ],
          [
           "business development"
          ],
          [
           "events coordinator"
          ],
          [
           "java developer"
          ],
          [
           "visiting fellow"
          ],
          [
           "junior accountant"
          ],
          [
           "production supervisor"
          ],
          [
           "technical developer"
          ],
          [
           "consultant integration"
          ],
          [
           "technical architect"
          ],
          [
           "visiting scholar"
          ],
          [
           "global account"
          ],
          [
           "content strategist"
          ],
          [
           "development officer"
          ],
          [
           "misc"
          ],
          [
           "regional manager"
          ],
          [
           "visiting scientist"
          ],
          [
           "research coordinator"
          ],
          [
           "associate dean"
          ],
          [
           "director consulting"
          ],
          [
           "senior audit"
          ],
          [
           "professor finance"
          ],
          [
           "senior audit"
          ],
          [
           "internal auditor"
          ],
          [
           "marketing manager"
          ],
          [
           "principal manager"
          ],
          [
           "manager"
          ],
          [
           "fellow"
          ],
          [
           "social media"
          ],
          [
           "it coordinator"
          ],
          [
           "manager"
          ],
          [
           "residential agent"
          ],
          [
           "sales specialist"
          ],
          [
           "relationship manager"
          ],
          [
           "service delivery"
          ],
          [
           "service supervisor"
          ],
          [
           "group accountant"
          ],
          [
           "process control"
          ],
          [
           "frontend developer"
          ],
          [
           "frontend developer"
          ],
          [
           "operations associate"
          ],
          [
           "senior estimator"
          ],
          [
           "contracts administrator"
          ],
          [
           "freelance copywriter"
          ],
          [
           "content writer"
          ],
          [
           "team assistant"
          ],
          [
           "marketing specialist"
          ],
          [
           "technical advisor"
          ],
          [
           "relationship manager"
          ],
          [
           "sales consultant"
          ],
          [
           "communications coordinator"
          ],
          [
           "public relations"
          ],
          [
           "specialist technician"
          ],
          [
           "communications advisor"
          ],
          [
           "corporate counsel"
          ],
          [
           "graduate law"
          ],
          [
           "vacation clerk"
          ],
          [
           "relations specialist"
          ],
          [
           "business analyst"
          ],
          [
           "executive assistant"
          ],
          [
           "editor chief"
          ],
          [
           "financial planning"
          ],
          [
           "civil engineer"
          ],
          [
           "sales coordinator"
          ],
          [
           "service technician"
          ],
          [
           "managing editor"
          ],
          [
           "communications manager"
          ],
          [
           "property manager"
          ],
          [
           "qa analyst"
          ],
          [
           "test analyst"
          ],
          [
           "head teacher"
          ],
          [
           "contracts administrator"
          ],
          [
           "training coordinator"
          ],
          [
           "clinical psychologist"
          ],
          [
           "brand ambassador"
          ],
          [
           "account director"
          ],
          [
           "vice president"
          ],
          [
           "peer mentor"
          ],
          [
           "production supervisor"
          ],
          [
           "environmental engineer"
          ],
          [
           "research fellow"
          ],
          [
           "summer vacationer"
          ],
          [
           "specialist technician"
          ],
          [
           "misc"
          ],
          [
           "editor chief"
          ],
          [
           "technical officer"
          ],
          [
           "summer internship"
          ],
          [
           "financial controller"
          ],
          [
           "student researcher"
          ],
          [
           "security consultant"
          ],
          [
           "security consultant"
          ],
          [
           "network engineer"
          ],
          [
           "keynote speaker"
          ],
          [
           "mobile developer"
          ],
          [
           "board directors"
          ],
          [
           "undergraduate engineer"
          ],
          [
           "marketing specialist"
          ],
          [
           "ux designer"
          ],
          [
           "lead ux"
          ],
          [
           "ux designer"
          ],
          [
           "crew trainer"
          ],
          [
           "cadet"
          ],
          [
           "co founder"
          ],
          [
           "project officer"
          ],
          [
           "co founder"
          ],
          [
           "communications coordinator"
          ],
          [
           "safety advisor"
          ],
          [
           "pharmacy student"
          ],
          [
           "administration manager"
          ],
          [
           "legal counsel"
          ],
          [
           "analyst programmer"
          ],
          [
           "database administrator"
          ],
          [
           "business analyst"
          ],
          [
           "internal auditor"
          ],
          [
           "mobile developer"
          ],
          [
           "quality analyst"
          ],
          [
           "founding partner"
          ],
          [
           "research engineer"
          ],
          [
           "visiting scholar"
          ],
          [
           "portfolio manager"
          ],
          [
           "senior economist"
          ],
          [
           "graduate architect"
          ],
          [
           "application support"
          ],
          [
           "technical analyst"
          ],
          [
           "sustainability officer"
          ],
          [
           "test analyst"
          ],
          [
           "human resources"
          ],
          [
           "shift supervisor"
          ],
          [
           "recruitment advisor"
          ],
          [
           "senior manager"
          ],
          [
           "engineering intern"
          ],
          [
           "head marketing"
          ],
          [
           "marketing officer"
          ],
          [
           "marketing officer"
          ],
          [
           "recruitment coordinator"
          ],
          [
           "internal audit"
          ],
          [
           "senior audit"
          ],
          [
           "lead designer"
          ],
          [
           "professor finance"
          ],
          [
           "national business"
          ],
          [
           "regional manager"
          ],
          [
           "content writer"
          ],
          [
           "lead developer"
          ],
          [
           "lead developer"
          ],
          [
           "desktop support"
          ],
          [
           "client services"
          ],
          [
           "analyst"
          ],
          [
           "contract administrator"
          ],
          [
           "laboratory demonstrator"
          ],
          [
           "misc"
          ],
          [
           "creative producer"
          ],
          [
           "systems engineer"
          ],
          [
           "systems engineer"
          ],
          [
           "client manager"
          ],
          [
           "adjunct lecturer"
          ],
          [
           "product manager"
          ],
          [
           "deputy chair"
          ],
          [
           "application developer"
          ],
          [
           "assistant store"
          ],
          [
           "misc"
          ],
          [
           "strategic sourcing"
          ],
          [
           "geotechnical engineer"
          ],
          [
           "software test"
          ],
          [
           "software test"
          ],
          [
           "national sales"
          ],
          [
           "digital marketing"
          ],
          [
           "summer internship"
          ],
          [
           "electrician"
          ],
          [
           "marketing officer"
          ],
          [
           "lecturer tutor"
          ],
          [
           "it coordinator"
          ],
          [
           "system engineer"
          ],
          [
           "business project"
          ],
          [
           "ceo founder"
          ],
          [
           "financial adviser"
          ],
          [
           "devops consultant"
          ],
          [
           "adjunct professor"
          ],
          [
           "infrastructure architect"
          ],
          [
           "sustainability officer"
          ],
          [
           "business project"
          ],
          [
           "student researcher"
          ],
          [
           "business project"
          ],
          [
           "it support"
          ],
          [
           "electrical engineer"
          ],
          [
           "associate manager"
          ],
          [
           "graduate architect"
          ],
          [
           "sales representative"
          ],
          [
           "safety advisor"
          ],
          [
           "external auditor"
          ],
          [
           "technical analyst"
          ],
          [
           "organisational change"
          ],
          [
           "phd scholar"
          ],
          [
           "clinical educator"
          ],
          [
           "speech pathologist"
          ],
          [
           "support engineer"
          ],
          [
           "research executive"
          ],
          [
           "it specialist"
          ],
          [
           "construction manager"
          ],
          [
           "environmental engineer"
          ],
          [
           "financial planning"
          ],
          [
           "junior accountant"
          ],
          [
           "research coordinator"
          ],
          [
           "adjunct fellow"
          ],
          [
           "graduate program"
          ],
          [
           "research associate"
          ],
          [
           "human resources"
          ],
          [
           "contracts administrator"
          ],
          [
           "project assistant"
          ],
          [
           "team leader"
          ],
          [
           "experience designer"
          ],
          [
           "manager"
          ],
          [
           "implementation manager"
          ],
          [
           "business project"
          ],
          [
           "administration manager"
          ],
          [
           "change consultant"
          ],
          [
           "registered nurse"
          ],
          [
           "general counsel"
          ],
          [
           "commercial lawyer"
          ],
          [
           "misc"
          ],
          [
           "co founder"
          ],
          [
           "casual academic"
          ],
          [
           "enterprise architect"
          ],
          [
           "solution architect"
          ],
          [
           "system engineer"
          ],
          [
           "graduate architect"
          ],
          [
           "medical writer"
          ],
          [
           "officer"
          ],
          [
           "content producer"
          ],
          [
           "regional manager"
          ],
          [
           "industrial designer"
          ],
          [
           "chair board"
          ],
          [
           "education officer"
          ],
          [
           "ios engineer"
          ],
          [
           "analyst programmer"
          ],
          [
           "community organiser"
          ],
          [
           "group manager"
          ],
          [
           "education officer"
          ],
          [
           "chief executive"
          ],
          [
           "trainee accountant"
          ],
          [
           "environmental officer"
          ],
          [
           "graduate engineer"
          ],
          [
           "summer clerk"
          ],
          [
           "mechanical engineer"
          ],
          [
           "mechanical engineer"
          ],
          [
           "delivery manager"
          ],
          [
           "mechanical engineer"
          ],
          [
           "board member"
          ],
          [
           "mobile engineer"
          ],
          [
           "mobile developer"
          ],
          [
           "manager"
          ],
          [
           "automation specialist"
          ],
          [
           "community engagement"
          ],
          [
           "visiting scholar"
          ],
          [
           "junior accountant"
          ],
          [
           "video technician"
          ],
          [
           "principal analyst"
          ],
          [
           "digital consultant"
          ],
          [
           "business analyst"
          ],
          [
           "process analyst"
          ],
          [
           "student planner"
          ],
          [
           "operations associate"
          ],
          [
           "operations manager"
          ],
          [
           "financial adviser"
          ],
          [
           "mechanical engineer"
          ],
          [
           "relations specialist"
          ],
          [
           "summer clerk"
          ],
          [
           "chief officer"
          ],
          [
           "quantity surveyor"
          ],
          [
           "tax lawyer"
          ],
          [
           "human resources"
          ],
          [
           "business support"
          ],
          [
           "mobile engineer"
          ],
          [
           "development officer"
          ],
          [
           "public relations"
          ],
          [
           "functional consultant"
          ],
          [
           "data scientist"
          ],
          [
           "systems manager"
          ],
          [
           "systems analyst"
          ],
          [
           "research officer"
          ],
          [
           "marketing coordinator"
          ],
          [
           "professor finance"
          ],
          [
           "head technology"
          ],
          [
           "manager"
          ],
          [
           "policy adviser"
          ],
          [
           "design intern"
          ],
          [
           "product designer"
          ],
          [
           "creative producer"
          ],
          [
           "sales director"
          ],
          [
           "team leader"
          ],
          [
           "state manager"
          ],
          [
           "client executive"
          ],
          [
           "general manager"
          ],
          [
           "national manager"
          ],
          [
           "sports dietitian"
          ],
          [
           "clinical dietitian"
          ],
          [
           "phd scholar"
          ],
          [
           "undergraduate engineer"
          ],
          [
           "content writer"
          ],
          [
           "misc"
          ],
          [
           "ceo founder"
          ],
          [
           "sales marketing"
          ],
          [
           "business consultant"
          ],
          [
           "adjunct fellow"
          ],
          [
           "technical specialist"
          ],
          [
           "civil engineer"
          ],
          [
           "marketing assistant"
          ],
          [
           "event coordinator"
          ],
          [
           "recruitment specialist"
          ],
          [
           "misc"
          ],
          [
           "engagement manager"
          ],
          [
           "experience designer"
          ],
          [
           "service designer"
          ],
          [
           "service designer"
          ],
          [
           "director innovation"
          ],
          [
           "customer manager"
          ],
          [
           "design intern"
          ],
          [
           "adjunct lecturer"
          ],
          [
           "network engineer"
          ],
          [
           "graduate architect"
          ],
          [
           "council member"
          ],
          [
           "keynote speaker"
          ],
          [
           "founder managing"
          ],
          [
           "communications coordinator"
          ],
          [
           "technical expert"
          ],
          [
           "digital director"
          ],
          [
           "civil engineer"
          ],
          [
           "head operations"
          ],
          [
           "manager"
          ],
          [
           "crew member"
          ],
          [
           "founding partner"
          ],
          [
           "it analyst"
          ],
          [
           "research engineer"
          ],
          [
           "test lead"
          ],
          [
           "clinical psychologist"
          ],
          [
           "assistant director"
          ],
          [
           "property valuer"
          ],
          [
           "professor finance"
          ],
          [
           "partner representative"
          ],
          [
           "associate professor"
          ],
          [
           "freelance journalist"
          ],
          [
           "medical writer"
          ],
          [
           "infrastructure architect"
          ],
          [
           "network engineer"
          ],
          [
           "trainee solicitor"
          ],
          [
           "organisational psychologist"
          ],
          [
           "software programmer"
          ],
          [
           "misc"
          ],
          [
           "misc"
          ],
          [
           "academic tutor"
          ],
          [
           "post doctoral"
          ],
          [
           "misc"
          ],
          [
           "lead developer"
          ],
          [
           "fellow"
          ],
          [
           "committee member"
          ],
          [
           "experience designer"
          ],
          [
           "research coordinator"
          ],
          [
           "research coordinator"
          ],
          [
           "head school"
          ],
          [
           "data engineer"
          ],
          [
           "technical leader"
          ],
          [
           "communications consultant"
          ],
          [
           "student planner"
          ],
          [
           "misc"
          ],
          [
           "technical manager"
          ],
          [
           "research associate"
          ],
          [
           "technical developer"
          ],
          [
           "it manager"
          ],
          [
           "systems administrator"
          ],
          [
           "head digital"
          ],
          [
           "misc"
          ],
          [
           "keynote presenter"
          ],
          [
           "sports physiotherapist"
          ],
          [
           "senior engineer"
          ],
          [
           "associate engineer"
          ],
          [
           "environmental advisor"
          ],
          [
           "environmental engineer"
          ],
          [
           "solutions consultant"
          ],
          [
           "test lead"
          ],
          [
           "process engineer"
          ],
          [
           "head school"
          ],
          [
           "officer"
          ],
          [
           "structural draftsman"
          ],
          [
           "marketing executive"
          ],
          [
           "co cto"
          ],
          [
           "digital producer"
          ],
          [
           "field engineer"
          ],
          [
           "policy adviser"
          ],
          [
           "founder managing"
          ],
          [
           "interior designer"
          ],
          [
           "trainee accountant"
          ],
          [
           "development manager"
          ],
          [
           "structural engineer"
          ],
          [
           "commercial analyst"
          ],
          [
           "product manager"
          ],
          [
           "graduate developer"
          ],
          [
           "founder director"
          ],
          [
           "instructional designer"
          ],
          [
           "instructional designer"
          ],
          [
           "learning development"
          ],
          [
           "training coordinator"
          ],
          [
           "digital marketing"
          ],
          [
           "co ceo"
          ],
          [
           "co cto"
          ],
          [
           "system analyst"
          ],
          [
           "environmental scientist"
          ],
          [
           "unit coordinator"
          ],
          [
           "net developer"
          ],
          [
           "assurance intern"
          ],
          [
           "agile coach"
          ],
          [
           "master administration"
          ],
          [
           "misc"
          ],
          [
           "software developer"
          ],
          [
           "engagement manager"
          ],
          [
           "business systems"
          ],
          [
           "regional manager"
          ],
          [
           "state manager"
          ],
          [
           "business director"
          ],
          [
           "senior architect"
          ],
          [
           "application services"
          ],
          [
           "infrastructure architect"
          ],
          [
           "web development"
          ],
          [
           "communications officer"
          ],
          [
           "process analyst"
          ],
          [
           "technical advisor"
          ],
          [
           "implementation manager"
          ],
          [
           "account director"
          ],
          [
           "data clerk"
          ],
          [
           "operations manager"
          ],
          [
           "sponsorship director"
          ],
          [
           "investment analyst"
          ],
          [
           "product manager"
          ],
          [
           "quantity surveyor"
          ],
          [
           "creative director"
          ],
          [
           "marketing specialist"
          ],
          [
           "business project"
          ],
          [
           "marketing director"
          ],
          [
           "founder director"
          ],
          [
           "lead developer"
          ],
          [
           "technical team"
          ],
          [
           "system analyst"
          ],
          [
           "data clerk"
          ],
          [
           "learning development"
          ],
          [
           "freelance copywriter"
          ],
          [
           "manager"
          ],
          [
           "sales marketing"
          ],
          [
           "geotechnical engineer"
          ],
          [
           "quality analyst"
          ],
          [
           "service analyst"
          ],
          [
           "external auditor"
          ],
          [
           "key account"
          ],
          [
           "product designer"
          ],
          [
           "it support"
          ],
          [
           "associate lecturer"
          ],
          [
           "senior architect"
          ],
          [
           "head coach"
          ],
          [
           "consultant developer"
          ],
          [
           "software development"
          ],
          [
           "manager"
          ],
          [
           "misc"
          ],
          [
           "data clerk"
          ],
          [
           "specialist technician"
          ],
          [
           "qa analyst"
          ],
          [
           "qa analyst"
          ],
          [
           "hr officer"
          ],
          [
           "senior director"
          ],
          [
           "agile coach"
          ],
          [
           "delivery lead"
          ],
          [
           "net developer"
          ],
          [
           "co ceo"
          ],
          [
           "it analyst"
          ],
          [
           "honorary fellow"
          ],
          [
           "pr executive"
          ],
          [
           "pr executive"
          ],
          [
           "human resources"
          ],
          [
           "public relations"
          ],
          [
           "sales executive"
          ],
          [
           "committee president"
          ],
          [
           "engineer"
          ],
          [
           "freelance editor"
          ],
          [
           "editor chief"
          ],
          [
           "key account"
          ],
          [
           "graduate developer"
          ],
          [
           "group director"
          ],
          [
           "human resources"
          ],
          [
           "principal manager"
          ],
          [
           "communications advisor"
          ],
          [
           "post doctoral"
          ],
          [
           "misc"
          ],
          [
           "solutions architect"
          ],
          [
           "associate manager"
          ],
          [
           "head strategy"
          ],
          [
           "crew trainer"
          ],
          [
           "teaching fellow"
          ],
          [
           "teaching fellow"
          ],
          [
           "group representative"
          ],
          [
           "team lead"
          ],
          [
           "user experience"
          ],
          [
           "it consultant"
          ],
          [
           "analyst"
          ],
          [
           "deputy chair"
          ],
          [
           "undergraduate work"
          ],
          [
           "commercial lawyer"
          ],
          [
           "social media"
          ],
          [
           "technical advisor"
          ],
          [
           "financial planning"
          ],
          [
           "software engineer"
          ],
          [
           "crm business"
          ],
          [
           "chief officer"
          ],
          [
           "procurement specialist"
          ],
          [
           "procurement specialist"
          ],
          [
           "services manager"
          ],
          [
           "sessional academic"
          ],
          [
           "manager"
          ],
          [
           "manager"
          ],
          [
           "software architect"
          ],
          [
           "manager"
          ],
          [
           "freelance contributor"
          ],
          [
           "regional manager"
          ],
          [
           "editor chief"
          ],
          [
           "management consultant"
          ],
          [
           "assistant director"
          ],
          [
           "php developer"
          ],
          [
           "technical team"
          ],
          [
           "freelance editor"
          ],
          [
           "tax lawyer"
          ],
          [
           "environmental engineer"
          ],
          [
           "experience designer"
          ],
          [
           "technical lead"
          ],
          [
           "chief officer"
          ],
          [
           "head digital"
          ],
          [
           "java developer"
          ],
          [
           "marketing communications"
          ],
          [
           "mba candidate"
          ],
          [
           "academic tutor"
          ],
          [
           "front end"
          ],
          [
           "associate lecturer"
          ],
          [
           "senior estimator"
          ],
          [
           "mba candidate"
          ],
          [
           "it contractor"
          ],
          [
           "head teacher"
          ],
          [
           "assistant store"
          ],
          [
           "officer"
          ],
          [
           "performance test"
          ],
          [
           "commercial analyst"
          ],
          [
           "misc"
          ],
          [
           "sales specialist"
          ],
          [
           "senior architect"
          ],
          [
           "medical officer"
          ],
          [
           "delivery manager"
          ],
          [
           "senior analyst"
          ],
          [
           "corporate counsel"
          ],
          [
           "operations associate"
          ],
          [
           "business partner"
          ],
          [
           "professor finance"
          ],
          [
           "software engineering"
          ],
          [
           "business partner"
          ],
          [
           "data engineer"
          ],
          [
           "digital designer"
          ],
          [
           "misc"
          ],
          [
           "head strategy"
          ],
          [
           "post doctoral"
          ],
          [
           "training coordinator"
          ],
          [
           "applications engineer"
          ],
          [
           "solutions architect"
          ],
          [
           "support engineer"
          ],
          [
           "digital designer"
          ],
          [
           "graduate program"
          ],
          [
           "visiting researcher"
          ],
          [
           "project executive"
          ],
          [
           "misc"
          ],
          [
           "editorial intern"
          ],
          [
           "solution designer"
          ],
          [
           "misc"
          ],
          [
           "student advisor"
          ],
          [
           "business partner"
          ],
          [
           "sales support"
          ],
          [
           "associate partner"
          ],
          [
           "front end"
          ],
          [
           "ios engineer"
          ],
          [
           "sports dietitian"
          ],
          [
           "misc"
          ],
          [
           "professional services"
          ],
          [
           "visiting professor"
          ],
          [
           "visiting fellow"
          ],
          [
           "deputy director"
          ],
          [
           "deputy chair"
          ],
          [
           "group leader"
          ],
          [
           "test lead"
          ],
          [
           "senior software"
          ],
          [
           "unit coordinator"
          ],
          [
           "design lead"
          ],
          [
           "manager"
          ],
          [
           "security manager"
          ],
          [
           "lead analyst"
          ],
          [
           "account manager"
          ],
          [
           "national manager"
          ],
          [
           "principal engineer"
          ],
          [
           "trainee accountant"
          ],
          [
           "systems manager"
          ],
          [
           "research executive"
          ],
          [
           "operations officer"
          ],
          [
           "co founder"
          ],
          [
           "change consultant"
          ],
          [
           "volunteer"
          ],
          [
           "senior architect"
          ],
          [
           "operations manager"
          ],
          [
           "communications manager"
          ],
          [
           "leadership coach"
          ],
          [
           "quality assurance"
          ],
          [
           "technology advisor"
          ],
          [
           "ceo founder"
          ],
          [
           "technical advisor"
          ],
          [
           "site supervisor"
          ],
          [
           "hr administrator"
          ],
          [
           "founder managing"
          ],
          [
           "service delivery"
          ],
          [
           "sustainability officer"
          ],
          [
           "art director"
          ],
          [
           "teacher librarian"
          ],
          [
           "client manager"
          ],
          [
           "system administrator"
          ],
          [
           "full time"
          ],
          [
           "technical advisor"
          ],
          [
           "consulting partner"
          ],
          [
           "pricing analyst"
          ],
          [
           "infrastructure architect"
          ],
          [
           "deputy director"
          ],
          [
           "creative director"
          ],
          [
           "honorary fellow"
          ],
          [
           "business intelligence"
          ],
          [
           "doctoral researcher"
          ],
          [
           "environmental advisor"
          ],
          [
           "legal intern"
          ],
          [
           "head product"
          ],
          [
           "technology advisor"
          ],
          [
           "manager"
          ],
          [
           "professor economics"
          ],
          [
           "head risk"
          ],
          [
           "system administrator"
          ],
          [
           "contract programmer"
          ],
          [
           "services manager"
          ],
          [
           "project manager"
          ],
          [
           "research assistant"
          ],
          [
           "bi consultant"
          ],
          [
           "engineer"
          ],
          [
           "leasing executive"
          ],
          [
           "leasing executive"
          ],
          [
           "casual academic"
          ],
          [
           "manager"
          ],
          [
           "non executive"
          ],
          [
           "medical officer"
          ],
          [
           "group director"
          ],
          [
           "hr administrator"
          ],
          [
           "project pharmacist"
          ],
          [
           "principal engineer"
          ],
          [
           "delivery manager"
          ],
          [
           "consultant developer"
          ],
          [
           "associate dean"
          ],
          [
           "research scientist"
          ],
          [
           "manager"
          ],
          [
           "environmental scientist"
          ],
          [
           "lead analyst"
          ],
          [
           "systems analyst"
          ],
          [
           "development manager"
          ],
          [
           "graduate program"
          ],
          [
           "technical manager"
          ],
          [
           "director innovation"
          ],
          [
           "misc"
          ],
          [
           "clinical psychologist"
          ],
          [
           "ux consultant"
          ],
          [
           "consultant"
          ],
          [
           "frontend developer"
          ],
          [
           "senior architect"
          ],
          [
           "project leader"
          ],
          [
           "net developer"
          ],
          [
           "program management"
          ],
          [
           "technical analyst"
          ],
          [
           "co founder"
          ],
          [
           "technical support"
          ],
          [
           "project executive"
          ],
          [
           "online marketing"
          ],
          [
           "head risk"
          ],
          [
           "sales consultant"
          ],
          [
           "internal audit"
          ],
          [
           "entrepreneur"
          ],
          [
           "company secretary"
          ],
          [
           "team assistant"
          ],
          [
           "campaign manager"
          ],
          [
           "program manager"
          ],
          [
           "it manager"
          ],
          [
           "strategic advisor"
          ],
          [
           "head strategy"
          ],
          [
           "ceo founder"
          ],
          [
           "financial adviser"
          ],
          [
           "consultant"
          ],
          [
           "community organiser"
          ],
          [
           "recruitment coordinator"
          ],
          [
           "recruitment coordinator"
          ],
          [
           "lecturer exercise"
          ],
          [
           "application support"
          ],
          [
           "sap consultant"
          ],
          [
           "principal manager"
          ],
          [
           "deputy chair"
          ],
          [
           "internal communications"
          ],
          [
           "general manager"
          ],
          [
           "student planner"
          ],
          [
           "content manager"
          ],
          [
           "business advisor"
          ],
          [
           "misc"
          ],
          [
           "solutions consultant"
          ],
          [
           "marketing communications"
          ],
          [
           "it manager"
          ],
          [
           "lecturer tutor"
          ],
          [
           "recruitment coordinator"
          ],
          [
           "group manager"
          ],
          [
           "head marketing"
          ],
          [
           "construction manager"
          ],
          [
           "engineering manager"
          ],
          [
           "freelance journalist"
          ],
          [
           "enterprise account"
          ],
          [
           "co ordinator"
          ],
          [
           "communications officer"
          ],
          [
           "management consultant"
          ],
          [
           "technical advisor"
          ],
          [
           "commercial analyst"
          ],
          [
           "team leader"
          ],
          [
           "digital manager"
          ],
          [
           "business systems"
          ],
          [
           "content manager"
          ],
          [
           "assistant secretary"
          ],
          [
           "consulting partner"
          ],
          [
           "it systems"
          ],
          [
           "agile business"
          ],
          [
           "vp engineering"
          ],
          [
           "services coordinator"
          ],
          [
           "group leader"
          ],
          [
           "social worker"
          ],
          [
           "associate director"
          ],
          [
           "design intern"
          ],
          [
           "business analyst"
          ],
          [
           "training facilitator"
          ],
          [
           "key account"
          ],
          [
           "business banking"
          ],
          [
           "digital media"
          ],
          [
           "business manager"
          ],
          [
           "visiting researcher"
          ],
          [
           "application specialist"
          ],
          [
           "customer manager"
          ],
          [
           "associate producer"
          ],
          [
           "online marketing"
          ],
          [
           "travel consultant"
          ],
          [
           "online marketing"
          ],
          [
           "misc"
          ],
          [
           "chairman board"
          ],
          [
           "sap consultant"
          ],
          [
           "sap consultant"
          ],
          [
           "managing editor"
          ],
          [
           "service analyst"
          ],
          [
           "head digital"
          ],
          [
           "misc"
          ],
          [
           "communications consultant"
          ],
          [
           "leadership coach"
          ],
          [
           "group accountant"
          ],
          [
           "honorary associate"
          ],
          [
           "qa analyst"
          ],
          [
           "user experience"
          ],
          [
           "adjunct professor"
          ],
          [
           "retail planner"
          ],
          [
           "lead designer"
          ],
          [
           "digital director"
          ],
          [
           "test consultant"
          ],
          [
           "misc"
          ],
          [
           "technology advisor"
          ],
          [
           "misc"
          ],
          [
           "managing editor"
          ],
          [
           "consultant developer"
          ],
          [
           "quality analyst"
          ],
          [
           "design engineer"
          ],
          [
           "recruitment advisor"
          ],
          [
           "ux consultant"
          ],
          [
           "associate producer"
          ],
          [
           "data clerk"
          ],
          [
           "functional consultant"
          ],
          [
           "crm business"
          ],
          [
           "computer officer"
          ],
          [
           "engineer"
          ],
          [
           "consultant integration"
          ],
          [
           "consultant integration"
          ],
          [
           "business director"
          ],
          [
           "software manager"
          ],
          [
           "vice president"
          ],
          [
           "chairman board"
          ],
          [
           "project manager"
          ],
          [
           "analyst programmer"
          ],
          [
           "misc"
          ],
          [
           "misc"
          ],
          [
           "portfolio manager"
          ],
          [
           "co ordinator"
          ],
          [
           "major accounts"
          ],
          [
           "co ceo"
          ],
          [
           "account manager"
          ],
          [
           "bi consultant"
          ],
          [
           "real estate"
          ],
          [
           "software development"
          ],
          [
           "software development"
          ],
          [
           "php developer"
          ],
          [
           "state manager"
          ],
          [
           "practice manager"
          ],
          [
           "technical architect"
          ],
          [
           "solution architect"
          ],
          [
           "digital manager"
          ],
          [
           "safety advisor"
          ],
          [
           "systems analyst"
          ],
          [
           "consultant developer"
          ],
          [
           "software development"
          ],
          [
           "technical leader"
          ],
          [
           "delivery manager"
          ],
          [
           "software developer"
          ],
          [
           "frontend developer"
          ],
          [
           "service technician"
          ],
          [
           "financial analyst"
          ],
          [
           "creative producer"
          ],
          [
           "art director"
          ],
          [
           "senior director"
          ],
          [
           "information officer"
          ],
          [
           "engineering manager"
          ],
          [
           "private banker"
          ],
          [
           "campaign manager"
          ],
          [
           "product manager"
          ],
          [
           "agile business"
          ],
          [
           "it specialist"
          ],
          [
           "professor finance"
          ],
          [
           "research executive"
          ],
          [
           "solutions consultant"
          ],
          [
           "change lead"
          ],
          [
           "solution designer"
          ],
          [
           "engineer"
          ],
          [
           "consulting partner"
          ],
          [
           "manager"
          ],
          [
           "channel manager"
          ],
          [
           "engineer"
          ],
          [
           "head social"
          ],
          [
           "social media"
          ],
          [
           "security manager"
          ],
          [
           "enterprise account"
          ],
          [
           "security manager"
          ],
          [
           "business consultant"
          ],
          [
           "product manager"
          ],
          [
           "senior developer"
          ],
          [
           "database administrator"
          ],
          [
           "consultant"
          ],
          [
           "product owner"
          ],
          [
           "software manager"
          ],
          [
           "manager"
          ],
          [
           "recruitment specialist"
          ],
          [
           "systems manager"
          ],
          [
           "senior software"
          ],
          [
           "legal counsel"
          ],
          [
           "web designer"
          ],
          [
           "change manager"
          ],
          [
           "sap consultant"
          ],
          [
           "implementation manager"
          ],
          [
           "strategic advisor"
          ],
          [
           "content writer"
          ],
          [
           "software programmer"
          ],
          [
           "change consultant"
          ],
          [
           "chief officer"
          ],
          [
           "test lead"
          ],
          [
           "program manager"
          ],
          [
           "digital consultant"
          ],
          [
           "services manager"
          ],
          [
           "business project"
          ],
          [
           "information management"
          ],
          [
           "consultant integration"
          ],
          [
           "software engineer"
          ],
          [
           "business intelligence"
          ],
          [
           "design engineer"
          ],
          [
           "development consultant"
          ],
          [
           "personal brand"
          ],
          [
           "post doctoral"
          ],
          [
           "bi consultant"
          ],
          [
           "consulting partner"
          ],
          [
           "development consultant"
          ],
          [
           "freelance designer"
          ],
          [
           "quality analyst"
          ],
          [
           "interactive developer"
          ],
          [
           "chairman board"
          ],
          [
           "technology advisor"
          ],
          [
           "it manager"
          ],
          [
           "research executive"
          ],
          [
           "gis specialist"
          ],
          [
           "gis specialist"
          ],
          [
           "technical lead"
          ],
          [
           "managing editor"
          ],
          [
           "misc"
          ],
          [
           "systems manager"
          ],
          [
           "systems administrator"
          ],
          [
           "keynote presenter"
          ],
          [
           "technical expert"
          ],
          [
           "engagement manager"
          ],
          [
           "client services"
          ],
          [
           "change manager"
          ],
          [
           "process control"
          ],
          [
           "structural engineer"
          ],
          [
           "manager"
          ],
          [
           "head digital"
          ],
          [
           "bi consultant"
          ],
          [
           "creative ux"
          ],
          [
           "senior economist"
          ],
          [
           "general manager"
          ],
          [
           "web designer"
          ],
          [
           "field engineer"
          ],
          [
           "experience architect"
          ],
          [
           "solutions architect"
          ],
          [
           "manager"
          ],
          [
           "test consultant"
          ],
          [
           "national manager"
          ],
          [
           "manager"
          ],
          [
           "senior director"
          ],
          [
           "technical support"
          ],
          [
           "human resources"
          ],
          [
           "human resources"
          ],
          [
           "consultant"
          ],
          [
           "summer clerk"
          ],
          [
           "change manager"
          ],
          [
           "delivery manager"
          ],
          [
           "business intelligence"
          ],
          [
           "board member"
          ],
          [
           "consultant"
          ],
          [
           "visiting researcher"
          ],
          [
           "principal manager"
          ],
          [
           "portfolio manager"
          ],
          [
           "pmo manager"
          ],
          [
           "group manager"
          ],
          [
           "front end"
          ],
          [
           "software engineering"
          ],
          [
           "performance test"
          ],
          [
           "performance test"
          ],
          [
           "engineering manager"
          ],
          [
           "frontend developer"
          ],
          [
           "deputy ceo"
          ],
          [
           "information architect"
          ],
          [
           "lead designer"
          ],
          [
           "freelance designer"
          ],
          [
           "vice president"
          ],
          [
           "consulting partner"
          ],
          [
           "professor economics"
          ],
          [
           "user experience"
          ],
          [
           "experience architect"
          ],
          [
           "information architect"
          ],
          [
           "computer officer"
          ],
          [
           "board advisor"
          ],
          [
           "rf planning"
          ],
          [
           "sr business"
          ],
          [
           "organisational psychologist"
          ],
          [
           "analyst developer"
          ],
          [
           "creative director"
          ],
          [
           "vp engineering"
          ],
          [
           "student planner"
          ],
          [
           "professional player"
          ],
          [
           "analyst"
          ],
          [
           "projects administrator"
          ],
          [
           "business intelligence"
          ],
          [
           "front end"
          ],
          [
           "senior director"
          ],
          [
           "channel manager"
          ],
          [
           "conference chair"
          ],
          [
           "sap consultant"
          ],
          [
           "principal engineer"
          ],
          [
           "content strategist"
          ],
          [
           "communications manager"
          ],
          [
           "web architect"
          ],
          [
           "program manager"
          ],
          [
           "security manager"
          ],
          [
           "marketing manager"
          ],
          [
           "head product"
          ],
          [
           "business manager"
          ],
          [
           "web developer"
          ],
          [
           "team lead"
          ],
          [
           "sap consultant"
          ],
          [
           "investor"
          ],
          [
           "associate dean"
          ],
          [
           "delivery manager"
          ],
          [
           "pmo manager"
          ],
          [
           "strategic sourcing"
          ],
          [
           "communications manager"
          ],
          [
           "global account"
          ],
          [
           "manager"
          ],
          [
           "group manager"
          ],
          [
           "ux consultant"
          ],
          [
           "lead ux"
          ],
          [
           "solutions architect"
          ],
          [
           "change lead"
          ],
          [
           "technical leader"
          ],
          [
           "program management"
          ],
          [
           "deputy ceo"
          ],
          [
           "honorary fellow"
          ],
          [
           "enterprise architect"
          ],
          [
           "solution architect"
          ],
          [
           "enterprise architect"
          ],
          [
           "change manager"
          ],
          [
           "service analyst"
          ],
          [
           "principal consultant"
          ],
          [
           "digital producer"
          ],
          [
           "consulting partner"
          ],
          [
           "change analyst"
          ],
          [
           "director consulting"
          ],
          [
           "principal manager"
          ],
          [
           "graduate program"
          ],
          [
           "analyst programmer"
          ],
          [
           "consultant developer"
          ],
          [
           "associate partner"
          ],
          [
           "change manager"
          ],
          [
           "organisational change"
          ],
          [
           "creative group"
          ],
          [
           "project leader"
          ],
          [
           "medical writer"
          ],
          [
           "rf planning"
          ],
          [
           "director operations"
          ],
          [
           "solution architect"
          ],
          [
           "head product"
          ],
          [
           "sales support"
          ],
          [
           "computer officer"
          ],
          [
           "chief officer"
          ],
          [
           "lecturer tutor"
          ],
          [
           "it consultant"
          ],
          [
           "keynote speaker"
          ],
          [
           "application services"
          ],
          [
           "contract programmer"
          ],
          [
           "commercial lawyer"
          ],
          [
           "manager"
          ],
          [
           "practice manager"
          ],
          [
           "technical advisor"
          ],
          [
           "board directors"
          ],
          [
           "conference chair"
          ],
          [
           "misc"
          ],
          [
           "analyst developer"
          ],
          [
           "pmo manager"
          ],
          [
           "software development"
          ],
          [
           "implementation manager"
          ],
          [
           "user experience"
          ],
          [
           "senior consultant"
          ],
          [
           "user experience"
          ],
          [
           "consultant developer"
          ],
          [
           "it coordinator"
          ],
          [
           "web development"
          ],
          [
           "technical support"
          ],
          [
           "chair board"
          ],
          [
           "consultant"
          ],
          [
           "systems administrator"
          ],
          [
           "electrical engineer"
          ],
          [
           "it support"
          ],
          [
           "sr business"
          ],
          [
           "delivery lead"
          ],
          [
           "project lead"
          ],
          [
           "altis consultant"
          ],
          [
           "altis consultant"
          ],
          [
           "interactive developer"
          ],
          [
           "information technology"
          ],
          [
           "co cto"
          ],
          [
           "consultant"
          ],
          [
           "agile coach"
          ],
          [
           "digital media"
          ],
          [
           "business analyst"
          ],
          [
           "co cto"
          ],
          [
           "legal officer"
          ],
          [
           "security manager"
          ],
          [
           "board member"
          ],
          [
           "investor"
          ],
          [
           "site supervisor"
          ],
          [
           "founder managing"
          ],
          [
           "digital consultant"
          ],
          [
           "head technology"
          ],
          [
           "misc"
          ],
          [
           "full stack"
          ],
          [
           "technical leader"
          ],
          [
           "sap project"
          ],
          [
           "data analyst"
          ],
          [
           "master administration"
          ],
          [
           "senior engineer"
          ]
         ],
         "hovertemplate": "<b>%{hovertext}</b><br><br>x=%{x}<br>y=%{y}<br>tfidfKey=%{customdata[0]}<br>tfidfKeyNum=%{marker.color}<extra></extra>",
         "hovertext": [
          "guest speaker",
          "graduate engineer",
          "senior sales assistant",
          "senior software engineer",
          "software engineer",
          "cashier",
          "manager",
          "crew member",
          "commercial manager",
          "intern",
          "receptionist",
          "marketing coordinator",
          "technician",
          "technical assistant",
          "president",
          "national business development manager",
          "major account manager",
          "team leader",
          "key account manager",
          "account manager",
          "sales coordinator",
          "marketing and public relations intern",
          "retail assistant",
          "waitress",
          "customer service representative",
          "sales representative",
          "project officer",
          "operations officer",
          "research officer",
          "editor",
          "research assistant",
          "graduate accountant",
          "structural engineer",
          "architectural graduate",
          "software developer",
          "tutor",
          "senior sales associate",
          "special counsel",
          "senior associate",
          "lawyer",
          "associate",
          "supervisor",
          "quality assurance",
          "student intern",
          "student engineer",
          "associate software engineer",
          "engineer",
          "student",
          "occupational therapist",
          "project management",
          "project manager",
          "sales associate",
          "sales assistant",
          "various roles",
          "coach",
          "team member",
          "change analyst",
          "property manager",
          "project assistant",
          "financial planner",
          "brand ambassador",
          "food and beverage attendant",
          "teaching assistant",
          "technical officer",
          "shop assistant",
          "director",
          "retail sales representative",
          "guest service agent",
          "concierge",
          "marketing executive",
          "public relations intern",
          "student advisor",
          "contributing writer",
          "digital media manager",
          "assistant store manager",
          "senior facilities manager",
          "operations manager",
          "construction supervisor",
          "marketing manager",
          "digital marketing manager",
          "digital project manager",
          "business development manager",
          "marketing director",
          "trainee",
          "deloitte development program",
          "service supervisor",
          "business analyst",
          "winter intern",
          "project consultant",
          "instructor",
          "freelance designer",
          "casual academic",
          "academic tutor",
          "head teacher",
          "consultant",
          "recruitment consultant",
          "sponsorship director",
          "senior consultant",
          "replenishment team member",
          "environmental health officer",
          "store assistant",
          "customer service assistant",
          "early childhood educator",
          "travel consultant",
          "marketing associate",
          "residential assistant",
          "foundations program",
          "basketball coach",
          "field engineer",
          "event staff",
          "vice president",
          "secretary",
          "associate director",
          "senior account manager",
          "account executive",
          "cofounder",
          "council member",
          "shift supervisor",
          "student representative",
          "student ambassador",
          "board member",
          "demonstrator",
          "sales consultant",
          "peer mentor",
          "entrepreneur",
          "assistant manager",
          "construction services manager",
          "postdoctoral researcher",
          "lifeguard",
          "work experience",
          "underwriter",
          "department manager",
          "founder",
          "deputy manager",
          "sales",
          "sessional academic",
          "pass leader",
          "senior strategic planner",
          "strategic planner",
          "law clerk",
          "senior project manager",
          "communications officer",
          "legal assistant",
          "associate professor",
          "research fellow",
          "primary school teacher",
          "general manager",
          "head of business operations",
          "non executive director",
          "treasurer",
          "financial controller",
          "swimming instructor",
          "customer service officer",
          "librarian",
          "seasonal clerk",
          "marketing assistant",
          "paralegal",
          "classroom teacher",
          "content producer",
          "product specialist",
          "front end developer",
          "web developer",
          "technology specialist",
          "engineering intern",
          "physiotherapist",
          "communications",
          "pharmacy assistant",
          "site supervisor",
          "speech language pathologist",
          "speech pathology student clinician",
          "student research assistant",
          "real estate agent",
          "project coordinator",
          "senior manager",
          "senior data analyst",
          "undergraduate engineer",
          "contributor",
          "freelance copywriter",
          "marketing intern",
          "teller",
          "senior lecturer",
          "lecturer",
          "customer service",
          "front office manager",
          "administrative assistant",
          "full stack developer",
          "network engineer",
          "town planner",
          "administration officer",
          "customer service associate",
          "reporting analyst",
          "senior financial planner",
          "paraplanner",
          "managing consultant",
          "senior recruitment consultant",
          "client services executive",
          "research analyst",
          "graduate software engineer",
          "waiter",
          "policy officer",
          "senior account executive",
          "senior designer",
          "senior graphic designer",
          "graphic designer",
          "campaign analyst",
          "design engineer",
          "bartender",
          "relationship executive",
          "marketing and communications intern",
          "production supervisor",
          "engineering manager",
          "project engineer",
          "business development executive",
          "sales director",
          "barista",
          "owner",
          "business support officer",
          "service desk analyst",
          "partner",
          "technical consultant",
          "automation engineer",
          "head of product",
          "analyst",
          "territory manager",
          "visual merchandiser",
          "communications manager",
          "event coordinator",
          "retail sales assistant",
          "student planner",
          "quality analyst",
          "electrician",
          "senior project engineer",
          "site engineer",
          "service specialist",
          "business director",
          "community manager",
          "photographer",
          "teacher",
          "registered nurse",
          "project administration manager",
          "graduate",
          "litigation paralegal",
          "agribusiness manager",
          "business banking manager",
          "marketing and communications manager",
          "desktop support",
          "vacation student",
          "senior property manager",
          "sessional lecturer",
          "sessional tutor",
          "client services",
          "developer",
          "graduate lawyer",
          "sales development representative",
          "communications intern",
          "committee member",
          "social media intern",
          "assistant director",
          "phd student",
          "event manager",
          "electrical design engineer",
          "data analyst",
          "digital strategist",
          "facilitator",
          "media assistant",
          "principal consultant",
          "senior developer",
          "senior web developer",
          "analyst programmer",
          "senior pricing analyst",
          "mechanical engineer",
          "retail sales associate",
          "hr officer",
          "pharmacist",
          "ios developer",
          "program manager",
          "recruitment coordinator",
          "recruitment officer",
          "warehouse assistant",
          "sessional instructor",
          "senior scientist",
          "media officer",
          "electrical engineer",
          "research student",
          "personal banker",
          "relationship manager",
          "administration",
          "graduate civil engineer",
          "chief executive officer",
          "board director",
          "program coordinator",
          "co founder",
          "practice manager",
          "chief operating officer",
          "journalist",
          "customer service specialist",
          "library assistant",
          "lending specialist",
          "producer",
          "volunteer",
          "executive producer",
          "teaching associate",
          "phd candidate",
          "research scientist",
          "retail sales",
          "structural draftsman",
          "senior research assistant",
          "specialist",
          "senior technical consultant",
          "senior technology teacher",
          "sales manager",
          "hr coordinator",
          "events assistant",
          "quantity surveyor",
          "construction manager",
          "foreman",
          "contract administrator",
          "customer service manager",
          "creative director",
          "management accountant",
          "internship",
          "assistant accountant",
          "accounting intern",
          "public relations officer",
          "pool lifeguard",
          "programmer",
          "mechanical design engineer",
          "application specialist",
          "postdoctoral research fellow",
          "sales support",
          "research intern",
          "gm",
          "tax manager",
          "android developer",
          "project administrator",
          "national sales manager",
          "business manager",
          "sales executive",
          "technical specialist",
          "chemical engineering intern",
          "senior system engineer",
          "private tutor",
          "senior policy officer",
          "strategy consultant",
          "business advisor",
          "executive manager",
          "strategy manager",
          "researcher",
          "graduate-at-law",
          "data scientist",
          "graduate student researcher",
          "personal assistant",
          "customer advisor",
          "it support officer",
          "system analyst",
          "senior data engineer",
          "medical science liaison",
          "event assistant",
          "marketing",
          "solicitor",
          "communications coordinator",
          "editorial intern",
          "user experience researcher",
          "product owner",
          "technical services manager",
          "clinical psychologist",
          "student dietitian",
          "research dietitian",
          "executive officer",
          "senior management accountant",
          "assistant",
          "assistant development manager",
          "research manager",
          "undergraduate civil engineer",
          "communication coordinator",
          "site civil engineer",
          "digital marketing intern",
          "scientist",
          "assistant branch manager",
          "presenter",
          "devops engineer",
          "financial advisor",
          "brand manager",
          "civil engineering intern",
          "collections officer",
          "audio visual technician",
          "customer service agent",
          "bank manager",
          "operations team leader",
          "assistant professor",
          "podiatrist",
          "internal auditor",
          "administrative officer",
          "information officer",
          "investment analyst",
          "peer tutor",
          "educator",
          "social media manager",
          "innovation consultant",
          "branch manager",
          "croupier",
          "project lead",
          "category manager",
          "duty manager",
          "salesperson",
          "assistant relationship manager",
          "technical support",
          "company secretary",
          "junior business analyst",
          "design intern",
          "sales and marketing",
          "interior designer",
          "strategist",
          "digital marketing strategist",
          "cancer researcher",
          "senior front end engineer",
          "management consultant",
          "customer service consultant",
          "graduate electrical engineer",
          "junior engineer",
          "marketing graduate",
          "associate project manager",
          "distribution manager",
          "national account manager",
          "laboratory technician",
          "independent consultant",
          "contractor",
          "contracted research assistant",
          "property valuer",
          "designer",
          "work experience student",
          "vacationer",
          "partnership executive",
          "executive assistant",
          "purchasing officer",
          "office coordinator",
          "senior ios developer",
          "accountant",
          "creative",
          "summer student",
          "summer intern",
          "professional officer",
          "principal analyst",
          "business owner",
          "finance graduate",
          "director of operations",
          "office assistant",
          "design lead",
          "ui/ux designer",
          "various",
          "legal officer",
          "assistant brand manager",
          "marketing services manager",
          "technical expert",
          "system administrator",
          "national project manager",
          "digital producer",
          "compliance manager",
          "disability support worker",
          "trainee accountant",
          "senior development manager",
          "social media coordinator",
          "senior research scientist",
          "postdoctoral fellow",
          "project support officer",
          "client manager",
          "associate lecturer",
          "intern psychologist",
          "site manager",
          "projects administrator",
          "document controller",
          "player",
          "senior business development manager",
          "human resource officer",
          "human resources manager",
          "payroll officer",
          "architectural assistant",
          "full time student",
          "office manager",
          "professor",
          "visiting lecturer",
          "production coordinator",
          "it systems engineer",
          "web designer",
          "content coordinator",
          "personal lines underwriter",
          "principal",
          "senior financial accountant",
          "group accountant",
          "work placement",
          "assistant editor",
          "counsellor",
          "trainer",
          "industrial designer",
          "student consultant",
          "chairperson",
          "program officer",
          "business mentor",
          "occupational therapy student",
          "guest lecturer",
          "bank teller",
          "environmental engineer",
          "training officer",
          "database administrator",
          "university lecturer",
          "youth worker",
          "facilities manager",
          "facilities coordinator",
          "web application developer",
          "program facilitator",
          "business",
          "human resources coordinator",
          "hr intern",
          "account coordinator",
          "senior hr business partner",
          "hr business partner",
          "hr consultant",
          "sales team lead",
          "senior technology architect",
          "project director",
          "financial accountant",
          "accounts assistant",
          "co-founder",
          "process engineer",
          "graduate process engineer",
          "undergraduate site engineer",
          "executive director",
          "senior structural engineer",
          "summer vacationer - assurance & advisory",
          "christmas casual",
          "architect",
          "senior analyst",
          "exercise physiologist",
          "commercial analyst",
          "secondee",
          "legal intern",
          "programmer analyst",
          "laboratory demonstrator",
          "building cadet",
          "architectural technician",
          "optical dispenser",
          "human resources officer",
          "hr administrator",
          "financial analyst",
          "executive",
          "graduate structural engineer",
          "food and beverage manager",
          "change manager",
          "development manager",
          "clinical nurse specialist",
          "water engineer",
          "senior instructor",
          "project specialist",
          "business development",
          "events coordinator",
          "java developer",
          "visiting research fellow",
          "junior accountant",
          "production assistant",
          "technical developer",
          "integration lead",
          "technical architect",
          "research scholar",
          "global shaper",
          "communications strategist",
          "business development officer",
          "franchisee",
          "regional sales manager",
          "visiting scientist",
          "festival coordinator",
          "associate dean",
          "director consulting",
          "senior audit manager",
          "finance manager",
          "audit manager",
          "senior auditor",
          "senior marketing manager",
          "principal advisor",
          "acting manager",
          "fellow",
          "social media officer",
          "it coordinator",
          "area manager",
          "residential sales agent",
          "sales specialist",
          "business relationship manager",
          "service delivery manager",
          "customer service supervisor",
          "senior accountant",
          "process control engineer",
          "senior frontend developer",
          "frontend developer",
          "operations associate",
          "estimator",
          "contracts manager",
          "copywriter",
          "content writer",
          "team manager",
          "marketing specialist",
          "marketing advisor",
          "senior relationship manager",
          "business sales consultant",
          "marketing & communications coordinator",
          "public relations assistant",
          "electronics technician",
          "communications advisor",
          "corporate counsel",
          "law graduate",
          "vacation clerk",
          "alumni relations officer",
          "senior business analyst",
          "executive assistant to ceo",
          "editor in chief",
          "planning engineer",
          "civil engineer",
          "sales and marketing coordinator",
          "service technician",
          "managing director",
          "communications specialist",
          "assistant property manager",
          "qa lead",
          "test analyst",
          "mathematics teacher",
          "contracts administrator",
          "training coordinator",
          "psychologist",
          "ambassador",
          "account director",
          "executive vice president",
          "mentor",
          "production manager",
          "environmental coordinator",
          "senior research fellow",
          "summer vacationer",
          "senior technician",
          "reporter",
          "news editor",
          "senior technical officer",
          "summer internship",
          "group financial controller",
          "student researcher",
          "security consultant",
          "information security consultant",
          "senior network engineer",
          "speaker",
          "mobile applications developer",
          "member board of directors",
          "undergraduate",
          "digital marketing specialist",
          "senior ux designer",
          "lead ux designer",
          "ux designer",
          "personal trainer",
          "cadet",
          "co-founder & director",
          "senior project officer",
          "director & co-founder",
          "marketing and communications coordinator",
          "safety advisor",
          "pharmacy student",
          "administration assistant",
          "legal counsel",
          "senior analyst programmer",
          "database analyst",
          "associate business analyst",
          "auditor",
          "lead mobile developer",
          "quality engineer",
          "founding partner",
          "research engineer",
          "visiting research scholar",
          "portfolio manager",
          "economist",
          "graduate analyst",
          "application support analyst",
          "technical business analyst",
          "sustainability officer",
          "senior test analyst",
          "human resources administrator",
          "shift manager",
          "recruitment advisor",
          "senior recruiter",
          "mechanical engineering intern",
          "head of marketing",
          "marketing consultant",
          "marketing analyst",
          "recruitment resourcer",
          "head of internal audit",
          "audit senior",
          "game designer",
          "head of finance",
          "national business manager",
          "regional general manager",
          "freelance writer",
          "lead developer",
          "tech lead",
          "desktop support analyst",
          "client services manager",
          "credit analyst",
          "senior contract administrator",
          "lab demonstrator",
          "paramedic",
          "creative producer",
          "senior systems engineer",
          "systems engineer",
          "client relationship manager",
          "adjunct lecturer",
          "product manager",
          "deputy chair",
          "application developer",
          "store manager",
          "parental leave",
          "sourcing specialist",
          "geotechnical engineer",
          "senior software test engineer",
          "software test engineer",
          "national sales and marketing manager",
          "digital marketing executive",
          "marketing internship",
          "leading hand electrician",
          "marketing officer",
          "senior tutor",
          "it engineer",
          "system engineer",
          "project analyst",
          "ceo and founder",
          "adviser",
          "devops consultant",
          "adjunct professor",
          "infrastructure project manager",
          "sustainability consultant",
          "business analyst/project manager",
          "graduate student",
          "business project manager",
          "it support manager",
          "senior electrical engineer",
          "associate consultant",
          "graduate metallurgist",
          "gp sales representative",
          "safety coordinator",
          "external affairs manager",
          "technical analyst",
          "organisational change manager",
          "phd researcher",
          "clinical educator",
          "speech pathologist",
          "support engineer",
          "research consultant",
          "senior it specialist",
          "construction project manager",
          "environmental consultant",
          "financial planning manager",
          "junior developer",
          "coordinator",
          "adjunct research fellow",
          "program director",
          "research associate",
          "human resources advisor",
          "senior contracts administrator",
          "assistant project manager",
          "customer service team leader",
          "user experience designer",
          "analytics manager",
          "implementation manager",
          "project business analyst",
          "administration manager",
          "change consultant",
          "critical care registered nurse",
          "general counsel",
          "senior lawyer",
          "barrister",
          "director and co-founder",
          "casual tutor",
          "enterprise architect",
          "solution architect",
          "system architect",
          "graduate architect",
          "medical writer",
          "admissions officer",
          "digital content producer",
          "regional director",
          "industrial officer",
          "chair of the board of directors",
          "director of education",
          "ios software engineer",
          "analyst / programmer",
          "community organiser",
          "group manager",
          "education officer",
          "chief executive",
          "graduate trainee",
          "environmental officer",
          "graduate project engineer",
          "summer studentship",
          "senior mechanical engineer",
          "lead mechanical engineer",
          "program delivery manager",
          "graduate mechanical engineer",
          "advisory board member",
          "senior mobile engineer",
          "mobile developer",
          "case manager",
          "marketing automation specialist",
          "community engagement officer",
          "visiting scholar",
          "junior project manager",
          "video technician",
          "principal business analyst",
          "senior digital consultant",
          "consultant business analyst",
          "business process analyst",
          "planner",
          "operations specialist",
          "national operations manager",
          "financial adviser",
          "mechanical project engineer",
          "employee relations specialist",
          "summer clerk",
          "chief financial officer",
          "services quantity surveyor",
          "tax lawyer",
          "human resources graduate",
          "business support",
          "mobile engineer",
          "development officer",
          "public relations manager",
          "functional consultant",
          "lead data scientist",
          "systems architect",
          "systems analyst",
          "senior research officer",
          "digital marketing coordinator",
          "finance assistant",
          "head of technology",
          "night manager",
          "policy advisor",
          "design director",
          "senior product designer",
          "creative consultant",
          "sales engineer",
          "sales team leader",
          "state manager",
          "client executive",
          "general manager marketing",
          "national marketing manager",
          "sports dietitian",
          "clinical dietitian",
          "phd scholar",
          "undergraduate researcher",
          "writer",
          "buyer",
          "ceo & founder",
          "sales & marketing manager",
          "business consultant",
          "adjunct fellow",
          "technical support specialist",
          "senior civil engineer",
          "assistant marketing manager",
          "event director",
          "recruitment specialist",
          "hydrogeologist",
          "engagement manager",
          "experience designer",
          "senior service designer",
          "service designer",
          "innovation manager",
          "customer experience manager",
          "head of design",
          "adjunct senior lecturer",
          "network security engineer",
          "graduate mine geologist",
          "advisory council member",
          "keynote speaker",
          "founder & managing director",
          "marketing communications coordinator",
          "subject matter expert",
          "digital director",
          "senior civil engineer - drainage and utilities",
          "head of operations",
          "hotel manager",
          "member",
          "founding director",
          "it business analyst",
          "senior research engineer",
          "test engineer",
          "provisional psychologist",
          "polling assistant",
          "valuer",
          "finance",
          "partner support representative",
          "clinical associate professor",
          "senior journalist",
          "medical oncologist",
          "infrastructure engineer",
          "network administrator",
          "trainee solicitor",
          "organisational development specialist",
          "senior programmer",
          "course convenor",
          "optometrist",
          "academic",
          "post-doctoral research fellow",
          "3d generalist",
          "lead consultant",
          "arc future fellow",
          "executive committee member",
          "senior experience designer",
          "research coordinator",
          "business coordinator",
          "head of school",
          "data engineer",
          "leader",
          "communications consultant",
          "senior planner",
          "actor",
          "technical manager",
          "postdoctoral research associate",
          "technical director",
          "it manager",
          "systems administrator",
          "head of psychology",
          "delegate",
          "workshop presenter",
          "sports physiotherapist",
          "senior engineer",
          "associate engineer",
          "senior environmental advisor",
          "environmental manager",
          "solutions consultant",
          "test manager",
          "process development engineer",
          "deputy head of school",
          "army officer",
          "design draftsman",
          "sales and marketing executive",
          "co-founder and cto",
          "senior digital producer",
          "field service engineer",
          "policy adviser",
          "co-founder and managing director",
          "senior interior designer",
          "trainee engineer",
          "project development manager",
          "structural design engineer",
          "senior commercial analyst",
          "associate product manager",
          "graduate developer",
          "founder and director",
          "instructional designer",
          "senior instructional designer",
          "learning & development consultant",
          "training manager",
          "digital marketing consultant",
          "co-founder & ceo",
          "co-founder & cto",
          "business system analyst",
          "environmental scientist",
          "business unit manager",
          ".net developer",
          "assurance intern",
          "enterprise agile coach",
          "scrum master",
          "patent attorney",
          "senior software developer",
          "engagement lead",
          "business systems analyst",
          "regional manager",
          "nsw state manager",
          "director of business development",
          "project architect",
          "application architect",
          "infrastructure architect",
          "web development manager",
          "marketing and communications officer",
          "process analyst",
          "senior advisor",
          "implementation engineer",
          "senior account director",
          "research clerk",
          "business operations manager",
          "sponsorship manager",
          "investment manager",
          "senior product manager",
          "senior quantity surveyor",
          "founder and creative director",
          "senior marketing specialist",
          "business analyst / project manager",
          "director of marketing",
          "founder & director",
          "lead engineer",
          "technical team lead",
          "senior system analyst",
          "clerk",
          "learning and development manager",
          "senior copywriter",
          "partnerships manager",
          "sales and marketing manager",
          "senior geotechnical engineer",
          "quality manager",
          "service manager",
          "external auditor",
          "key account executive",
          "product designer",
          "it support",
          "assistant lecturer",
          "senior architect",
          "head coach",
          "consultant developer",
          "software development engineer",
          "ict manager",
          "plastic surgeon",
          "articled clerk",
          "specialist technician",
          "senior qa analyst",
          "senior qa engineer",
          "senior hr officer",
          "senior director",
          "agile coach",
          "delivery lead",
          "senior .net developer",
          "ceo & co-founder",
          "it analyst",
          "honorary fellow",
          "pr manager",
          "pr executive",
          "human resources business partner",
          "public relations",
          "senior sales executive",
          "local committee president",
          "bridge engineer",
          "freelance editor",
          "associate editor",
          "senior key account manager",
          "graduate software developer",
          "group director",
          "head of human resources",
          "principal project manager",
          "senior communications advisor",
          "post-doctoral fellow",
          "participant",
          "solutions architect",
          "associate manager",
          "strategy analyst",
          "crew trainer",
          "senior teaching fellow",
          "teaching fellow",
          "group representative",
          "team lead",
          "user experience consultant",
          "it consultant",
          "uat analyst",
          "chair",
          "undergraduate civil engineering work experience",
          "principal lawyer",
          "social media specialist",
          "technical advisor",
          "planning consultant",
          "specialist software engineer",
          "crm manager",
          "chief marketing officer",
          "procurement manager",
          "procurement specialist",
          "services manager",
          "contract sessional academic",
          "revenue manager",
          "reservations manager",
          "software architect",
          "bid manager",
          "freelance contributor",
          "regional marketing manager",
          "features editor",
          "senior management consultant",
          "assistant engineer",
          "php developer",
          "technical team manager",
          "freelance video editor",
          "tax consultant",
          "senior environmental engineer",
          "senior user experience designer",
          "technical lead",
          "chief technology officer",
          "head of development",
          "senior java developer",
          "communications and marketing manager",
          "mba student",
          "visiting academic",
          "senior front end developer",
          "conjoint lecturer",
          "senior estimator",
          "mba candidate",
          "it contractor",
          "english teacher",
          "retail store manager",
          "naval officer",
          "performance analyst",
          "commercial director",
          "sessional teacher",
          "family room specialist",
          "senior landscape architect",
          "medical officer",
          "technical delivery manager",
          "senior delivery analyst",
          "senior corporate counsel",
          "operations analyst",
          "business partner",
          "finance analyst",
          "senior software engineering manager",
          "recruitment business partner",
          "big data engineer",
          "digital designer",
          "casual staff",
          "head of strategy",
          "visiting post-doctoral research fellow",
          "training consultant",
          "applications engineer",
          "senior solutions architect",
          "senior support engineer",
          "senior digital designer",
          "program lead",
          "postgraduate researcher",
          "executive consultant",
          "author",
          "editorial assistant",
          "senior solution consultant",
          "examiner",
          "student architect",
          "people & culture business partner",
          "support analyst",
          "associate partner",
          "front-end web developer",
          "senior ios engineer",
          "advanced sports dietitian",
          "host",
          "professional services manager",
          "visiting professor",
          "visiting fellow",
          "deputy director",
          "national chair",
          "group executive",
          "test lead",
          "senior software analyst",
          "unit coordinator",
          "experience design lead",
          "environment manager",
          "senior security engineer",
          "lead business analyst",
          "digital account manager",
          "national manager",
          "principal engineer",
          "management trainee",
          "rail systems manager",
          "research affiliate",
          "chief operations officer",
          "co director",
          "change management consultant",
          "volunteer firefighter",
          "lead architect",
          "senior operations manager",
          "digital communications manager",
          "leadership development consultant",
          "quality assurance engineer",
          "technology analyst",
          "founder & ceo",
          "zero harm advisor",
          "co-supervisor",
          "hr advisor",
          "founder and managing director",
          "it service delivery manager",
          "sustainability manager",
          "art director",
          "teacher librarian",
          "client director",
          "senior system administrator",
          "part-time lecturer",
          "hseq advisor",
          "consulting engineer",
          "pricing analyst",
          "infrastructure analyst",
          "deputy project director",
          "executive creative director",
          "honorary research fellow",
          "business intelligence analyst",
          "doctoral researcher",
          "environmental advisor",
          "senior legal consultant",
          "product consultant",
          "technology consultant",
          "deployment manager",
          "professor of economics",
          "head of risk",
          "sr. unix system administrator",
          "contract manager",
          "project services manager",
          "project controls manager",
          "graduate research assistant",
          "bi developer",
          "materials engineer",
          "leasing executive",
          "leasing manager",
          "casual lecturer",
          "asset manager",
          "non-executive director",
          "visiting medical officer",
          "group account director",
          "hr manager",
          "project pharmacist",
          "principal software engineer",
          "project delivery manager",
          "sharepoint developer",
          "assistant dean",
          "principal research scientist",
          "membership manager",
          "senior environmental scientist",
          "lead analyst",
          "systems analyst/programmer",
          "capability development manager",
          "graduate program",
          "technical project manager",
          "director of innovation",
          "statistician",
          "consulting psychologist",
          "ux consultant",
          "talent consultant",
          "frontend web developer",
          "business architect",
          "project leader",
          ".net software developer",
          "program management consultant",
          "senior technical business analyst",
          "co-founder and director",
          "technical support engineer",
          "project executive",
          "online producer",
          "risk analyst",
          "senior sales consultant",
          "internal audit manager",
          "entrepreneur in residence",
          "company director",
          "team assistant",
          "senior campaign manager",
          "program/project manager",
          "senior it project manager",
          "strategic advisor",
          "strategy director",
          "founder and ceo",
          "senior adviser",
          "consultant via shine technologies",
          "organiser",
          "recruitment lead",
          "recruitment manager",
          "lecturer in exercise physiology",
          "application support lead",
          "sap senior consultant",
          "associate principal",
          "co-chair",
          "internal communications manager",
          "acting general manager",
          "project planner",
          "content manager",
          "business development advisor",
          "bdm",
          "senior solutions consultant",
          "marketing communications manager",
          "it project manager",
          "lecturer/tutor",
          "recruitment",
          "group product manager",
          "head of marketing - asia pacific",
          "construction engineer",
          "senior engineering manager",
          "freelance journalist",
          "enterprise account executive",
          "project co-ordinator",
          "marketing & communications officer",
          "project management consultant",
          "advisor",
          "senior commercial manager",
          "project team leader",
          "digital experience manager",
          "business systems manager",
          "content marketing manager",
          "assistant secretary",
          "consulting manager",
          "it systems manager",
          "agile business analyst",
          "vp",
          "acting visitor services coordinator",
          "group leader",
          "social worker",
          "senior associate director",
          "design manager",
          "digital business analyst",
          "training facilitator",
          "national key account manager",
          "business banking officer",
          "media manager",
          "business improvement manager",
          "senior researcher",
          "senior application specialist",
          "customer account manager",
          "associate producer",
          "online marketing specialist",
          "international travel consultant",
          "online marketing manager",
          "md",
          "chairman",
          "sap fico consultant",
          "senior sap consultant",
          "managing editor",
          "service consultant",
          "head",
          "chief of staff",
          "marketing communications consultant",
          "leadership coach",
          "project accountant",
          "honorary associate",
          "qa analyst",
          "user experience lead",
          "adjunct associate professor",
          "retail planner",
          "educational designer",
          "digital compositor",
          "test consultant",
          "trustee",
          "technology advisor",
          "soldier",
          "managing partner",
          "elearning developer",
          "project quality manager",
          "civil design engineer",
          "senior recruitment advisor",
          "senior ux consultant",
          "senior producer",
          "temporary data entry clerk",
          "crm functional consultant",
          "crm business analyst",
          "computer systems officer",
          "telecommunications engineer",
          "integration specialist",
          "senior technical consultant & integration sme",
          "business development director",
          "software manager",
          "vice-president",
          "chairman of the board",
          "project marketing manager",
          "analyst/programmer",
          "oracle dba",
          "councillor",
          "senior portfolio manager",
          "sales co-ordinator",
          "major accounts manager",
          "co-founder and ceo",
          "technical account manager",
          "bi consultant",
          "licensed real estate agent",
          "senior software development engineer",
          "lead software development engineer",
          "senior php developer",
          "state sales manager",
          "practice development manager",
          "senior technical architect",
          "senior solution architect",
          "digital development manager",
          "senior safety advisor",
          "senior systems analyst",
          "iphone developer",
          "lead software engineer",
          "research leader",
          "solution delivery manager",
          "consultant / software developer",
          "lead frontend developer",
          "field service technician",
          "senior financial analyst",
          "creative lead",
          "senior art director",
          "director of agility",
          "chief information officer",
          "head of engineering",
          "private banker",
          "campaign manager",
          "product development manager",
          "agile tester",
          "it specialist",
          "professor of finance",
          "research director",
          "solutions designer",
          "change lead",
          "solution designer",
          "hardware engineer",
          "head of consulting",
          "ecommerce manager",
          "channel account manager",
          "server engineer",
          "head of social",
          "social media strategist",
          "security specialist",
          "enterprise account manager",
          "security manager",
          "senior business consultant",
          "product marketing manager",
          "senior sitecore developer",
          "database developer",
          "dw consultant",
          "digital product owner",
          "software development manager",
          "iteration manager",
          "senior recruitment specialist",
          "systems consultant",
          "senior software consultant",
          "secondee - legal counsel",
          "web designer & developer",
          "program change manager",
          "sap consultant",
          "implementation project manager",
          "strategic consultant",
          "technical writer",
          "software programmer",
          "senior change management consultant",
          "chief product officer",
          "test director",
          "program test manager",
          "digital consultant",
          "customer services manager",
          "project manager / business analyst",
          "senior information management analyst",
          "integration consultant",
          "jee software engineer",
          "business intelligence consultant",
          "senior design engineer",
          "development consultant",
          "retail career business linkedin recruitment coach : career personal brand linkedin profiles",
          "post doctoral research fellow",
          "senior bi consultant",
          "consulting business analyst",
          "senior development consultant",
          "freelance senior designer",
          "senior quality analyst",
          "interactive developer",
          "executive chairman",
          "technology lead",
          "it operations manager",
          "research executive",
          "senior gis specialist",
          "gis specialist",
          "senior technical lead",
          "managing principal",
          "publicist",
          "systems manager",
          "senior systems administrator",
          "keynote presenter",
          "invited expert",
          "senior engagement manager",
          "client services director",
          "senior change manager",
          "infection control consultant",
          "senior civil/structural engineer",
          "section manager",
          "head of digital",
          "sap bi consultant",
          "digital creative ux & design",
          "senior economist",
          "executive general manager",
          "senior web designer",
          "field marketing manager",
          "experience architect",
          "principal solutions architect",
          "programme manager",
          "senior test consultant",
          "national director",
          "country manager",
          "acting director",
          "technical support officer",
          "general manager human resources",
          "national human resources manager",
          "aem consultant",
          "summer associate",
          "organisation change manager",
          "delivery manager",
          "business intelligence developer",
          "non executive board member",
          "itsm consultant",
          "visiting researcher",
          "principal manager",
          "it portfolio manager",
          "pmo manager",
          "group marketing manager",
          "senior front-end developer",
          "software engineering manager",
          "performance test consultant",
          "performance test lead",
          "director of engineering",
          "senior frontend engineer",
          "deputy ceo",
          "consulting information architect",
          "lead designer",
          "freelance motion graphics designer",
          "pro vice-chancellor",
          "consulting partner",
          "director - economics",
          "senior user experience consultant",
          "user experience architect",
          "information architect",
          "computer support officer",
          "board advisor",
          "rf engineer",
          "sr. business analyst",
          "organisational psychologist",
          "analyst developer",
          "digital creative director",
          "vp engineering",
          "transport planner",
          "professional rugby league player",
          "market analyst",
          "senior projects manager",
          "senior business intelligence consultant",
          "front-end developer",
          "sector director",
          "channel manager",
          "conference chair",
          "sap grc & basis consultant via twc",
          "principal research engineer",
          "content strategist",
          "senior manager - communications",
          "web architect",
          "senior program manager",
          "manager it security",
          "direct marketing manager",
          "product director",
          "new business manager",
          "freelance web developer",
          "development team lead",
          "sap crm consultant",
          "investor",
          "executive dean",
          "account delivery manager",
          "pmo consultant",
          "strategic sourcing manager",
          "communications director",
          "global account manager",
          "release manager",
          "group sales manager",
          "senior ux architect",
          "ux lead",
          "enterprise solutions architect",
          "change management lead",
          "technical leader",
          "director program management",
          "ceo",
          "honorary senior fellow",
          "enterprise business architect",
          "lead solution architect",
          "lead enterprise architect",
          "it change manager",
          "service engineer",
          "principal consultant and director",
          "contract senior digital producer",
          "consulting principal",
          "senior business analyst - migration & regulatory change",
          "consulting director",
          "senior principal",
          "program architect",
          "senior analyst/programmer",
          "eclipse rcp developer",
          "senior partner",
          "business change manager",
          "organisational change lead",
          "creative group head",
          "project leader - gamma",
          "senior medical physicist",
          "2g/3g/4g rf optimization & planning consultant",
          "operations director",
          "bi solution architect",
          "product lead",
          "support manager",
          "computer operator",
          "chief digital officer",
          "p/t tutor",
          "senior it consultant",
          "presenter / speaker",
          "application services manager",
          "contract programmer",
          "commercial lawyer",
          "manager fi&t",
          "digital practice manager",
          "executive advisor",
          "member of the board of directors",
          "conference director",
          "cfo",
          "senior analyst developer",
          "national pmo manager",
          "software development lead",
          "implementation consultant",
          "principal user experience consultant",
          "tibco senior consultant",
          "head of user experience",
          "lotus notes developer",
          "it architect",
          "web development engineer",
          "technical support analyst",
          "board chair",
          "principle consultant",
          "unix systems administrator",
          "lead electrical engineer",
          "it support analyst",
          "sr business analyst",
          "altis - delivery lead",
          "altis - project lead",
          "altis - principal consultant",
          "altis - senior consultant",
          "freelance interactive developer",
          "director information technology",
          "co-founder - cto",
          "peoplesoft consultant",
          "agile delivery coach",
          "digital specialist - woolworths media hub",
          "snr business analyst",
          "cto",
          "principal legal officer",
          "security architect",
          "board member/director",
          "angel investor",
          "cg supervisor",
          "managing director and founder",
          "senior digital design consultant",
          "head of production technology",
          "animator",
          "senior full stack .net developer",
          "lightweighting theme leader",
          "sap project manager",
          "senior data consultant",
          "master of business administration",
          "senior sw engineer"
         ],
         "legendgroup": "",
         "marker": {
          "color": [
           39,
           381,
           423,
           210,
           210,
           15,
           255,
           167,
           112,
           45,
           15,
           304,
           355,
           72,
           162,
           510,
           115,
           70,
           254,
           66,
           237,
           129,
           181,
           15,
           53,
           178,
           223,
           409,
           400,
           38,
           300,
           12,
           140,
           285,
           182,
           243,
           366,
           197,
           81,
           33,
           81,
           8,
           393,
           45,
           60,
           421,
           335,
           60,
           264,
           62,
           321,
           366,
           423,
           441,
           151,
           455,
           216,
           291,
           390,
           376,
           101,
           453,
           296,
           412,
           25,
           345,
           178,
           338,
           15,
           459,
           129,
           60,
           52,
           2,
           144,
           177,
           220,
           14,
           460,
           356,
           41,
           87,
           360,
           143,
           119,
           447,
           159,
           45,
           61,
           114,
           272,
           28,
           76,
           100,
           324,
           518,
           125,
           461,
           455,
           478,
           144,
           53,
           161,
           280,
           81,
           47,
           122,
           151,
           44,
           15,
           82,
           333,
           454,
           66,
           426,
           15,
           326,
           266,
           43,
           101,
           34,
           164,
           180,
           42,
           439,
           25,
           14,
           511,
           443,
           239,
           311,
           255,
           97,
           95,
           240,
           411,
           149,
           474,
           474,
           527,
           321,
           386,
           137,
           468,
           336,
           519,
           157,
           370,
           290,
           15,
           234,
           114,
           53,
           248,
           49,
           391,
           445,
           100,
           417,
           37,
           359,
           134,
           214,
           302,
           258,
           26,
           138,
           8,
           330,
           484,
           404,
           283,
           59,
           306,
           85,
           190,
           246,
           350,
           131,
           145,
           165,
           165,
           53,
           148,
           133,
           316,
           17,
           68,
           261,
           53,
           405,
           376,
           15,
           10,
           518,
           332,
           24,
           381,
           15,
           537,
           426,
           79,
           313,
           313,
           171,
           399,
           15,
           109,
           235,
           130,
           212,
           497,
           87,
           240,
           15,
           483,
           428,
           136,
           198,
           448,
           200,
           37,
           405,
           255,
           499,
           26,
           152,
           181,
           68,
           0,
           435,
           497,
           98,
           389,
           342,
           183,
           15,
           100,
           221,
           261,
           46,
           445,
           255,
           309,
           467,
           322,
           288,
           291,
           15,
           15,
           517,
           185,
           33,
           178,
           235,
           339,
           141,
           25,
           16,
           152,
           135,
           85,
           492,
           319,
           2,
           470,
           524,
           134,
           449,
           286,
           124,
           181,
           476,
           465,
           522,
           122,
           233,
           233,
           25,
           114,
           90,
           2,
           135,
           404,
           83,
           109,
           261,
           358,
           446,
           107,
           119,
           74,
           195,
           96,
           104,
           389,
           25,
           30,
           111,
           433,
           111,
           296,
           535,
           463,
           181,
           132,
           300,
           30,
           448,
           120,
           240,
           58,
           274,
           156,
           14,
           15,
           482,
           53,
           186,
           388,
           89,
           12,
           45,
           129,
           443,
           213,
           124,
           438,
           289,
           158,
           45,
           15,
           194,
           185,
           493,
           473,
           176,
           507,
           415,
           302,
           64,
           71,
           537,
           203,
           209,
           105,
           203,
           35,
           257,
           344,
           84,
           83,
           530,
           297,
           466,
           472,
           99,
           152,
           103,
           276,
           139,
           491,
           126,
           263,
           150,
           19,
           21,
           21,
           105,
           388,
           25,
           154,
           24,
           190,
           59,
           98,
           131,
           90,
           278,
           106,
           250,
           29,
           268,
           302,
           314,
           499,
           338,
           392,
           70,
           236,
           15,
           69,
           133,
           232,
           253,
           503,
           161,
           141,
           341,
           278,
           15,
           93,
           255,
           255,
           15,
           109,
           398,
           317,
           116,
           142,
           320,
           308,
           245,
           492,
           35,
           359,
           62,
           53,
           135,
           116,
           46,
           81,
           255,
           189,
           495,
           324,
           238,
           300,
           193,
           79,
           239,
           63,
           105,
           369,
           314,
           148,
           522,
           12,
           94,
           22,
           22,
           88,
           222,
           483,
           67,
           494,
           148,
           450,
           529,
           441,
           509,
           268,
           150,
           310,
           1,
           189,
           403,
           255,
           241,
           143,
           154,
           141,
           463,
           289,
           223,
           102,
           165,
           19,
           98,
           231,
           234,
           329,
           87,
           458,
           155,
           314,
           285,
           6,
           148,
           236,
           534,
           130,
           334,
           387,
           166,
           311,
           40,
           396,
           12,
           239,
           38,
           15,
           56,
           256,
           60,
           15,
           119,
           42,
           264,
           39,
           145,
           23,
           206,
           367,
           165,
           241,
           177,
           177,
           488,
           319,
           176,
           155,
           58,
           526,
           479,
           479,
           58,
           110,
           120,
           61,
           396,
           384,
           74,
           413,
           413,
           98,
           105,
           140,
           63,
           28,
           54,
           172,
           242,
           112,
           343,
           137,
           449,
           164,
           437,
           285,
           15,
           155,
           58,
           361,
           105,
           140,
           453,
           127,
           154,
           422,
           335,
           114,
           30,
           87,
           274,
           298,
           427,
           116,
           130,
           72,
           36,
           394,
           202,
           269,
           245,
           432,
           15,
           48,
           90,
           59,
           192,
           496,
           312,
           67,
           312,
           69,
           460,
           40,
           255,
           532,
           141,
           31,
           255,
           47,
           30,
           109,
           440,
           447,
           12,
           294,
           32,
           32,
           113,
           247,
           199,
           350,
           52,
           277,
           173,
           20,
           109,
           180,
           139,
           129,
           355,
           373,
           348,
           257,
           288,
           174,
           159,
           369,
           38,
           230,
           358,
           237,
           407,
           10,
           26,
           291,
           281,
           508,
           100,
           199,
           206,
           19,
           101,
           416,
           82,
           42,
           130,
           23,
           336,
           63,
           355,
           15,
           38,
           412,
           89,
           234,
           84,
           249,
           249,
           17,
           50,
           227,
           456,
           190,
           173,
           529,
           275,
           529,
           56,
           437,
           74,
           223,
           74,
           139,
           51,
           138,
           261,
           462,
           449,
           367,
           159,
           69,
           227,
           0,
           271,
           225,
           202,
           377,
           475,
           46,
           383,
           328,
           351,
           508,
           155,
           266,
           395,
           306,
           302,
           444,
           103,
           103,
           233,
           368,
           312,
           79,
           67,
           510,
           48,
           52,
           77,
           77,
           322,
           517,
           405,
           482,
           164,
           15,
           94,
           487,
           487,
           102,
           364,
           219,
           7,
           488,
           144,
           15,
           147,
           528,
           452,
           452,
           473,
           356,
           89,
           435,
           103,
           243,
           31,
           64,
           117,
           477,
           201,
           250,
           408,
           295,
           351,
           117,
           84,
           117,
           297,
           135,
           81,
           46,
           178,
           51,
           305,
           328,
           457,
           16,
           161,
           330,
           504,
           24,
           382,
           14,
           23,
           230,
           116,
           59,
           284,
           119,
           349,
           155,
           199,
           390,
           70,
           78,
           255,
           265,
           117,
           261,
           211,
           221,
           197,
           33,
           15,
           74,
           28,
           282,
           229,
           64,
           46,
           99,
           314,
           417,
           48,
           256,
           208,
           262,
           340,
           449,
           331,
           123,
           262,
           446,
           143,
           478,
           381,
           22,
           124,
           124,
           13,
           124,
           34,
           442,
           227,
           255,
           200,
           183,
           202,
           116,
           489,
           222,
           346,
           159,
           226,
           68,
           113,
           220,
           201,
           124,
           174,
           22,
           96,
           156,
           194,
           155,
           428,
           442,
           432,
           129,
           318,
           344,
           73,
           215,
           400,
           304,
           67,
           196,
           255,
           75,
           142,
           378,
           94,
           240,
           70,
           347,
           332,
           157,
           189,
           385,
           21,
           16,
           190,
           52,
           15,
           477,
           320,
           418,
           284,
           415,
           358,
           391,
           152,
           425,
           15,
           228,
           78,
           410,
           410,
           341,
           168,
           142,
           364,
           17,
           46,
           326,
           50,
           354,
           139,
           310,
           523,
           358,
           370,
           255,
           167,
           271,
           218,
           225,
           170,
           19,
           25,
           193,
           67,
           501,
           468,
           104,
           99,
           295,
           17,
           276,
           3,
           213,
           15,
           15,
           76,
           420,
           15,
           77,
           532,
           339,
           78,
           59,
           59,
           279,
           472,
           149,
           252,
           68,
           15,
           525,
           349,
           72,
           4,
           301,
           80,
           15,
           106,
           258,
           436,
           421,
           414,
           23,
           92,
           170,
           413,
           279,
           314,
           132,
           459,
           5,
           403,
           44,
           75,
           354,
           308,
           143,
           154,
           140,
           112,
           219,
           402,
           97,
           153,
           153,
           323,
           206,
           356,
           471,
           5,
           466,
           363,
           293,
           315,
           500,
           325,
           224,
           15,
           182,
           228,
           513,
           48,
           347,
           342,
           54,
           65,
           295,
           353,
           386,
           226,
           20,
           265,
           416,
           49,
           220,
           125,
           253,
           219,
           156,
           186,
           173,
           117,
           360,
           97,
           77,
           521,
           466,
           49,
           323,
           350,
           255,
           320,
           528,
           0,
           136,
           305,
           254,
           378,
           297,
           165,
           54,
           151,
           185,
           9,
           255,
           15,
           49,
           355,
           281,
           281,
           476,
           345,
           325,
           380,
           315,
           471,
           218,
           520,
           270,
           270,
           155,
           129,
           507,
           162,
           335,
           362,
           38,
           254,
           402,
           217,
           155,
           40,
           373,
           420,
           15,
           372,
           81,
           203,
           56,
           506,
           506,
           43,
           110,
           126,
           481,
           405,
           7,
           516,
           33,
           141,
           20,
           230,
           210,
           188,
           96,
           267,
           267,
           150,
           411,
           255,
           255,
           451,
           255,
           246,
           48,
           38,
           62,
           25,
           375,
           521,
           362,
           194,
           23,
           78,
           379,
           96,
           80,
           298,
           467,
           146,
           76,
           359,
           165,
           247,
           146,
           238,
           100,
           144,
           314,
           121,
           112,
           15,
           30,
           54,
           259,
           13,
           172,
           348,
           113,
           204,
           67,
           485,
           204,
           472,
           397,
           15,
           203,
           420,
           206,
           352,
           372,
           504,
           397,
           119,
           35,
           105,
           15,
           491,
           118,
           15,
           60,
           204,
           158,
           198,
           359,
           340,
           385,
           15,
           88,
           236,
           427,
           95,
           7,
           57,
           170,
           469,
           293,
           450,
           255,
           55,
           434,
           66,
           189,
           179,
           143,
           73,
           24,
           409,
           74,
           211,
           433,
           54,
           220,
           26,
           86,
           393,
           214,
           477,
           20,
           8,
           58,
           354,
           440,
           351,
           287,
           248,
           102,
           1,
           6,
           20,
           27,
           286,
           295,
           95,
           186,
           520,
           371,
           515,
           414,
           137,
           37,
           214,
           255,
           175,
           205,
           1,
           207,
           150,
           321,
           300,
           160,
           335,
           327,
           327,
           28,
           255,
           290,
           259,
           217,
           58,
           465,
           179,
           13,
           185,
           192,
           463,
           255,
           363,
           434,
           215,
           154,
           119,
           525,
           341,
           15,
           19,
           91,
           324,
           32,
           54,
           486,
           315,
           406,
           328,
           74,
           398,
           105,
           11,
           205,
           180,
           368,
           439,
           317,
           277,
           171,
           122,
           4,
           128,
           203,
           477,
           201,
           324,
           331,
           233,
           233,
           242,
           383,
           18,
           40,
           7,
           505,
           157,
           68,
           166,
           209,
           15,
           92,
           467,
           4,
           243,
           233,
           123,
           444,
           14,
           212,
           104,
           251,
           260,
           386,
           62,
           20,
           112,
           70,
           41,
           513,
           166,
           333,
           27,
           334,
           430,
           244,
           531,
           57,
           241,
           454,
           142,
           159,
           319,
           254,
           309,
           2,
           176,
           35,
           438,
           168,
           111,
           11,
           280,
           11,
           15,
           169,
           18,
           18,
           10,
           136,
           80,
           15,
           252,
           86,
           12,
           514,
           281,
           126,
           408,
           536,
           79,
           523,
           533,
           15,
           214,
           15,
           10,
           185,
           0,
           399,
           395,
           91,
           111,
           49,
           318,
           188,
           184,
           335,
           36,
           36,
           342,
           108,
           82,
           169,
           321,
           449,
           15,
           15,
           377,
           260,
           115,
           471,
           66,
           160,
           283,
           9,
           9,
           375,
           347,
           195,
           394,
           229,
           41,
           51,
           215,
           185,
           9,
           149,
           13,
           182,
           32,
           407,
           361,
           94,
           287,
           345,
           232,
           212,
           71,
           171,
           219,
           430,
           382,
           67,
           24,
           92,
           464,
           118,
           335,
           27,
           255,
           273,
           335,
           498,
           141,
           55,
           251,
           55,
           418,
           219,
           524,
           367,
           324,
           263,
           108,
           255,
           425,
           73,
           469,
           462,
           387,
           127,
           18,
           265,
           128,
           52,
           213,
           211,
           96,
           170,
           122,
           346,
           150,
           117,
           490,
           36,
           210,
           371,
           399,
           187,
           419,
           420,
           160,
           27,
           187,
           272,
           0,
           292,
           169,
           214,
           4,
           24,
           303,
           303,
           379,
           10,
           15,
           73,
           301,
           106,
           310,
           228,
           517,
           127,
           294,
           140,
           255,
           80,
           160,
           429,
           475,
           157,
           387,
           44,
           401,
           372,
           255,
           533,
           189,
           255,
           345,
           398,
           155,
           155,
           324,
           22,
           127,
           13,
           371,
           34,
           324,
           35,
           40,
           377,
           374,
           123,
           359,
           485,
           121,
           121,
           212,
           32,
           357,
           424,
           79,
           272,
           82,
           27,
           175,
           126,
           401,
           424,
           184,
           107,
           163,
           337,
           3,
           365,
           186,
           244,
           68,
           329,
           405,
           231,
           371,
           359,
           345,
           273,
           299,
           18,
           179,
           245,
           26,
           512,
           122,
           55,
           460,
           37,
           176,
           134,
           110,
           18,
           431,
           192,
           13,
           374,
           147,
           26,
           269,
           255,
           123,
           91,
           275,
           372,
           464,
           149,
           406,
           357,
           520,
           282,
           229,
           282,
           127,
           136,
           470,
           403,
           27,
           216,
           496,
           40,
           119,
           449,
           185,
           198,
           127,
           457,
           480,
           486,
           99,
           163,
           494,
           229,
           37,
           158,
           184,
           96,
           243,
           481,
           50,
           65,
           207,
           33,
           255,
           195,
           20,
           456,
           299,
           15,
           365,
           374,
           9,
           265,
           126,
           461,
           126,
           185,
           31,
           353,
           398,
           208,
           324,
           301,
           135,
           297,
           337,
           380,
           93,
           191,
           191,
           292,
           307,
           5,
           324,
           325,
           2,
           159,
           5,
           509,
           55,
           34,
           431,
           8,
           354,
           346,
           196,
           15,
           316,
           149,
           502,
           85,
           224,
           436
          ],
          "coloraxis": "coloraxis",
          "symbol": "circle"
         },
         "mode": "markers",
         "name": "",
         "showlegend": false,
         "type": "scattergl",
         "x": [
          29.912534713745117,
          -11.897298812866211,
          29.175668716430664,
          -19.762191772460938,
          -18.806703567504883,
          7.449034690856934,
          -25.113191604614258,
          37.89327621459961,
          -60.0620002746582,
          16.0251522064209,
          6.009875297546387,
          1.3738161325454712,
          16.178607940673828,
          27.099777221679688,
          47.853607177734375,
          -16.386337280273438,
          -3.2880756855010986,
          42.43114471435547,
          -10.81755542755127,
          -5.379515171051025,
          -1.0790154933929443,
          53.52962875366211,
          27.979877471923828,
          7.524918079376221,
          -1.556136131286621,
          24.7917537689209,
          -11.65658187866211,
          -9.898188591003418,
          23.663137435913086,
          57.98420715332031,
          25.651397705078125,
          -9.25214672088623,
          2.150418758392334,
          12.776220321655273,
          -20.384855270385742,
          46.339839935302734,
          31.19291114807129,
          22.281822204589844,
          32.91789245605469,
          -61.00324630737305,
          32.77645492553711,
          0.8741797208786011,
          -15.519574165344238,
          16.15358543395996,
          13.893938064575195,
          -17.568872451782227,
          -8.25639820098877,
          14.011661529541016,
          10.948948860168457,
          -38.18507766723633,
          -25.270061492919922,
          31.078031539916992,
          29.148561477661133,
          60.6961784362793,
          -46.233097076416016,
          39.86614990234375,
          -44.57512664794922,
          -16.113229751586914,
          25.185754776000977,
          15.546783447265625,
          17.99999237060547,
          30.610923767089844,
          33.682884216308594,
          -10.74576473236084,
          28.45670509338379,
          7.478015422821045,
          26.177295684814453,
          -3.3081283569335938,
          7.7850236892700195,
          14.224666595458984,
          53.51520919799805,
          5.482595920562744,
          58.832237243652344,
          22.892940521240234,
          45.88597869873047,
          -11.357584953308105,
          -12.684370040893555,
          -0.0038479105569422245,
          0.8719022274017334,
          -0.7568466067314148,
          -26.382266998291016,
          -21.946212768554688,
          7.246392250061035,
          7.220302104949951,
          -37.62229919433594,
          -0.01411763858050108,
          -32.35338592529297,
          16.01803207397461,
          -25.503503799438477,
          39.39027786254883,
          4.055171489715576,
          41.54195022583008,
          43.6733283996582,
          45.240535736083984,
          -22.56539535522461,
          -4.872073173522949,
          6.154745101928711,
          -22.772388458251953,
          39.86615753173828,
          10.206737518310547,
          45.829341888427734,
          -3.3544178009033203,
          30.818086624145508,
          -11.830339431762695,
          33.9564323425293,
          2.1728618144989014,
          -38.867881774902344,
          -46.23308563232422,
          14.86782455444336,
          52.1594352722168,
          48.83740997314453,
          30.758094787597656,
          34.269832611083984,
          -5.674189567565918,
          -8.523836135864258,
          9.923688888549805,
          40.34601974487305,
          1.8467464447021484,
          14.666837692260742,
          16.78858184814453,
          38.5880012512207,
          21.227020263671875,
          -25.451017379760742,
          38.636451721191406,
          23.98394012451172,
          27.271202087402344,
          0.9947704672813416,
          13.968925476074219,
          53.38926696777344,
          11.786030769348145,
          33.613304138183594,
          -24.412410736083984,
          41.10222244262695,
          32.05314636230469,
          -4.994369029998779,
          41.70008850097656,
          44.96940612792969,
          15.450193405151367,
          15.395358085632324,
          6.137468338012695,
          -25.083629608154297,
          6.625641822814941,
          15.869935989379883,
          38.56910705566406,
          27.47141456604004,
          46.30079650878906,
          17.613351821899414,
          -13.771135330200195,
          34.52689743041992,
          6.521823406219482,
          12.520275115966797,
          39.39029312133789,
          -1.8672363758087158,
          42.351043701171875,
          5.245894908905029,
          26.819961547851562,
          53.30768585205078,
          46.65019989013672,
          32.98950958251953,
          -8.737796783447266,
          -31.94346809387207,
          -15.922673225402832,
          -8.131871223449707,
          -1.3822901248931885,
          17.015724182128906,
          8.760018348693848,
          17.51202392578125,
          4.972832202911377,
          4.386359691619873,
          12.286015510559082,
          23.58234214782715,
          24.679508209228516,
          1.007746696472168,
          -24.56797218322754,
          2.5317540168762207,
          8.379897117614746,
          13.27785873413086,
          16.302913665771484,
          17.361711502075195,
          48.58427810668945,
          35.132545471191406,
          35.40536117553711,
          -2.6263184547424316,
          17.981325149536133,
          20.982088088989258,
          -32.70562744140625,
          -18.928678512573242,
          17.936338424682617,
          -4.9276041984558105,
          -2.3113274574279785,
          -31.506492614746094,
          15.538873672485352,
          4.084522247314453,
          45.996971130371094,
          -5.149123191833496,
          4.258022785186768,
          27.059417724609375,
          -16.864343643188477,
          3.2652852535247803,
          4.049802780151367,
          -8.492683410644531,
          0.15317675471305847,
          0.6183868646621704,
          0.6186809539794922,
          -45.281898498535156,
          -1.5589863061904907,
          8.485454559326172,
          1.636884093284607,
          9.360807418823242,
          21.8303279876709,
          -4.073705196380615,
          -9.986611366271973,
          -20.553543090820312,
          -5.7554030418396,
          4.232799053192139,
          -40.58269500732422,
          -14.632380485534668,
          -5.005928039550781,
          24.9915714263916,
          -19.17093276977539,
          -4.335796356201172,
          -6.665419578552246,
          -30.855100631713867,
          -23.99765396118164,
          19.12342643737793,
          8.095333099365234,
          53.9556884765625,
          28.0390682220459,
          18.996925354003906,
          -18.39885139465332,
          19.288860321044922,
          -9.826879501342773,
          5.498839855194092,
          -4.9388580322265625,
          -20.691343307495117,
          -40.19316101074219,
          7.35220193862915,
          46.351253509521484,
          19.688356399536133,
          -6.5074052810668945,
          -12.90389347076416,
          53.30768966674805,
          -23.788881301879883,
          -27.3559513092041,
          5.685433387756348,
          -17.394607543945312,
          4.930908203125,
          -16.184383392333984,
          37.0757942199707,
          46.32329559326172,
          3.3408281803131104,
          -22.99282455444336,
          -61.861507415771484,
          24.16750144958496,
          9.576486587524414,
          43.9039192199707,
          19.9155330657959,
          29.396608352661133,
          12.60927963256836,
          53.22747802734375,
          -0.8670281767845154,
          2.707566738128662,
          16.01801109313965,
          -36.22016143798828,
          23.533872604370117,
          -14.63430404663086,
          -22.963985443115234,
          -15.886672973632812,
          -56.89828872680664,
          -28.621662139892578,
          -6.248122692108154,
          28.523195266723633,
          -0.74872225522995,
          16.098276138305664,
          -15.748249053955078,
          -37.7902946472168,
          -3.3109843730926514,
          -2.3893239498138428,
          27.842615127563477,
          39.661373138427734,
          10.58101749420166,
          22.15256118774414,
          -0.8528298139572144,
          23.168018341064453,
          32.9389533996582,
          1.9148284196853638,
          -5.440492630004883,
          5.761618614196777,
          11.906189918518066,
          38.06542205810547,
          -39.16984176635742,
          42.586185455322266,
          -32.42461395263672,
          10.6864595413208,
          10.695598602294922,
          -4.032911777496338,
          27.842615127563477,
          -8.69909954071045,
          33.25080871582031,
          59.87556457519531,
          32.553016662597656,
          33.818382263183594,
          11.902299880981445,
          11.724076271057129,
          27.98027801513672,
          0.720655620098114,
          25.86507225036621,
          -8.698978424072266,
          -19.152982711791992,
          48.057579040527344,
          -4.3839263916015625,
          -1.0364996194839478,
          23.126646041870117,
          26.124088287353516,
          0.6371394395828247,
          5.694469928741455,
          -59.5948600769043,
          -2.7735989093780518,
          36.63468551635742,
          -10.333197593688965,
          9.825669288635254,
          -8.288790702819824,
          16.018016815185547,
          52.9161491394043,
          53.38926696777344,
          -58.44765853881836,
          -5.034209251403809,
          -13.437551498413086,
          27.883092880249023,
          -17.130496978759766,
          17.230487823486328,
          3.4361555576324463,
          -62.24711227416992,
          -22.99282455444336,
          -50.586368560791016,
          -12.218868255615234,
          -22.94448471069336,
          14.76787281036377,
          -11.858846664428711,
          -1.3822886943817139,
          -44.61558151245117,
          47.49602127075195,
          4.030985355377197,
          -56.87407302856445,
          2.354538917541504,
          17.743711471557617,
          -56.79676055908203,
          12.472338676452637,
          6.730258941650391,
          9.019235610961914,
          10.22353458404541,
          32.696754455566406,
          2.791073799133301,
          -19.595958709716797,
          -43.080467224121094,
          1.4593145847320557,
          62.49436950683594,
          52.90321350097656,
          0.552070140838623,
          9.37684440612793,
          4.352385997772217,
          19.52195930480957,
          10.525762557983398,
          -41.219093322753906,
          -5.674610614776611,
          10.49868392944336,
          18.528072357177734,
          18.898672103881836,
          16.666719436645508,
          -10.307324409484863,
          28.398584365844727,
          -25.262008666992188,
          25.699886322021484,
          8.052482604980469,
          0.37031927704811096,
          5.1698760986328125,
          17.69281005859375,
          10.199970245361328,
          -16.812023162841797,
          30.6215763092041,
          8.169309616088867,
          3.9082794189453125,
          20.101688385009766,
          -1.0780452489852905,
          5.408833026885986,
          19.012678146362305,
          -3.223313331604004,
          48.94944763183594,
          42.84294128417969,
          37.14876937866211,
          6.401474952697754,
          24.140636444091797,
          20.958755493164062,
          8.006628036499023,
          -54.21408462524414,
          47.8995246887207,
          30.81797218322754,
          19.963024139404297,
          -36.38103485107422,
          -16.824905395507812,
          5.063202381134033,
          -24.476844787597656,
          -25.94406509399414,
          -25.278759002685547,
          5.122095108032227,
          2.648414373397827,
          -13.632365226745605,
          30.04158592224121,
          -15.075591087341309,
          14.709601402282715,
          -2.360832691192627,
          -3.725342035293579,
          16.987625122070312,
          15.845505714416504,
          12.327552795410156,
          -33.36735153198242,
          -39.827369689941406,
          -2.815009593963623,
          -1.56131112575531,
          -13.862793922424316,
          -11.82429313659668,
          31.077247619628906,
          -24.689260482788086,
          -11.931777954101562,
          16.91001319885254,
          -22.784870147705078,
          -54.28887939453125,
          25.651357650756836,
          -13.776904106140137,
          -0.9088906645774841,
          11.896308898925781,
          7.377735614776611,
          18.26189613342285,
          21.417797088623047,
          5.679915904998779,
          16.817821502685547,
          -15.668272972106934,
          -9.178010940551758,
          35.77130889892578,
          9.71725082397461,
          9.102167129516602,
          -7.51263427734375,
          -16.897266387939453,
          -40.470558166503906,
          31.510271072387695,
          -10.026008605957031,
          17.617029190063477,
          -2.770749092102051,
          -4.978520393371582,
          60.69620132446289,
          15.155744552612305,
          20.167652130126953,
          -5.272780895233154,
          18.523778915405273,
          -46.5731086730957,
          -14.331841468811035,
          34.405029296875,
          -24.680578231811523,
          -7.980186939239502,
          6.418705940246582,
          -23.9063663482666,
          19.364688873291016,
          11.654891967773438,
          27.883495330810547,
          -12.678406715393066,
          3.3436193466186523,
          36.82081985473633,
          12.13733196258545,
          5.271414279937744,
          -62.03553771972656,
          12.075155258178711,
          9.736248016357422,
          -22.555646896362305,
          15.340944290161133,
          17.653457641601562,
          4.790629863739014,
          12.9307861328125,
          6.834663391113281,
          17.544702529907227,
          37.11024856567383,
          33.95180130004883,
          23.543107986450195,
          -46.83774948120117,
          -13.380931854248047,
          30.30292510986328,
          33.59137725830078,
          -14.201216697692871,
          -7.623201847076416,
          -10.250266075134277,
          12.350565910339355,
          56.99946594238281,
          4.443798065185547,
          34.44674301147461,
          3.9613890647888184,
          14.668645858764648,
          10.037866592407227,
          -38.748878479003906,
          37.871341705322266,
          11.035630226135254,
          34.088722229003906,
          48.7446403503418,
          11.406465530395508,
          -35.594791412353516,
          -40.710960388183594,
          35.7088737487793,
          -7.617703437805176,
          -11.22735595703125,
          -10.492727279663086,
          -16.89082145690918,
          -36.3679084777832,
          -22.667251586914062,
          17.2254638671875,
          1.426633596420288,
          -0.641075849533081,
          21.56484031677246,
          21.585512161254883,
          0.1076706051826477,
          39.688716888427734,
          -27.85152816772461,
          9.106329917907715,
          -7.589303493499756,
          -1.9208506345748901,
          42.81376266479492,
          -13.075900077819824,
          -13.005073547363281,
          6.889684200286865,
          18.71885108947754,
          2.437462329864502,
          6.603358745574951,
          41.520668029785156,
          -29.762514114379883,
          -32.0084342956543,
          29.64055824279785,
          -58.924625396728516,
          23.169090270996094,
          15.645994186401367,
          -56.22407531738281,
          20.208354949951172,
          59.22591018676758,
          13.922657012939453,
          5.575716018676758,
          16.500802993774414,
          -0.10881852358579636,
          -7.681599140167236,
          18.26201820373535,
          2.2650821208953857,
          30.609365463256836,
          -46.595458984375,
          -24.211700439453125,
          3.0457091331481934,
          -7.990627765655518,
          39.28474044799805,
          -9.784692764282227,
          -21.088361740112305,
          23.08944320678711,
          -29.40247344970703,
          27.380542755126953,
          -12.409966468811035,
          23.272449493408203,
          -24.249135971069336,
          -15.170619010925293,
          -29.77994728088379,
          14.983963012695312,
          -5.5141377449035645,
          16.763782501220703,
          -20.3671932220459,
          9.048816680908203,
          13.478342056274414,
          9.406001091003418,
          0.3702588379383087,
          21.44858741760254,
          -8.02310848236084,
          -26.92801856994629,
          32.00766372680664,
          -26.558664321899414,
          24.072341918945312,
          1.3831532001495361,
          -12.380939483642578,
          -26.26232147216797,
          29.14716911315918,
          20.639585494995117,
          -0.8849255442619324,
          -27.843807220458984,
          2.2108259201049805,
          -8.457060813903809,
          1.2262367010116577,
          -29.77750587463379,
          -0.6436747312545776,
          -9.26248550415039,
          -11.986205101013184,
          -20.808944702148438,
          -20.607107162475586,
          -11.558633804321289,
          19.703611373901367,
          -57.47779083251953,
          17.05047607421875,
          57.911922454833984,
          39.32844161987305,
          -5.84612512588501,
          4.765341281890869,
          1.9443819522857666,
          -26.192888259887695,
          3.782510757446289,
          54.09103012084961,
          16.17860984802246,
          4.022868633270264,
          24.510263442993164,
          6.730344772338867,
          4.986445903778076,
          52.214454650878906,
          -31.7056884765625,
          22.047550201416016,
          58.81425476074219,
          -4.374566078186035,
          4.900732517242432,
          -0.8859818577766418,
          15.277827262878418,
          45.54642105102539,
          9.942681312561035,
          -16.015790939331055,
          -50.26415252685547,
          -27.97923469543457,
          46.77373504638672,
          -57.1092643737793,
          -34.478336334228516,
          11.21591567993164,
          17.101816177368164,
          -1.4280503988265991,
          49.43351745605469,
          38.024879455566406,
          23.212404251098633,
          12.029820442199707,
          27.402315139770508,
          7.169611930847168,
          16.226818084716797,
          5.122506141662598,
          57.98176574707031,
          -10.677810668945312,
          9.765731811523438,
          12.684246063232422,
          10.685317039489746,
          -20.002960205078125,
          -19.240421295166016,
          -18.9152889251709,
          29.411056518554688,
          -18.55975914001465,
          40.535125732421875,
          8.783245086669922,
          -5.177026748657227,
          -5.5429253578186035,
          -4.199471950531006,
          -4.978598594665527,
          34.0322380065918,
          59.22591018676758,
          43.99587631225586,
          -11.510754585266113,
          43.41683578491211,
          3.892253875732422,
          6.277534008026123,
          17.482084274291992,
          -5.301365852355957,
          22.77588653564453,
          -56.844818115234375,
          -40.117164611816406,
          -33.40376281738281,
          24.035202026367188,
          -17.64864730834961,
          -17.288196563720703,
          25.794851303100586,
          23.849838256835938,
          15.614333152770996,
          -32.481109619140625,
          15.818251609802246,
          -13.759993553161621,
          -16.224449157714844,
          -29.647523880004883,
          -38.50996017456055,
          -28.05171012878418,
          17.548377990722656,
          1.920951008796692,
          -0.7151415348052979,
          -21.680919647216797,
          -1.0260627269744873,
          -2.883943796157837,
          0.8676855564117432,
          -0.731956958770752,
          -3.3774070739746094,
          -24.44476890563965,
          -27.20178985595703,
          -1.0208396911621094,
          30.91888427734375,
          -15.785374641418457,
          15.63202953338623,
          58.198455810546875,
          -21.947755813598633,
          -24.93831443786621,
          -17.401073455810547,
          3.237607479095459,
          -31.79918098449707,
          -59.5997314453125,
          21.22757911682129,
          4.792810916900635,
          35.04374694824219,
          -46.21406555175781,
          -46.43784713745117,
          2.4670846462249756,
          33.313560485839844,
          -9.823761940002441,
          30.714126586914062,
          -17.134634017944336,
          46.08062744140625,
          8.705012321472168,
          3.818483352661133,
          3.240569829940796,
          -24.87206268310547,
          -24.93723487854004,
          -12.207246780395508,
          13.73534107208252,
          9.853570938110352,
          19.289005279541016,
          5.027335166931152,
          46.372352600097656,
          -25.056062698364258,
          -44.49705123901367,
          -33.58766555786133,
          38.13151931762695,
          6.63014554977417,
          8.171734809875488,
          38.1760139465332,
          -44.58805847167969,
          -39.02522659301758,
          -31.989757537841797,
          9.62016487121582,
          -31.65406608581543,
          -18.84585952758789,
          -0.8363807797431946,
          33.322853088378906,
          -12.903862953186035,
          24.7914981842041,
          6.587033748626709,
          23.164026260375977,
          -29.020753860473633,
          -46.925968170166016,
          12.663025856018066,
          31.73165512084961,
          4.3863654136657715,
          -15.550512313842773,
          26.043991088867188,
          -20.995582580566406,
          0.24433036148548126,
          10.692152976989746,
          -5.190900802612305,
          -13.8407564163208,
          0.37026095390319824,
          30.34204864501953,
          -39.023109436035156,
          30.06391143798828,
          18.34964942932129,
          -57.05710983276367,
          25.146095275878906,
          41.197025299072266,
          7.7618727684021,
          -23.888816833496094,
          -47.56382369995117,
          -32.6410026550293,
          -5.967586517333984,
          -44.538299560546875,
          19.68837547302246,
          21.595659255981445,
          -60.961666107177734,
          6.063290596008301,
          43.537872314453125,
          42.841270446777344,
          -33.718448638916016,
          -35.268394470214844,
          -43.22092056274414,
          -13.709952354431152,
          60.959678649902344,
          4.790629863739014,
          33.20429229736328,
          12.894139289855957,
          3.9822702407836914,
          40.59358215332031,
          13.19991397857666,
          -14.456961631774902,
          -56.39472198486328,
          -41.41254806518555,
          16.584529876708984,
          13.214027404785156,
          12.206226348876953,
          6.61638069152832,
          10.206703186035156,
          -11.417137145996094,
          8.94343090057373,
          -6.077376842498779,
          -5.963196277618408,
          -34.00092697143555,
          -7.204034805297852,
          39.13018035888672,
          -15.300833702087402,
          -17.721187591552734,
          -26.895341873168945,
          -4.568398475646973,
          -39.343650817871094,
          15.898674011230469,
          -13.956103324890137,
          17.718379974365234,
          -17.29811668395996,
          -2.691509962081909,
          -30.531190872192383,
          -15.387231826782227,
          17.79027557373047,
          -11.48218059539795,
          -13.626715660095215,
          7.35799503326416,
          -6.651674270629883,
          51.68498611450195,
          6.825319766998291,
          11.93955135345459,
          26.664505004882812,
          -61.898372650146484,
          17.808237075805664,
          -14.84501838684082,
          -15.357792854309082,
          -20.194835662841797,
          53.20281982421875,
          -41.014705657958984,
          8.982712745666504,
          -49.61759948730469,
          -46.03597640991211,
          23.60861587524414,
          1.2982662916183472,
          32.20932388305664,
          -4.941362380981445,
          -26.129493713378906,
          4.057965278625488,
          -2.2531332969665527,
          -10.504566192626953,
          35.79729080200195,
          -5.144881725311279,
          41.97953796386719,
          -18.076139450073242,
          4.689414024353027,
          18.079641342163086,
          -13.057729721069336,
          18.76136016845703,
          19.651443481445312,
          13.841451644897461,
          9.741599082946777,
          58.83228302001953,
          6.17911958694458,
          37.67551040649414,
          -2.670293092727661,
          -27.48499870300293,
          30.44969367980957,
          -12.627241134643555,
          4.714812755584717,
          26.777061462402344,
          53.41720199584961,
          -5.41880464553833,
          7.912989139556885,
          -36.93840789794922,
          5.488681793212891,
          0.47124800086021423,
          0.455121785402298,
          -36.23318862915039,
          0.5430609583854675,
          -0.7577264904975891,
          33.32233810424805,
          -19.30777359008789,
          -12.76046371459961,
          40.32123565673828,
          28.566347122192383,
          44.698143005371094,
          4.061763286590576,
          18.46629524230957,
          -0.0939796194434166,
          4.715271949768066,
          -13.731599807739258,
          -25.881675720214844,
          39.0792350769043,
          25.823179244995117,
          -27.10364532470703,
          23.68671989440918,
          -25.81968116760254,
          11.21591567993164,
          28.45670509338379,
          -13.623991966247559,
          32.05449676513672,
          25.91236686706543,
          39.10980987548828,
          10.815436363220215,
          62.49421691894531,
          -44.11111068725586,
          -18.62557601928711,
          9.23129940032959,
          -0.1645534336566925,
          -58.27332305908203,
          7.9370245933532715,
          5.254778861999512,
          42.33179473876953,
          24.600746154785156,
          6.5710344314575195,
          -24.945510864257812,
          29.147031784057617,
          43.916473388671875,
          5.47086238861084,
          2.0979905128479004,
          0.8156601190567017,
          45.29689025878906,
          1.4592044353485107,
          44.76665496826172,
          7.977540016174316,
          17.033348083496094,
          8.610939025878906,
          -21.950254440307617,
          29.86992835998535,
          -20.670467376708984,
          -24.498804092407227,
          -49.23483657836914,
          -4.337926387786865,
          6.871119499206543,
          30.621631622314453,
          17.03525733947754,
          -7.296514511108398,
          32.5255241394043,
          8.626483917236328,
          11.163458824157715,
          -36.43947219848633,
          -27.46649169921875,
          -13.378636360168457,
          45.288455963134766,
          4.790629863739014,
          0.5601533651351929,
          14.201875686645508,
          44.1236686706543,
          34.59716033935547,
          14.769322395324707,
          5.886959075927734,
          44.72201156616211,
          -3.7200098037719727,
          7.378767013549805,
          -24.690359115600586,
          1.1174590587615967,
          -58.87160873413086,
          -10.953556060791016,
          -16.9704647064209,
          41.97064971923828,
          -5.889058589935303,
          -5.8814191818237305,
          -28.655290603637695,
          -35.12079620361328,
          -1.2575839757919312,
          39.950164794921875,
          44.41987228393555,
          -42.6927375793457,
          10.67773723602295,
          -21.741031646728516,
          -28.974533081054688,
          14.834832191467285,
          -48.83858108520508,
          -1.694901466369629,
          3.6778883934020996,
          -20.556987762451172,
          -37.08436965942383,
          -46.64341354370117,
          13.665641784667969,
          -18.076126098632812,
          -20.884981155395508,
          -29.358936309814453,
          -14.693598747253418,
          -43.5002326965332,
          -20.362247467041016,
          5.794604778289795,
          -15.266582489013672,
          3.5608251094818115,
          -48.184326171875,
          -1.4565601348876953,
          4.311178684234619,
          -13.335555076599121,
          6.150179862976074,
          -54.212242126464844,
          -10.039384841918945,
          25.997211456298828,
          37.59950256347656,
          -5.962964057922363,
          -32.388832092285156,
          7.245508193969727,
          41.97022247314453,
          -17.205739974975586,
          39.72059631347656,
          -43.342796325683594,
          5.295897483825684,
          -28.628440856933594,
          17.243513107299805,
          -25.284282684326172,
          -2.6702921390533447,
          3.2340967655181885,
          -18.056982040405273,
          -4.275468826293945,
          23.35114288330078,
          -10.474156379699707,
          -10.477743148803711,
          -19.035871505737305,
          35.550010681152344,
          -28.99346160888672,
          -46.84505081176758,
          -20.973098754882812,
          -20.67372703552246,
          -25.19371795654297,
          7.567451000213623,
          5.245995998382568,
          15.205118179321289,
          -49.199527740478516,
          -49.240089416503906,
          -0.8452253341674805,
          6.4552903175354,
          -48.349082946777344,
          -21.786861419677734,
          -29.08002281188965,
          39.950164794921875,
          -26.8303165435791,
          24.424869537353516,
          24.554439544677734,
          24.531648635864258,
          19.523611068725586,
          53.4481086730957,
          14.827237129211426,
          47.39474105834961,
          -8.105592727661133,
          57.98090744018555,
          59.12061309814453,
          -10.76942253112793,
          -18.08485984802246,
          15.006186485290527,
          18.58188819885254,
          -15.553579330444336,
          4.013295650482178,
          24.20964241027832,
          9.516945838928223,
          -35.91647720336914,
          31.95740509033203,
          -57.405418395996094,
          35.02412414550781,
          32.21623229980469,
          32.310455322265625,
          17.696754455566406,
          39.314823150634766,
          9.184127807617188,
          -23.612211227416992,
          -30.96550941467285,
          29.898527145385742,
          10.418265342712402,
          -60.19054412841797,
          20.086761474609375,
          2.1927077770233154,
          -4.006488800048828,
          -18.479440689086914,
          -37.21498107910156,
          10.368343353271484,
          -26.968687057495117,
          -26.967025756835938,
          -5.954009532928467,
          41.655513763427734,
          -26.82464599609375,
          -22.792552947998047,
          -27.48610496520996,
          -23.175331115722656,
          13.269213676452637,
          14.002378463745117,
          58.03327178955078,
          -39.98257064819336,
          29.632314682006836,
          -26.11728858947754,
          39.75105667114258,
          57.96495819091797,
          -62.26448440551758,
          11.426316261291504,
          7.555515766143799,
          -18.160268783569336,
          10.88438606262207,
          -5.0080437660217285,
          -29.39333724975586,
          5.804807186126709,
          12.913583755493164,
          41.88941192626953,
          -32.56745529174805,
          35.708892822265625,
          19.707904815673828,
          12.71055793762207,
          -54.282676696777344,
          46.18821716308594,
          46.197357177734375,
          4.790629863739014,
          -26.188085556030273,
          -60.458824157714844,
          46.888427734375,
          -8.698978424072266,
          -28.99327278137207,
          62.868045806884766,
          -30.89375114440918,
          -32.14262008666992,
          24.538532257080078,
          -11.551301956176758,
          23.23846435546875,
          32.628902435302734,
          -4.495291233062744,
          22.77421760559082,
          1.4591225385665894,
          0.25216102600097656,
          41.64708709716797,
          -55.86802673339844,
          25.291175842285156,
          -35.094722747802734,
          -19.29886817932129,
          -35.796417236328125,
          -15.49872875213623,
          0.28176477551460266,
          -39.261905670166016,
          12.118861198425293,
          17.437755584716797,
          8.4810209274292,
          19.647478103637695,
          -36.654693603515625,
          9.839896202087402,
          13.549162864685059,
          23.238460540771484,
          -16.39876937866211,
          25.77298355102539,
          -31.299829483032227,
          -14.659302711486816,
          18.76142692565918,
          6.685377597808838,
          -7.250235557556152,
          36.41814422607422,
          27.466289520263672,
          31.36296844482422,
          29.277938842773438,
          17.024303436279297,
          -26.919906616210938,
          -21.4974365234375,
          -21.695972442626953,
          -2.8608298301696777,
          -27.066516876220703,
          -20.270641326904297,
          -32.519859313964844,
          -4.847175598144531,
          -14.227546691894531,
          -14.145909309387207,
          8.120491981506348,
          -48.25713348388672,
          26.005403518676758,
          9.4221773147583,
          45.1832160949707,
          -42.65555953979492,
          59.875850677490234,
          -33.267112731933594,
          -12.757458686828613,
          7.510272979736328,
          -29.315452575683594,
          -15.599721908569336,
          -7.0876784324646,
          37.607601165771484,
          3.7157177925109863,
          1.7330372333526611,
          1.054616093635559,
          44.84514236450195,
          -29.54620933532715,
          -38.8429069519043,
          9.272433280944824,
          42.680789947509766,
          2.757827043533325,
          -46.49059295654297,
          35.97635269165039,
          3.7157177925109863,
          -9.26585578918457,
          -28.616193771362305,
          -44.17853927612305,
          31.104475021362305,
          36.99128723144531,
          25.08585548400879,
          -38.624393463134766,
          12.953490257263184,
          8.651211738586426,
          16.329057693481445,
          -8.815218925476074,
          -7.218099117279053,
          -23.01030921936035,
          38.042762756347656,
          0.8994527459144592,
          -47.321720123291016,
          -59.548057556152344,
          -6.425540447235107,
          -25.26970100402832,
          26.169097900390625,
          -35.133907318115234,
          -8.831086158752441,
          21.31212615966797,
          21.320039749145508,
          40.63224792480469,
          -23.75118637084961,
          34.526893615722656,
          63.029335021972656,
          14.668713569641113,
          0.047680724412202835,
          16.103870391845703,
          -14.862215995788574,
          -31.487812042236328,
          -21.927202224731445,
          21.524002075195312,
          11.947636604309082,
          -26.775188446044922,
          10.687031745910645,
          -32.41389846801758,
          -55.29893112182617,
          -24.211753845214844,
          -40.88873291015625,
          -22.51436424255371,
          -36.029510498046875,
          8.790671348571777,
          11.729840278625488,
          -6.245152473449707,
          -23.948389053344727,
          -19.44525718688965,
          -30.762191772460938,
          44.86761474609375,
          -28.644094467163086,
          -39.36323928833008,
          -29.81173324584961,
          43.99517822265625,
          -14.029123306274414,
          19.305326461791992,
          31.251731872558594,
          0.9403722286224365,
          -25.14752960205078,
          -24.59817886352539,
          23.984142303466797,
          29.625171661376953,
          38.59348678588867,
          -44.63623046875,
          -36.735694885253906,
          -24.62774658203125,
          14.2678804397583,
          -56.81915283203125,
          38.071720123291016,
          6.553979873657227,
          -22.371339797973633,
          -41.83391571044922,
          -3.0807647705078125,
          -3.8421943187713623,
          29.792604446411133,
          -16.20878791809082,
          -34.76299285888672,
          -13.077207565307617,
          30.384445190429688,
          9.184019088745117,
          17.613325119018555,
          17.625125885009766,
          30.925506591796875,
          -19.023923873901367,
          8.385069847106934,
          -36.30832290649414,
          5.894476890563965,
          -24.623210906982422,
          44.93040466308594,
          -3.377406597137451,
          15.698052406311035,
          -2.8836684226989746,
          0.9583752751350403,
          -4.214393615722656,
          10.232426643371582,
          -7.8621721267700195,
          28.744882583618164,
          5.794681549072266,
          -38.50551223754883,
          3.7157177925109863,
          -59.88081741333008,
          43.07868957519531,
          -0.2909998893737793,
          -47.87141418457031,
          31.06810760498047,
          30.86577796936035,
          -9.069463729858398,
          -47.22066116333008,
          -48.92586898803711,
          1.3166520595550537,
          -2.8334689140319824,
          46.305519104003906,
          -7.036867618560791,
          34.100486755371094,
          -1.7744605541229248,
          -32.01880645751953,
          -35.94770050048828,
          -11.285533905029297,
          -27.379619598388672,
          22.951387405395508,
          -23.056015014648438,
          12.522802352905273,
          -13.386393547058105,
          -4.783766746520996,
          33.88886260986328,
          26.913957595825195,
          -11.830348014831543,
          26.93132209777832,
          4.352133274078369,
          42.43891143798828,
          -35.86211395263672,
          -34.77693557739258,
          56.954105377197266,
          -3.6174654960632324,
          -4.337926387786865,
          51.090850830078125,
          6.9393134117126465,
          -44.92198944091797,
          -8.692362785339355,
          23.337453842163086,
          -49.33643341064453,
          9.804121017456055,
          38.289669036865234,
          18.955860137939453,
          -1.0178803205490112,
          -0.8275668025016785,
          -25.70601463317871,
          6.890714168548584,
          -6.950473785400391,
          9.156830787658691,
          25.906185150146484,
          -22.99282455444336,
          -18.276365280151367,
          3.454587936401367,
          -0.6598179340362549,
          -6.408908843994141,
          33.54384231567383,
          4.226428985595703,
          -40.96009063720703,
          -37.031246185302734,
          -52.859764099121094,
          -7.528357982635498,
          -14.954389572143555,
          -16.4979305267334,
          -20.884946823120117,
          -22.539968490600586,
          48.83786392211914,
          42.38213348388672,
          -24.787500381469727,
          -56.91889572143555,
          5.024204730987549,
          7.671298027038574,
          -32.43280029296875,
          28.7432861328125,
          -2.4337375164031982,
          39.927276611328125,
          -6.330699443817139,
          -35.22281265258789,
          24.679533004760742,
          -20.59564781188965,
          -20.081817626953125,
          -26.109390258789062,
          -17.471426010131836,
          -32.1717643737793,
          -29.741321563720703,
          -35.61579132080078,
          -23.283788681030273,
          6.245084762573242,
          -45.722389221191406,
          -22.99282455444336,
          -18.7230281829834,
          43.59989547729492,
          -32.72052001953125,
          -20.690807342529297,
          -20.94467544555664,
          14.964996337890625,
          -7.689731121063232,
          36.470680236816406,
          9.267045974731445,
          7.633407115936279,
          8.367172241210938,
          -4.403813362121582,
          48.054569244384766,
          -44.761810302734375,
          -11.16567325592041,
          -48.872318267822266,
          -20.986988067626953,
          34.023399353027344,
          26.20949363708496,
          -37.49732971191406,
          -44.85346984863281,
          -37.44771194458008,
          -8.669575691223145,
          -8.448005676269531,
          -27.94830894470215,
          -12.174355506896973,
          -7.4031500816345215,
          -3.149935007095337,
          19.012969970703125,
          -20.75408363342285,
          -7.711958885192871,
          -21.101219177246094,
          -27.305761337280273,
          -9.967903137207031,
          -22.96446990966797,
          -39.98954391479492,
          -23.98943519592285,
          -41.29289245605469,
          -21.95693588256836,
          -24.398944854736328,
          -5.475752830505371,
          -48.49031066894531,
          -21.246952056884766,
          22.91756248474121,
          -14.33884334564209,
          -47.1661376953125,
          -35.74736785888672,
          -47.12150955200195,
          14.35335922241211,
          59.58179473876953,
          -59.2325439453125,
          -42.45052719116211,
          9.899059295654297,
          -26.834566116333008,
          -28.652729034423828,
          -2.1796042919158936,
          -5.642806529998779,
          -32.160980224609375,
          -39.71082305908203,
          -15.84561538696289,
          -18.806671142578125,
          -38.03610610961914,
          -1.6087298393249512,
          -28.104768753051758,
          -29.710708618164062,
          24.60074806213379,
          -35.22572326660156,
          -33.650291442871094,
          -27.915138244628906,
          3.7307255268096924,
          -18.47462272644043,
          -26.140453338623047,
          42.45408630371094,
          -7.093879699707031,
          -13.91481876373291,
          18.98919677734375,
          -1.6286424398422241,
          -1.6264346837997437,
          -18.162626266479492,
          46.380760192871094,
          5.946784019470215,
          -48.25716018676758,
          -49.12154006958008,
          30.8166446685791,
          18.46617889404297,
          -36.84903335571289,
          2.8131110668182373,
          -46.413970947265625,
          -11.348183631896973,
          3.5274364948272705,
          -26.00714111328125,
          -4.646165370941162,
          -35.43483352661133,
          34.773582458496094,
          15.824820518493652,
          17.72723388671875,
          -13.207743644714355,
          15.148427963256836,
          10.56969165802002,
          -36.48800277709961,
          -27.216270446777344,
          -25.54533576965332,
          -14.539685249328613,
          -26.118330001831055,
          7.21142578125,
          -12.891849517822266,
          17.900854110717773,
          16.91203498840332,
          -23.948389053344727,
          8.470948219299316,
          -46.59555435180664,
          -31.795883178710938,
          -38.92368698120117,
          36.771881103515625,
          -23.485204696655273,
          11.294513702392578,
          -14.939374923706055,
          -32.65705871582031,
          -17.189632415771484,
          16.20658302307129,
          -32.656349182128906,
          -4.496554374694824,
          -26.313323974609375,
          -26.426427841186523,
          -3.539283514022827,
          -21.163679122924805,
          33.67265701293945,
          -2.7723093032836914,
          -2.2229177951812744,
          4.055180549621582,
          48.86784744262695,
          23.987417221069336,
          38.10234832763672,
          8.876572608947754,
          10.13127326965332,
          -2.7461647987365723,
          -52.9704704284668,
          5.983199119567871,
          -1.932997703552246,
          -37.00711441040039,
          10.20391845703125,
          -24.91795539855957,
          35.826194763183594,
          1.2030633687973022,
          18.03851890563965,
          9.716123580932617,
          -31.328187942504883,
          -62.044315338134766,
          -37.86380386352539,
          -32.01593017578125,
          7.7409820556640625,
          -12.216238975524902,
          27.4996280670166,
          -35.80015563964844,
          -13.54497241973877,
          18.055885314941406,
          7.854134559631348,
          -13.839864730834961,
          -37.67859649658203,
          -21.887836456298828,
          0.8718684315681458,
          -8.388847351074219,
          -23.118343353271484,
          -16.394838333129883,
          38.76301574707031,
          -35.600379943847656,
          56.44796371459961,
          21.348506927490234,
          -31.989492416381836,
          -17.416364669799805,
          3.9494872093200684,
          9.488794326782227,
          -5.527024745941162,
          -27.840620040893555,
          17.186908721923828,
          -7.476433753967285,
          -4.120564937591553,
          -34.78994369506836,
          -43.85254669189453,
          45.0382194519043,
          -39.262535095214844,
          36.07087707519531,
          24.420963287353516,
          -33.3031120300293,
          -34.880069732666016,
          -33.84583282470703,
          -47.82417297363281,
          -4.1354146003723145,
          -14.709660530090332,
          35.420555114746094,
          -10.074419975280762,
          -44.498252868652344,
          -8.023125648498535,
          -14.164824485778809,
          -40.01448440551758,
          -57.09947967529297,
          -22.153522491455078,
          24.64982032775879,
          -46.03357696533203,
          -46.76900100708008,
          34.26566696166992,
          44.868045806884766,
          63.02077865600586,
          -2.919934034347534,
          -10.026009559631348,
          -34.68452835083008,
          -9.001991271972656,
          -17.144119262695312,
          -53.12372589111328,
          11.182413101196289,
          46.339847564697266,
          -23.54574966430664,
          30.087663650512695,
          -7.329960346221924,
          -59.28181838989258,
          -60.651432037353516,
          -25.127971649169922,
          -32.66592025756836,
          4.6636271476745605,
          40.53483200073242,
          27.17538070678711,
          7.028143882751465,
          -24.733627319335938,
          -16.82850456237793,
          -20.477319717407227,
          -48.183834075927734,
          9.070582389831543,
          -22.77235984802246,
          9.115263938903809,
          -22.475446701049805,
          -30.90122413635254,
          -20.349519729614258,
          -14.516117095947266,
          40.50322723388672,
          -23.179706573486328,
          -48.477569580078125,
          -0.27157407999038696,
          -18.527631759643555,
          -37.00711441040039,
          -22.323810577392578,
          -23.2189884185791,
          -13.415630340576172,
          -13.364288330078125,
          -26.138961791992188,
          -0.3787882626056671,
          44.2896614074707,
          -23.180835723876953,
          -47.92409896850586,
          22.77985191345215,
          -32.35330581665039,
          45.01020812988281,
          14.897746086120605,
          -21.30986213684082,
          38.41761779785156,
          56.44794464111328,
          0.8741801381111145,
          45.05448913574219,
          -3.429166316986084,
          -4.67763614654541,
          5.824252128601074,
          -32.620357513427734,
          44.63254165649414,
          -37.389617919921875,
          1.4961059093475342,
          -1.8560417890548706,
          -7.296363830566406
         ],
         "xaxis": "x",
         "y": [
          35.41291427612305,
          33.614654541015625,
          -1.66534423828125,
          32.00349044799805,
          31.487964630126953,
          3.4954817295074463,
          -42.308509826660156,
          -8.251249313354492,
          -15.000160217285156,
          -3.09364652633667,
          5.248565673828125,
          -28.533754348754883,
          34.33525848388672,
          -3.6918492317199707,
          -12.453091621398926,
          -29.38935661315918,
          -41.30144500732422,
          3.211411714553833,
          -37.051231384277344,
          -38.839805603027344,
          -28.77949333190918,
          0.2332650125026703,
          0.5253989100456238,
          6.879108905792236,
          19.254610061645508,
          2.0316824913024902,
          -16.200254440307617,
          -21.920541763305664,
          5.967288970947266,
          -20.484121322631836,
          11.44435977935791,
          20.207311630249023,
          31.404556274414062,
          37.18747329711914,
          37.2333869934082,
          31.67129135131836,
          3.5901925563812256,
          -44.95812225341797,
          5.3635454177856445,
          -9.982649803161621,
          6.755271911621094,
          14.316017150878906,
          4.731310844421387,
          -1.4201182126998901,
          10.650147438049316,
          31.010040283203125,
          28.41680145263672,
          10.975873947143555,
          8.96931266784668,
          -5.398565292358398,
          -13.174782752990723,
          3.5429298877716064,
          -1.6951448917388916,
          6.069389343261719,
          -20.089075088500977,
          -6.6201982498168945,
          -7.339938640594482,
          -59.461273193359375,
          -5.602570056915283,
          5.978739261627197,
          9.123570442199707,
          -51.971439361572266,
          19.448484420776367,
          -12.334436416625977,
          -5.447401523590088,
          -35.918182373046875,
          2.025965452194214,
          14.977947235107422,
          5.326408386230469,
          -28.498897552490234,
          -0.04641829431056976,
          -8.22053337097168,
          -8.71713924407959,
          -12.388955116271973,
          -4.5031208992004395,
          -50.52315902709961,
          -23.553630828857422,
          13.147782325744629,
          -23.998777389526367,
          -20.637603759765625,
          -13.635713577270508,
          -23.35590934753418,
          -32.6370735168457,
          35.115638732910156,
          -14.213345527648926,
          15.774738311767578,
          2.3551104068756104,
          -3.0490365028381348,
          3.7826638221740723,
          43.86293029785156,
          51.71549987792969,
          31.703710556030273,
          33.73741912841797,
          20.218358993530273,
          2.291053056716919,
          -13.19680118560791,
          -59.35972213745117,
          -0.0009347304585389793,
          -6.620174407958984,
          -11.935976028442383,
          -4.706396102905273,
          17.799118041992188,
          46.8405876159668,
          4.0243353843688965,
          7.468731880187988,
          2.2974846363067627,
          -13.118387222290039,
          -20.089244842529297,
          29.417221069335938,
          9.679725646972656,
          -13.975367546081543,
          -10.33748722076416,
          4.593053817749023,
          -38.989688873291016,
          -39.99378967285156,
          6.897139549255371,
          -10.555190086364746,
          11.637042999267578,
          9.249616622924805,
          9.408050537109375,
          -13.815433502197266,
          37.59215545654297,
          -1.5680420398712158,
          22.717187881469727,
          46.124412536621094,
          -6.26308536529541,
          -1.4399433135986328,
          20.48590660095215,
          23.747459411621094,
          26.925901412963867,
          -0.46734991669654846,
          -43.58711624145508,
          -37.65427017211914,
          -40.47590255737305,
          -24.56000518798828,
          36.717777252197266,
          6.2879815101623535,
          3.302694082260132,
          3.2313430309295654,
          17.455514907836914,
          -12.25754165649414,
          -22.66785430908203,
          -7.60445499420166,
          13.573712348937988,
          21.197973251342773,
          17.90416145324707,
          -47.34713363647461,
          -20.785367965698242,
          -13.583178520202637,
          3.239452838897705,
          4.760778903961182,
          43.863014221191406,
          18.217634201049805,
          18.897886276245117,
          16.17877197265625,
          -8.387948036193848,
          16.332307815551758,
          19.421449661254883,
          -19.647584915161133,
          -4.417736530303955,
          55.98302459716797,
          48.930721282958984,
          3.593886613845825,
          9.82485580444336,
          19.74254608154297,
          -25.972869873046875,
          1.1458706855773926,
          22.489971160888672,
          10.821097373962402,
          10.809426307678223,
          11.540085792541504,
          40.69746398925781,
          -31.165021896362305,
          -39.6581916809082,
          20.08399772644043,
          24.725862503051758,
          42.01160430908203,
          50.373348236083984,
          -4.6123738288879395,
          -22.049297332763672,
          29.366397857666016,
          30.259435653686523,
          18.22149085998535,
          -38.90182113647461,
          1.786633849143982,
          46.89397430419922,
          19.90243911743164,
          4.83781099319458,
          -57.79190444946289,
          17.408077239990234,
          8.600715637207031,
          5.942396640777588,
          7.625430583953857,
          -32.89598083496094,
          -13.240406036376953,
          -44.84272766113281,
          7.931632041931152,
          33.22843551635742,
          5.442152500152588,
          -2.7790801525115967,
          -39.938045501708984,
          53.310691833496094,
          59.790374755859375,
          59.79964065551758,
          -38.73360824584961,
          30.601158142089844,
          8.624659538269043,
          -52.33024597167969,
          -22.53784942626953,
          15.674838066101074,
          9.961943626403809,
          31.202638626098633,
          -23.561826705932617,
          -25.192760467529297,
          5.370332717895508,
          -27.20264434814453,
          -14.804534912109375,
          22.185197830200195,
          -19.400447845458984,
          -0.4347982704639435,
          -4.737887859344482,
          -0.9112572073936462,
          8.141023635864258,
          -42.6468620300293,
          30.564722061157227,
          -27.129318237304688,
          7.993762493133545,
          1.023593783378601,
          5.778303146362305,
          6.692082405090332,
          25.812583923339844,
          31.124671936035156,
          24.33792495727539,
          19.582870483398438,
          -26.63589859008789,
          -45.519195556640625,
          8.888392448425293,
          20.028017044067383,
          18.060728073120117,
          -57.94325637817383,
          35.280216217041016,
          16.332286834716797,
          -45.242218017578125,
          -29.14876365661621,
          -25.538894653320312,
          -17.068790435791016,
          13.299263000488281,
          -59.62395477294922,
          31.4122314453125,
          32.97996520996094,
          -44.44760513305664,
          43.78207015991211,
          -9.849681854248047,
          2.118027448654175,
          -22.492643356323242,
          -9.499628067016602,
          -9.717538833618164,
          -6.667513847351074,
          15.512722969055176,
          8.470428466796875,
          34.83990478515625,
          20.027868270874023,
          -14.074790000915527,
          -19.390823364257812,
          -10.708953857421875,
          9.833063125610352,
          41.58708953857422,
          48.807029724121094,
          19.97266387939453,
          12.63005542755127,
          34.7088737487793,
          2.3672609329223633,
          -6.91650915145874,
          23.958223342895508,
          41.96498107910156,
          -12.59283447265625,
          -14.03495979309082,
          -12.97638988494873,
          -5.069219589233398,
          42.83930206298828,
          -4.861538410186768,
          -10.552864074707031,
          35.972049713134766,
          11.489335060119629,
          -3.5683038234710693,
          -51.178775787353516,
          -58.30915832519531,
          28.149354934692383,
          -18.660186767578125,
          -15.205121040344238,
          -15.169976234436035,
          -40.542076110839844,
          -29.545820236206055,
          -17.009693145751953,
          46.61677932739258,
          18.892580032348633,
          -5.069219589233398,
          -7.332396984100342,
          -23.34739875793457,
          13.474140167236328,
          -23.78126335144043,
          19.336103439331055,
          15.18990421295166,
          -3.9467334747314453,
          1.8852596282958984,
          25.811323165893555,
          10.948722839355469,
          -7.332180023193359,
          -0.438175767660141,
          19.440473556518555,
          -24.954858779907227,
          -5.396621227264404,
          -1.6267015933990479,
          53.34931564331055,
          -0.7093167901039124,
          6.860979080200195,
          14.8884916305542,
          18.475011825561523,
          -30.72806739807129,
          16.207637786865234,
          11.266755104064941,
          18.220691680908203,
          -3.048924446105957,
          -1.9808769226074219,
          23.75002098083496,
          20.27750587463379,
          33.95591354370117,
          -5.345891952514648,
          17.905513763427734,
          -13.705103874206543,
          -2.674370527267456,
          6.57446813583374,
          -5.708360195159912,
          43.78207015991211,
          15.187784194946289,
          -29.897048950195312,
          -29.126346588134766,
          -30.758779525756836,
          -9.071738243103027,
          9.824858665466309,
          21.78354263305664,
          29.56471824645996,
          -2.6746110916137695,
          -34.14894104003906,
          -11.23245620727539,
          -27.83982276916504,
          -34.59617233276367,
          20.63322639465332,
          19.70807647705078,
          -2.4329826831817627,
          18.867368698120117,
          -4.134566783905029,
          -8.4928617477417,
          -10.607429504394531,
          20.300926208496094,
          21.444278717041016,
          -5.246749401092529,
          8.04597282409668,
          -22.99870491027832,
          32.055423736572266,
          -28.892141342163086,
          -1.3580518960952759,
          59.01272201538086,
          -25.909080505371094,
          -30.855194091796875,
          -0.20395608246326447,
          12.338652610778809,
          12.3612642288208,
          -26.616952896118164,
          16.23404312133789,
          -4.706626892089844,
          -21.428056716918945,
          7.8104023933410645,
          26.033720016479492,
          -32.1638298034668,
          25.46661949157715,
          -5.013908863067627,
          -4.583099842071533,
          -41.59684371948242,
          39.11748504638672,
          40.9649772644043,
          -7.585170269012451,
          8.765950202941895,
          10.5944242477417,
          -17.63385581970215,
          30.737457275390625,
          16.157482147216797,
          -23.38204002380371,
          2.4810404777526855,
          12.400289535522461,
          2.249986410140991,
          32.732994079589844,
          1.7958992719650269,
          -14.869356155395508,
          -24.400880813598633,
          32.03257369995117,
          46.840782165527344,
          -10.578780174255371,
          -55.04533004760742,
          -41.601078033447266,
          6.041121006011963,
          9.173848152160645,
          -47.451316833496094,
          -43.33797836303711,
          7.48994779586792,
          -51.33106994628906,
          -10.619080543518066,
          -11.445302963256836,
          19.564851760864258,
          -2.1112794876098633,
          -26.423046112060547,
          59.08907699584961,
          -14.942855834960938,
          -13.94522762298584,
          20.65967559814453,
          56.25111770629883,
          -5.1767425537109375,
          19.276859283447266,
          36.42415237426758,
          19.446170806884766,
          35.99239730834961,
          6.449328899383545,
          -47.392234802246094,
          -34.48948669433594,
          35.74853515625,
          3.5784919261932373,
          -3.6538023948669434,
          11.444554328918457,
          -61.95421600341797,
          52.921539306640625,
          27.144086837768555,
          11.123969078063965,
          -28.27676773071289,
          -27.50139045715332,
          -18.49114418029785,
          -38.105892181396484,
          41.88182830810547,
          18.679140090942383,
          -28.68282127380371,
          13.971505165100098,
          15.016877174377441,
          -28.86964988708496,
          11.001666069030762,
          -27.410350799560547,
          15.17850399017334,
          -23.75568962097168,
          -37.75273132324219,
          27.409597396850586,
          50.48484802246094,
          6.0693511962890625,
          -8.421659469604492,
          8.745137214660645,
          -31.839366912841797,
          44.25669479370117,
          19.269874572753906,
          -29.89073944091797,
          -21.5112247467041,
          -44.93778991699219,
          -16.475502014160156,
          34.19940185546875,
          -21.912572860717773,
          -10.332808494567871,
          -4.18743371963501,
          17.88490104675293,
          -15.544145584106445,
          -46.674217224121094,
          29.591794967651367,
          -0.07555997371673584,
          23.840723037719727,
          4.197168350219727,
          4.279278755187988,
          -50.74494171142578,
          -23.139389038085938,
          -59.46805953979492,
          -58.211395263671875,
          -18.289525985717773,
          37.092552185058594,
          5.666640281677246,
          -38.2831916809082,
          12.88190746307373,
          30.079790115356445,
          16.030439376831055,
          6.689153671264648,
          50.04932403564453,
          -17.83099937438965,
          -0.6028294563293457,
          11.664372444152832,
          15.830279350280762,
          18.80764389038086,
          26.275949478149414,
          -19.886619567871094,
          6.586854934692383,
          -6.545009613037109,
          45.20264434814453,
          11.19260311126709,
          5.754700660705566,
          -13.718012809753418,
          21.82149887084961,
          9.027331352233887,
          32.05457305908203,
          -22.62522315979004,
          -9.550132751464844,
          -23.49178695678711,
          45.13196563720703,
          30.168424606323242,
          -16.681270599365234,
          -50.48876190185547,
          -50.29318618774414,
          46.98286819458008,
          -18.943519592285156,
          -27.96986961364746,
          -58.72614669799805,
          -4.964395046234131,
          -34.03182601928711,
          -19.137556076049805,
          -19.170019149780273,
          -5.613276958465576,
          0.015325501561164856,
          28.83005142211914,
          -36.01069641113281,
          15.827363967895508,
          -42.54017639160156,
          -40.756065368652344,
          25.48040771484375,
          26.179689407348633,
          24.347726821899414,
          -30.092954635620117,
          31.192230224609375,
          11.8504056930542,
          29.6544246673584,
          30.591461181640625,
          9.753997802734375,
          29.80165672302246,
          -15.76540470123291,
          -41.54549026489258,
          -6.403233528137207,
          20.705169677734375,
          37.56377029418945,
          20.58742904663086,
          36.30693054199219,
          3.5617611408233643,
          -59.146690368652344,
          -4.412083148956299,
          12.933524131774902,
          -28.27675437927246,
          32.15787887573242,
          -51.97536849975586,
          -6.527671813964844,
          -20.94586944580078,
          8.985331535339355,
          27.04068946838379,
          44.42060852050781,
          -7.068362236022949,
          -23.511098861694336,
          -1.6117972135543823,
          41.11477279663086,
          23.158946990966797,
          19.358154296875,
          15.27942180633545,
          45.045536041259766,
          0.6656606197357178,
          26.825441360473633,
          14.310042381286621,
          -46.51753234863281,
          -15.520017623901367,
          -21.85076904296875,
          6.234762191772461,
          -45.78810501098633,
          -4.472570419311523,
          -32.16398239135742,
          -4.7797112464904785,
          8.859758377075195,
          -57.63225173950195,
          14.120410919189453,
          -57.62179183959961,
          31.66130828857422,
          -24.5390625,
          10.64288330078125,
          -42.35578918457031,
          21.067216873168945,
          -10.44675350189209,
          -31.642398834228516,
          -43.8068733215332,
          2.339460611343384,
          -8.824834823608398,
          -50.97481155395508,
          -9.501708030700684,
          16.48473358154297,
          17.982933044433594,
          24.43381690979004,
          50.454044342041016,
          50.04841232299805,
          -24.707929611206055,
          22.01019859313965,
          8.763365745544434,
          50.47215270996094,
          -9.68429946899414,
          -2.945066452026367,
          -7.068748950958252,
          -9.541470527648926,
          -51.00471115112305,
          -1.1955317258834839,
          -28.019790649414062,
          -1.3849891424179077,
          34.33525848388672,
          -13.577122688293457,
          -46.462615966796875,
          19.708017349243164,
          14.126113891601562,
          -3.0098636150360107,
          3.044482469558716,
          -27.498104095458984,
          -21.556514739990234,
          41.4669189453125,
          28.011686325073242,
          -28.305118560791016,
          32.472320556640625,
          -33.855743408203125,
          -25.09305763244629,
          -59.01719665527344,
          35.67105484008789,
          21.98094367980957,
          19.917530059814453,
          9.48929500579834,
          -23.69528579711914,
          0.6072639226913452,
          9.304801940917969,
          -37.98342514038086,
          -13.798354148864746,
          22.005395889282227,
          15.594218254089355,
          -11.312746047973633,
          21.121517181396484,
          11.593123435974121,
          33.714229583740234,
          5.135671138763428,
          -20.48467445373535,
          -12.35451602935791,
          12.081159591674805,
          4.958072662353516,
          19.261083602905273,
          15.289775848388672,
          15.093806266784668,
          19.89316177368164,
          36.06234359741211,
          58.823890686035156,
          -15.319571495056152,
          24.315593719482422,
          -7.81760311126709,
          50.32707214355469,
          49.6705436706543,
          50.48454666137695,
          -6.04558801651001,
          20.58702278137207,
          -39.05035400390625,
          -16.28529930114746,
          -39.07918930053711,
          -27.849042892456055,
          -5.614364147186279,
          1.1723119020462036,
          -59.018531799316406,
          -43.270320892333984,
          21.59260368347168,
          45.3497428894043,
          1.6993768215179443,
          31.75408172607422,
          57.793296813964844,
          5.694548606872559,
          -24.095653533935547,
          8.477384567260742,
          14.034900665283203,
          -36.660980224609375,
          17.104530334472656,
          34.48805236816406,
          -7.404311180114746,
          4.182877063751221,
          -33.868003845214844,
          22.090801239013672,
          -60.033103942871094,
          11.401351928710938,
          -11.471834182739258,
          -2.5671722888946533,
          9.065646171569824,
          -1.4659278392791748,
          -21.500179290771484,
          -22.964649200439453,
          -12.639988899230957,
          -58.31879425048828,
          -57.67802810668945,
          53.14516830444336,
          13.788778305053711,
          -29.767724990844727,
          -46.33684158325195,
          -7.8520894050598145,
          46.166954040527344,
          8.272699356079102,
          -17.059343338012695,
          -44.37312698364258,
          8.19803524017334,
          14.778260231018066,
          37.59255599975586,
          4.281843662261963,
          -26.213462829589844,
          8.401862144470215,
          8.307591438293457,
          -49.42690658569336,
          26.836618423461914,
          -2.3077139854431152,
          -38.029361724853516,
          46.54702377319336,
          -3.776254415512085,
          4.642384052276611,
          0.4005261957645416,
          39.6861686706543,
          23.781078338623047,
          23.67997169494629,
          -30.228477478027344,
          -27.98976707458496,
          11.058341979980469,
          25.812658309936523,
          -20.865352630615234,
          31.080114364624023,
          -7.0596513748168945,
          21.84939193725586,
          -1.775697946548462,
          -41.00019836425781,
          -0.523797333240509,
          40.96858215332031,
          15.479690551757812,
          29.73145294189453,
          -34.023799896240234,
          -2.2092983722686768,
          18.185562133789062,
          -3.617978572845459,
          -10.891264915466309,
          35.895294189453125,
          6.53532075881958,
          35.280189514160156,
          2.0315191745758057,
          -4.715053081512451,
          29.50691032409668,
          4.755786895751953,
          -2.6163675785064697,
          17.77172088623047,
          46.699153900146484,
          10.821107864379883,
          -12.259099006652832,
          8.781611442565918,
          -6.864093780517578,
          -0.7220731377601624,
          -10.552467346191406,
          41.32819747924805,
          19.715492248535156,
          -32.1639289855957,
          23.45612907409668,
          -10.858360290527344,
          8.986685752868652,
          -58.35203552246094,
          9.594046592712402,
          -5.663348197937012,
          4.108270645141602,
          57.8936653137207,
          -44.31454086303711,
          -30.614574432373047,
          -1.5425846576690674,
          -58.13462829589844,
          -5.5274834632873535,
          18.060762405395508,
          -45.427947998046875,
          -10.145268440246582,
          7.93865442276001,
          -39.53501892089844,
          29.883296966552734,
          32.782020568847656,
          26.915512084960938,
          22.085948944091797,
          36.37415313720703,
          -6.773611068725586,
          -18.289525985717773,
          -19.82474136352539,
          -44.74208068847656,
          45.161468505859375,
          -17.645065307617188,
          -35.25554275512695,
          40.49790954589844,
          20.25030517578125,
          -46.180763244628906,
          -21.41838264465332,
          -35.24509811401367,
          -19.00663948059082,
          35.758514404296875,
          -11.936185836791992,
          33.00669479370117,
          14.210214614868164,
          34.64124298095703,
          35.47114181518555,
          -11.526272773742676,
          35.14060974121094,
          -13.06088638305664,
          58.33207702636719,
          58.01184844970703,
          -44.8559455871582,
          -5.073002338409424,
          -45.025569915771484,
          13.874519348144531,
          18.746252059936523,
          33.99745559692383,
          10.901507377624512,
          -18.693559646606445,
          1.6360609531402588,
          24.41673469543457,
          5.141332626342773,
          -21.632755279541016,
          -27.268535614013672,
          -0.16858971118927002,
          34.060203552246094,
          -3.795905351638794,
          15.449700355529785,
          -16.59231948852539,
          53.460594177246094,
          -7.005882263183594,
          -59.16651153564453,
          -14.694305419921875,
          58.32945251464844,
          -21.27838897705078,
          -1.1243951320648193,
          4.261743545532227,
          -2.3822295665740967,
          9.673028945922852,
          10.941574096679688,
          5.964715957641602,
          -27.87101173400879,
          13.238189697265625,
          3.703740119934082,
          -43.4306526184082,
          -3.7514443397521973,
          29.305065155029297,
          0.7124757766723633,
          -28.921968460083008,
          -23.761329650878906,
          2.930577039718628,
          -51.2751579284668,
          -45.63262939453125,
          -46.79769515991211,
          -30.66681480407715,
          14.744182586669922,
          12.139464378356934,
          14.82308578491211,
          23.277050018310547,
          -8.717226028442383,
          8.963981628417969,
          -40.945030212402344,
          -25.849294662475586,
          0.6398260593414307,
          23.496461868286133,
          -9.68299674987793,
          28.731372833251953,
          -8.406815528869629,
          8.733969688415527,
          -10.932928085327148,
          6.073477745056152,
          -43.62255859375,
          56.840057373046875,
          50.38047409057617,
          50.3402214050293,
          -55.171478271484375,
          -15.396657943725586,
          28.43124771118164,
          26.849748611450195,
          18.93446922302246,
          35.1240348815918,
          -10.719473838806152,
          36.106689453125,
          -35.10327911376953,
          -27.877887725830078,
          43.58918762207031,
          -18.18810272216797,
          28.731712341308594,
          -20.720378875732422,
          -44.44269943237305,
          -8.210204124450684,
          -24.230417251586914,
          -5.342117786407471,
          8.490381240844727,
          22.403749465942383,
          0.6072638034820557,
          -5.447401523590088,
          -62.108612060546875,
          14.128426551818848,
          -17.72917938232422,
          13.44037914276123,
          46.46651840209961,
          -5.2467169761657715,
          30.29327392578125,
          20.91604232788086,
          32.28330612182617,
          6.275315761566162,
          21.374755859375,
          7.72508430480957,
          2.583808660507202,
          34.1591911315918,
          25.093856811523438,
          7.104795455932617,
          7.470702648162842,
          21.06709861755371,
          -9.49976921081543,
          56.84018325805664,
          -32.49320983886719,
          -33.3323860168457,
          13.849088668823242,
          22.021512985229492,
          6.4465250968933105,
          -25.024606704711914,
          4.6639299392700195,
          2.791480302810669,
          -13.957782745361328,
          9.806483268737793,
          -14.870182037353516,
          -8.298465728759766,
          14.699413299560547,
          0.26689156889915466,
          6.331179141998291,
          39.1171989440918,
          19.710262298583984,
          30.18499755859375,
          7.894216537475586,
          -9.547307014465332,
          -10.723363876342773,
          37.972103118896484,
          20.47122573852539,
          25.329526901245117,
          13.807209014892578,
          -18.289525985717773,
          25.746362686157227,
          -29.839853286743164,
          -43.38817596435547,
          -21.629953384399414,
          29.914003372192383,
          -1.3418713808059692,
          -36.803775787353516,
          59.088130950927734,
          34.88488006591797,
          -19.451313018798828,
          31.225006103515625,
          -15.69553279876709,
          -1.5925856828689575,
          36.88134765625,
          -36.88870620727539,
          55.52207946777344,
          55.52248001098633,
          -23.731985092163086,
          -23.27303695678711,
          -20.023143768310547,
          -41.60342788696289,
          -43.241275787353516,
          19.88649559020996,
          -6.896463871002197,
          -32.89508819580078,
          46.01141357421875,
          -3.953425645828247,
          -17.608055114746094,
          -60.44220733642578,
          4.298930644989014,
          37.48369216918945,
          -42.89856719970703,
          11.208207130432129,
          -45.24657440185547,
          -51.27516555786133,
          -25.231225967407227,
          31.194643020629883,
          -4.298315048217773,
          30.41084861755371,
          24.5577392578125,
          -23.023740768432617,
          24.475664138793945,
          -10.636474609375,
          -30.903274536132812,
          -38.007781982421875,
          15.792863845825195,
          -22.829008102416992,
          -59.36357879638672,
          -24.407344818115234,
          -2.104053258895874,
          53.32680130004883,
          -31.610490798950195,
          -7.001128673553467,
          -2.504894495010376,
          -32.63573455810547,
          -36.88848114013672,
          27.989660263061523,
          -1.3836780786514282,
          20.333385467529297,
          15.913490295410156,
          -23.7589168548584,
          50.501312255859375,
          -45.524349212646484,
          -25.849292755126953,
          39.68388366699219,
          5.282641410827637,
          22.107458114624023,
          29.953460693359375,
          -37.866703033447266,
          0.6915039420127869,
          -10.534663200378418,
          31.316349029541016,
          29.439950942993164,
          -20.766986846923828,
          42.81993865966797,
          30.109527587890625,
          -46.490169525146484,
          2.435459852218628,
          16.178556442260742,
          34.515533447265625,
          35.70815658569336,
          36.40400314331055,
          -7.066326141357422,
          -36.52411651611328,
          -17.29888343811035,
          9.697620391845703,
          46.12434768676758,
          -41.60342788696289,
          -5.559709548950195,
          20.2969970703125,
          -30.62409019470215,
          -30.614805221557617,
          -58.26567459106445,
          -1.210518479347229,
          -30.932249069213867,
          -11.884931564331055,
          27.753873825073242,
          -17.949848175048828,
          -19.894365310668945,
          -37.045143127441406,
          36.764076232910156,
          -23.026870727539062,
          -59.36981201171875,
          12.322324752807617,
          -13.551094055175781,
          25.553030014038086,
          3.6861703395843506,
          35.398406982421875,
          6.578525543212891,
          -34.578704833984375,
          -7.125196933746338,
          20.10711669921875,
          20.063310623168945,
          -19.73150062561035,
          -0.4860170781612396,
          59.163272857666016,
          -5.589839458465576,
          8.665960311889648,
          -36.46817398071289,
          27.049848556518555,
          -9.490534782409668,
          -11.152680397033691,
          -9.709721565246582,
          41.529075622558594,
          32.398719787597656,
          5.018807888031006,
          -17.550052642822266,
          -34.35647964477539,
          -34.3360595703125,
          -31.851823806762695,
          36.89113998413086,
          -45.771728515625,
          -44.65996170043945,
          31.54110336303711,
          -43.50245666503906,
          42.03659439086914,
          -44.97206115722656,
          -20.158859252929688,
          -4.64409875869751,
          -4.56158447265625,
          38.08554458618164,
          -2.4420723915100098,
          -17.476165771484375,
          -5.628173351287842,
          -9.327844619750977,
          57.89703369140625,
          -3.496840238571167,
          -15.904736518859863,
          0.867891252040863,
          41.11416244506836,
          -25.69518280029297,
          7.847687244415283,
          34.31779098510742,
          55.480316162109375,
          30.16840171813965,
          22.01764488220215,
          7.549261569976807,
          -3.655163049697876,
          19.497257232666016,
          -3.1181745529174805,
          -18.289525985717773,
          16.12639045715332,
          -15.778388023376465,
          21.3483829498291,
          -7.332180500030518,
          29.439878463745117,
          -4.221963882446289,
          -11.2096529006958,
          -8.485398292541504,
          -46.4837646484375,
          -23.0530948638916,
          -20.361154556274414,
          14.599305152893066,
          11.448596954345703,
          -21.196414947509766,
          22.02155876159668,
          55.39323806762695,
          28.44532585144043,
          -34.41878128051758,
          25.031103134155273,
          -22.9807186126709,
          59.53173828125,
          35.57448959350586,
          -12.298107147216797,
          55.358585357666016,
          -12.381601333618164,
          20.498149871826172,
          -29.07192611694336,
          6.905882835388184,
          -1.3160090446472168,
          26.399250030517578,
          4.72812032699585,
          11.981843948364258,
          -20.361167907714844,
          -9.91664981842041,
          -19.35767364501953,
          55.38609313964844,
          40.908939361572266,
          14.741788864135742,
          4.149594783782959,
          -29.501333236694336,
          13.342962265014648,
          23.332977294921875,
          -40.8858757019043,
          -36.67997741699219,
          -23.01059913635254,
          19.076011657714844,
          33.62956237792969,
          -32.9727668762207,
          27.208528518676758,
          -46.90285873413086,
          16.63202476501465,
          5.111379146575928,
          -39.46468734741211,
          -30.436464309692383,
          13.779154777526855,
          35.66835403442383,
          9.496416091918945,
          7.957417011260986,
          -18.118852615356445,
          -39.47147750854492,
          -4.469086647033691,
          13.473673820495605,
          29.868087768554688,
          -23.733983993530273,
          -27.97603416442871,
          -19.582277297973633,
          4.7829694747924805,
          3.8901207447052,
          -41.58136749267578,
          -9.54832935333252,
          14.313666343688965,
          -6.659544944763184,
          -35.176971435546875,
          -9.385382652282715,
          -33.99689865112305,
          -40.480804443359375,
          18.96775245666504,
          -46.14352035522461,
          19.384262084960938,
          27.994548797607422,
          -9.54832935333252,
          8.146004676818848,
          12.62987232208252,
          30.406084060668945,
          -41.043975830078125,
          -30.453994750976562,
          20.493942260742188,
          9.047804832458496,
          22.005319595336914,
          -9.5835599899292,
          -8.027327537536621,
          -1.9283535480499268,
          3.9075167179107666,
          -45.90553283691406,
          9.732876777648926,
          4.499503135681152,
          18.11985206604004,
          16.218217849731445,
          -31.741050720214844,
          -13.174781799316406,
          12.311713218688965,
          20.796995162963867,
          28.034971237182617,
          -34.17226791381836,
          -34.19757843017578,
          29.715898513793945,
          -46.75519561767578,
          -13.583178520202637,
          -3.6306989192962646,
          -23.251724243164062,
          -5.514261722564697,
          23.972328186035156,
          14.902998924255371,
          -10.348156929016113,
          44.07420349121094,
          -5.120331287384033,
          -3.3571321964263916,
          -44.01530456542969,
          -6.848369121551514,
          5.74395751953125,
          19.624940872192383,
          -20.9458065032959,
          -12.352266311645508,
          -13.772603988647461,
          -55.42479705810547,
          5.441043853759766,
          1.5122120380401611,
          47.70283889770508,
          2.377204179763794,
          49.88144302368164,
          31.528629302978516,
          4.503791809082031,
          45.55797576904297,
          -8.174427032470703,
          4.041953086853027,
          -39.71940612792969,
          -11.076374053955078,
          -28.52040672302246,
          -22.435169219970703,
          4.529230117797852,
          -1.6397637128829956,
          -58.26366424560547,
          46.124473571777344,
          -12.054093360900879,
          -3.4312093257904053,
          -39.13564682006836,
          -12.51473617553711,
          -9.735969543457031,
          1.6099563837051392,
          -35.190521240234375,
          -41.670284271240234,
          -0.4542998969554901,
          2.9613754749298096,
          -46.40631866455078,
          -11.45184326171875,
          -12.260415077209473,
          29.81922721862793,
          -7.225089073181152,
          15.589125633239746,
          12.107104301452637,
          -35.998374938964844,
          -28.489248275756836,
          -47.347129821777344,
          6.06240177154541,
          -17.244400024414062,
          -23.596235275268555,
          3.795445680618286,
          37.9892692565918,
          -25.835689544677734,
          -9.571906089782715,
          31.257341384887695,
          -12.639988899230957,
          -20.326684951782227,
          -1.4655555486679077,
          -0.1258898377418518,
          10.243043899536133,
          47.21034622192383,
          -41.85281753540039,
          -28.538455963134766,
          -23.02361297607422,
          -5.34982442855835,
          -9.54832935333252,
          -14.895633697509766,
          3.5955822467803955,
          -16.509376525878906,
          10.510750770568848,
          -17.03805160522461,
          -10.111785888671875,
          8.233410835266113,
          6.5801496505737305,
          -14.858080863952637,
          7.857992172241211,
          -32.42376708984375,
          6.286876201629639,
          -17.026004791259766,
          4.5913872718811035,
          29.256641387939453,
          1.2784533500671387,
          -20.32957649230957,
          -36.114803314208984,
          -29.140804290771484,
          -11.375792503356934,
          -29.090526580810547,
          19.785985946655273,
          -5.381254196166992,
          -37.86453628540039,
          -23.9503116607666,
          -14.509230613708496,
          4.0243425369262695,
          -14.534445762634277,
          3.3279635906219482,
          -22.708824157714844,
          15.51485824584961,
          15.678524017333984,
          -21.593664169311523,
          21.385108947753906,
          0.2668916881084442,
          10.819806098937988,
          -24.802997589111328,
          -20.061269760131836,
          19.12708282470703,
          19.753101348876953,
          35.51152801513672,
          58.335445404052734,
          15.251811981201172,
          4.036577224731445,
          53.13865661621094,
          -17.915029525756836,
          20.291324615478516,
          4.928992748260498,
          2.5851175785064697,
          7.697249889373779,
          -20.851064682006836,
          43.78207015991211,
          4.948148250579834,
          27.991804122924805,
          -11.45699691772461,
          47.76946258544922,
          -22.857589721679688,
          17.342615127563477,
          4.2823052406311035,
          4.915860176086426,
          2.954782485961914,
          28.161230087280273,
          -0.0003363247960805893,
          0.14590708911418915,
          -25.23123550415039,
          31.106332778930664,
          -13.975412368774414,
          -22.012775421142578,
          -14.602121353149414,
          20.434776306152344,
          8.541794776916504,
          4.473811149597168,
          -36.8092041015625,
          -28.538131713867188,
          -42.09707260131836,
          -41.09855651855469,
          -38.00981521606445,
          19.842594146728516,
          40.69749450683594,
          30.435264587402344,
          29.007043838500977,
          38.09611511230469,
          -51.400943756103516,
          -29.21137809753418,
          26.910491943359375,
          26.801895141601562,
          -20.24570083618164,
          -5.719152927398682,
          10.868410110473633,
          43.78207015991211,
          29.320528030395508,
          6.729745388031006,
          -10.195061683654785,
          36.707740783691406,
          49.525001525878906,
          31.391727447509766,
          12.948822021484375,
          -28.21269416809082,
          -40.476287841796875,
          -35.32378005981445,
          -15.128759384155273,
          8.300126075744629,
          28.493247985839844,
          -39.059608459472656,
          -2.962217092514038,
          -15.245645523071289,
          -6.878939151763916,
          13.677533149719238,
          6.663441181182861,
          37.70763397216797,
          -3.5986480712890625,
          27.15424919128418,
          27.324968338012695,
          7.170762062072754,
          -44.85637664794922,
          -44.262516021728516,
          27.482906341552734,
          0.8708328008651733,
          -11.362276077270508,
          14.4579439163208,
          -42.00499725341797,
          15.346325874328613,
          0.6859890222549438,
          -3.0981180667877197,
          41.58649444580078,
          45.388580322265625,
          3.257167100906372,
          -25.763256072998047,
          30.105682373046875,
          -45.95533752441406,
          -10.912683486938477,
          8.519708633422852,
          34.58772659301758,
          -42.69219970703125,
          49.77938461303711,
          -8.19214916229248,
          15.285077095031738,
          -30.60420036315918,
          1.8311680555343628,
          -9.154336929321289,
          20.299903869628906,
          -4.48784875869751,
          -16.59807777404785,
          21.075462341308594,
          19.915130615234375,
          -18.778846740722656,
          -33.016536712646484,
          -2.37679386138916,
          -3.198496103286743,
          0.2592642903327942,
          31.48804473876953,
          9.550928115844727,
          30.82891082763672,
          -19.893526077270508,
          -15.72861099243164,
          25.09385871887207,
          19.758024215698242,
          3.2337846755981445,
          -19.922739028930664,
          51.991981506347656,
          6.823663234710693,
          51.64955139160156,
          -23.066442489624023,
          4.617618083953857,
          -24.110279083251953,
          -26.564233779907227,
          3.601630449295044,
          3.6026909351348877,
          -3.473041534423828,
          -31.93492317199707,
          6.080532073974609,
          9.496371269226074,
          14.529367446899414,
          40.164283752441406,
          43.58921432495117,
          -43.733577728271484,
          -45.019474029541016,
          -5.935369968414307,
          23.827716827392578,
          30.290475845336914,
          -45.277931213378906,
          -0.8577090501785278,
          17.964208602905273,
          -31.916126251220703,
          17.11385154724121,
          -48.172245025634766,
          50.14790725708008,
          28.633285522460938,
          56.32217788696289,
          35.10809326171875,
          -42.91471481323242,
          20.30380630493164,
          -31.435258865356445,
          -46.33498001098633,
          -35.47373580932617,
          -11.42203426361084,
          -57.03206253051758,
          -57.592201232910156,
          2.377204179763794,
          13.977632522583008,
          -6.527570724487305,
          -10.630105972290039,
          9.616087913513184,
          -13.424284934997559,
          3.703275442123413,
          21.37578773498535,
          11.985832214355469,
          -36.1051139831543,
          -35.2025032043457,
          -21.515663146972656,
          55.69230651855469,
          11.50477409362793,
          17.17824935913086,
          17.3809757232666,
          9.370719909667969,
          51.3061408996582,
          -40.84013748168945,
          6.136538505554199,
          52.14457321166992,
          51.715492248535156,
          -15.217615127563477,
          -17.9322566986084,
          9.47332763671875,
          59.1812629699707,
          57.163387298583984,
          6.102357864379883,
          2.4661312103271484,
          -10.313178062438965,
          41.763519287109375,
          0.9499328136444092,
          1.217841625213623,
          42.1522102355957,
          -31.248550415039062,
          7.918435096740723,
          5.0865864753723145,
          -50.72492599487305,
          7.881758689880371,
          4.184391975402832,
          9.607769966125488,
          56.177154541015625,
          -35.73698425292969,
          -44.291744232177734,
          -34.90379333496094,
          15.837841033935547,
          14.096630096435547,
          -14.903709411621094,
          -26.966670989990234,
          47.487483978271484,
          -12.266129493713379,
          15.000815391540527,
          -23.998762130737305,
          -2.6101300716400146,
          -29.061025619506836,
          49.65067672729492,
          -0.3202953338623047,
          13.998018264770508,
          30.1352596282959,
          -5.292234897613525,
          -11.808472633361816,
          -35.51019287109375,
          0.46801650524139404,
          -26.42348861694336,
          -46.451080322265625,
          -45.95454025268555,
          -21.401836395263672,
          48.43646240234375,
          48.90467834472656,
          34.141319274902344,
          -3.6305038928985596,
          7.559168815612793,
          -8.875635147094727,
          -41.15278244018555,
          20.373146057128906,
          32.8823127746582,
          27.53636360168457,
          32.17607879638672,
          -6.224837779998779,
          22.889089584350586,
          9.58061695098877,
          -21.47256851196289,
          9.227155685424805,
          -7.736983299255371,
          8.859786033630371,
          11.287576675415039,
          -13.67064094543457,
          21.481807708740234,
          43.32927703857422,
          -19.56015968322754,
          -7.281389236450195,
          -2.580812931060791,
          -28.516576766967773,
          4.503891468048096,
          -5.671952247619629,
          41.67266845703125,
          -23.755687713623047,
          26.05447769165039,
          -0.9914411902427673,
          -12.171483993530273,
          2.6309468746185303,
          -17.358577728271484,
          31.671302795410156,
          -5.52350378036499,
          37.649410247802734,
          -32.44978332519531,
          17.32632064819336,
          -11.863224983215332,
          -44.286537170410156,
          -29.849273681640625,
          -11.290281295776367,
          -15.31993293762207,
          -34.70985412597656,
          7.9263224601745605,
          41.731231689453125,
          -34.705902099609375,
          28.68329429626465,
          -30.301597595214844,
          59.9832763671875,
          -0.0009743137052282691,
          57.90697479248047,
          44.601680755615234,
          29.64398765563965,
          24.578163146972656,
          -10.087050437927246,
          -18.07843589782715,
          1.9863560199737549,
          15.529031753540039,
          36.406028747558594,
          -9.9639310836792,
          0.9495710134506226,
          9.878897666931152,
          9.881183624267578,
          7.517287254333496,
          7.3503265380859375,
          51.66976547241211,
          1.9412904977798462,
          -43.33169937133789,
          2.886641263961792,
          -17.241485595703125,
          -12.853835105895996,
          2.355097532272339,
          -44.633323669433594,
          -8.659828186035156,
          16.12665557861328,
          -14.386740684509277,
          30.13521957397461,
          14.31601619720459,
          -35.23939514160156,
          -18.574281692504883,
          3.79229474067688,
          4.42671012878418,
          46.875205993652344,
          6.22854471206665,
          15.45479965209961,
          20.424156188964844,
          -60.36223602294922,
          30.185287475585938
         ],
         "yaxis": "y"
        }
       ],
       "layout": {
        "coloraxis": {
         "colorbar": {
          "title": {
           "text": "tfidfKeyNum"
          }
         },
         "colorscale": [
          [
           0,
           "#0d0887"
          ],
          [
           0.1111111111111111,
           "#46039f"
          ],
          [
           0.2222222222222222,
           "#7201a8"
          ],
          [
           0.3333333333333333,
           "#9c179e"
          ],
          [
           0.4444444444444444,
           "#bd3786"
          ],
          [
           0.5555555555555556,
           "#d8576b"
          ],
          [
           0.6666666666666666,
           "#ed7953"
          ],
          [
           0.7777777777777778,
           "#fb9f3a"
          ],
          [
           0.8888888888888888,
           "#fdca26"
          ],
          [
           1,
           "#f0f921"
          ]
         ]
        },
        "legend": {
         "tracegroupgap": 0
        },
        "margin": {
         "t": 60
        },
        "template": {
         "data": {
          "bar": [
           {
            "error_x": {
             "color": "#2a3f5f"
            },
            "error_y": {
             "color": "#2a3f5f"
            },
            "marker": {
             "line": {
              "color": "#E5ECF6",
              "width": 0.5
             }
            },
            "type": "bar"
           }
          ],
          "barpolar": [
           {
            "marker": {
             "line": {
              "color": "#E5ECF6",
              "width": 0.5
             }
            },
            "type": "barpolar"
           }
          ],
          "carpet": [
           {
            "aaxis": {
             "endlinecolor": "#2a3f5f",
             "gridcolor": "white",
             "linecolor": "white",
             "minorgridcolor": "white",
             "startlinecolor": "#2a3f5f"
            },
            "baxis": {
             "endlinecolor": "#2a3f5f",
             "gridcolor": "white",
             "linecolor": "white",
             "minorgridcolor": "white",
             "startlinecolor": "#2a3f5f"
            },
            "type": "carpet"
           }
          ],
          "choropleth": [
           {
            "colorbar": {
             "outlinewidth": 0,
             "ticks": ""
            },
            "type": "choropleth"
           }
          ],
          "contour": [
           {
            "colorbar": {
             "outlinewidth": 0,
             "ticks": ""
            },
            "colorscale": [
             [
              0,
              "#0d0887"
             ],
             [
              0.1111111111111111,
              "#46039f"
             ],
             [
              0.2222222222222222,
              "#7201a8"
             ],
             [
              0.3333333333333333,
              "#9c179e"
             ],
             [
              0.4444444444444444,
              "#bd3786"
             ],
             [
              0.5555555555555556,
              "#d8576b"
             ],
             [
              0.6666666666666666,
              "#ed7953"
             ],
             [
              0.7777777777777778,
              "#fb9f3a"
             ],
             [
              0.8888888888888888,
              "#fdca26"
             ],
             [
              1,
              "#f0f921"
             ]
            ],
            "type": "contour"
           }
          ],
          "contourcarpet": [
           {
            "colorbar": {
             "outlinewidth": 0,
             "ticks": ""
            },
            "type": "contourcarpet"
           }
          ],
          "heatmap": [
           {
            "colorbar": {
             "outlinewidth": 0,
             "ticks": ""
            },
            "colorscale": [
             [
              0,
              "#0d0887"
             ],
             [
              0.1111111111111111,
              "#46039f"
             ],
             [
              0.2222222222222222,
              "#7201a8"
             ],
             [
              0.3333333333333333,
              "#9c179e"
             ],
             [
              0.4444444444444444,
              "#bd3786"
             ],
             [
              0.5555555555555556,
              "#d8576b"
             ],
             [
              0.6666666666666666,
              "#ed7953"
             ],
             [
              0.7777777777777778,
              "#fb9f3a"
             ],
             [
              0.8888888888888888,
              "#fdca26"
             ],
             [
              1,
              "#f0f921"
             ]
            ],
            "type": "heatmap"
           }
          ],
          "heatmapgl": [
           {
            "colorbar": {
             "outlinewidth": 0,
             "ticks": ""
            },
            "colorscale": [
             [
              0,
              "#0d0887"
             ],
             [
              0.1111111111111111,
              "#46039f"
             ],
             [
              0.2222222222222222,
              "#7201a8"
             ],
             [
              0.3333333333333333,
              "#9c179e"
             ],
             [
              0.4444444444444444,
              "#bd3786"
             ],
             [
              0.5555555555555556,
              "#d8576b"
             ],
             [
              0.6666666666666666,
              "#ed7953"
             ],
             [
              0.7777777777777778,
              "#fb9f3a"
             ],
             [
              0.8888888888888888,
              "#fdca26"
             ],
             [
              1,
              "#f0f921"
             ]
            ],
            "type": "heatmapgl"
           }
          ],
          "histogram": [
           {
            "marker": {
             "colorbar": {
              "outlinewidth": 0,
              "ticks": ""
             }
            },
            "type": "histogram"
           }
          ],
          "histogram2d": [
           {
            "colorbar": {
             "outlinewidth": 0,
             "ticks": ""
            },
            "colorscale": [
             [
              0,
              "#0d0887"
             ],
             [
              0.1111111111111111,
              "#46039f"
             ],
             [
              0.2222222222222222,
              "#7201a8"
             ],
             [
              0.3333333333333333,
              "#9c179e"
             ],
             [
              0.4444444444444444,
              "#bd3786"
             ],
             [
              0.5555555555555556,
              "#d8576b"
             ],
             [
              0.6666666666666666,
              "#ed7953"
             ],
             [
              0.7777777777777778,
              "#fb9f3a"
             ],
             [
              0.8888888888888888,
              "#fdca26"
             ],
             [
              1,
              "#f0f921"
             ]
            ],
            "type": "histogram2d"
           }
          ],
          "histogram2dcontour": [
           {
            "colorbar": {
             "outlinewidth": 0,
             "ticks": ""
            },
            "colorscale": [
             [
              0,
              "#0d0887"
             ],
             [
              0.1111111111111111,
              "#46039f"
             ],
             [
              0.2222222222222222,
              "#7201a8"
             ],
             [
              0.3333333333333333,
              "#9c179e"
             ],
             [
              0.4444444444444444,
              "#bd3786"
             ],
             [
              0.5555555555555556,
              "#d8576b"
             ],
             [
              0.6666666666666666,
              "#ed7953"
             ],
             [
              0.7777777777777778,
              "#fb9f3a"
             ],
             [
              0.8888888888888888,
              "#fdca26"
             ],
             [
              1,
              "#f0f921"
             ]
            ],
            "type": "histogram2dcontour"
           }
          ],
          "mesh3d": [
           {
            "colorbar": {
             "outlinewidth": 0,
             "ticks": ""
            },
            "type": "mesh3d"
           }
          ],
          "parcoords": [
           {
            "line": {
             "colorbar": {
              "outlinewidth": 0,
              "ticks": ""
             }
            },
            "type": "parcoords"
           }
          ],
          "pie": [
           {
            "automargin": true,
            "type": "pie"
           }
          ],
          "scatter": [
           {
            "marker": {
             "colorbar": {
              "outlinewidth": 0,
              "ticks": ""
             }
            },
            "type": "scatter"
           }
          ],
          "scatter3d": [
           {
            "line": {
             "colorbar": {
              "outlinewidth": 0,
              "ticks": ""
             }
            },
            "marker": {
             "colorbar": {
              "outlinewidth": 0,
              "ticks": ""
             }
            },
            "type": "scatter3d"
           }
          ],
          "scattercarpet": [
           {
            "marker": {
             "colorbar": {
              "outlinewidth": 0,
              "ticks": ""
             }
            },
            "type": "scattercarpet"
           }
          ],
          "scattergeo": [
           {
            "marker": {
             "colorbar": {
              "outlinewidth": 0,
              "ticks": ""
             }
            },
            "type": "scattergeo"
           }
          ],
          "scattergl": [
           {
            "marker": {
             "colorbar": {
              "outlinewidth": 0,
              "ticks": ""
             }
            },
            "type": "scattergl"
           }
          ],
          "scattermapbox": [
           {
            "marker": {
             "colorbar": {
              "outlinewidth": 0,
              "ticks": ""
             }
            },
            "type": "scattermapbox"
           }
          ],
          "scatterpolar": [
           {
            "marker": {
             "colorbar": {
              "outlinewidth": 0,
              "ticks": ""
             }
            },
            "type": "scatterpolar"
           }
          ],
          "scatterpolargl": [
           {
            "marker": {
             "colorbar": {
              "outlinewidth": 0,
              "ticks": ""
             }
            },
            "type": "scatterpolargl"
           }
          ],
          "scatterternary": [
           {
            "marker": {
             "colorbar": {
              "outlinewidth": 0,
              "ticks": ""
             }
            },
            "type": "scatterternary"
           }
          ],
          "surface": [
           {
            "colorbar": {
             "outlinewidth": 0,
             "ticks": ""
            },
            "colorscale": [
             [
              0,
              "#0d0887"
             ],
             [
              0.1111111111111111,
              "#46039f"
             ],
             [
              0.2222222222222222,
              "#7201a8"
             ],
             [
              0.3333333333333333,
              "#9c179e"
             ],
             [
              0.4444444444444444,
              "#bd3786"
             ],
             [
              0.5555555555555556,
              "#d8576b"
             ],
             [
              0.6666666666666666,
              "#ed7953"
             ],
             [
              0.7777777777777778,
              "#fb9f3a"
             ],
             [
              0.8888888888888888,
              "#fdca26"
             ],
             [
              1,
              "#f0f921"
             ]
            ],
            "type": "surface"
           }
          ],
          "table": [
           {
            "cells": {
             "fill": {
              "color": "#EBF0F8"
             },
             "line": {
              "color": "white"
             }
            },
            "header": {
             "fill": {
              "color": "#C8D4E3"
             },
             "line": {
              "color": "white"
             }
            },
            "type": "table"
           }
          ]
         },
         "layout": {
          "annotationdefaults": {
           "arrowcolor": "#2a3f5f",
           "arrowhead": 0,
           "arrowwidth": 1
          },
          "coloraxis": {
           "colorbar": {
            "outlinewidth": 0,
            "ticks": ""
           }
          },
          "colorscale": {
           "diverging": [
            [
             0,
             "#8e0152"
            ],
            [
             0.1,
             "#c51b7d"
            ],
            [
             0.2,
             "#de77ae"
            ],
            [
             0.3,
             "#f1b6da"
            ],
            [
             0.4,
             "#fde0ef"
            ],
            [
             0.5,
             "#f7f7f7"
            ],
            [
             0.6,
             "#e6f5d0"
            ],
            [
             0.7,
             "#b8e186"
            ],
            [
             0.8,
             "#7fbc41"
            ],
            [
             0.9,
             "#4d9221"
            ],
            [
             1,
             "#276419"
            ]
           ],
           "sequential": [
            [
             0,
             "#0d0887"
            ],
            [
             0.1111111111111111,
             "#46039f"
            ],
            [
             0.2222222222222222,
             "#7201a8"
            ],
            [
             0.3333333333333333,
             "#9c179e"
            ],
            [
             0.4444444444444444,
             "#bd3786"
            ],
            [
             0.5555555555555556,
             "#d8576b"
            ],
            [
             0.6666666666666666,
             "#ed7953"
            ],
            [
             0.7777777777777778,
             "#fb9f3a"
            ],
            [
             0.8888888888888888,
             "#fdca26"
            ],
            [
             1,
             "#f0f921"
            ]
           ],
           "sequentialminus": [
            [
             0,
             "#0d0887"
            ],
            [
             0.1111111111111111,
             "#46039f"
            ],
            [
             0.2222222222222222,
             "#7201a8"
            ],
            [
             0.3333333333333333,
             "#9c179e"
            ],
            [
             0.4444444444444444,
             "#bd3786"
            ],
            [
             0.5555555555555556,
             "#d8576b"
            ],
            [
             0.6666666666666666,
             "#ed7953"
            ],
            [
             0.7777777777777778,
             "#fb9f3a"
            ],
            [
             0.8888888888888888,
             "#fdca26"
            ],
            [
             1,
             "#f0f921"
            ]
           ]
          },
          "colorway": [
           "#636efa",
           "#EF553B",
           "#00cc96",
           "#ab63fa",
           "#FFA15A",
           "#19d3f3",
           "#FF6692",
           "#B6E880",
           "#FF97FF",
           "#FECB52"
          ],
          "font": {
           "color": "#2a3f5f"
          },
          "geo": {
           "bgcolor": "white",
           "lakecolor": "white",
           "landcolor": "#E5ECF6",
           "showlakes": true,
           "showland": true,
           "subunitcolor": "white"
          },
          "hoverlabel": {
           "align": "left"
          },
          "hovermode": "closest",
          "mapbox": {
           "style": "light"
          },
          "paper_bgcolor": "white",
          "plot_bgcolor": "#E5ECF6",
          "polar": {
           "angularaxis": {
            "gridcolor": "white",
            "linecolor": "white",
            "ticks": ""
           },
           "bgcolor": "#E5ECF6",
           "radialaxis": {
            "gridcolor": "white",
            "linecolor": "white",
            "ticks": ""
           }
          },
          "scene": {
           "xaxis": {
            "backgroundcolor": "#E5ECF6",
            "gridcolor": "white",
            "gridwidth": 2,
            "linecolor": "white",
            "showbackground": true,
            "ticks": "",
            "zerolinecolor": "white"
           },
           "yaxis": {
            "backgroundcolor": "#E5ECF6",
            "gridcolor": "white",
            "gridwidth": 2,
            "linecolor": "white",
            "showbackground": true,
            "ticks": "",
            "zerolinecolor": "white"
           },
           "zaxis": {
            "backgroundcolor": "#E5ECF6",
            "gridcolor": "white",
            "gridwidth": 2,
            "linecolor": "white",
            "showbackground": true,
            "ticks": "",
            "zerolinecolor": "white"
           }
          },
          "shapedefaults": {
           "line": {
            "color": "#2a3f5f"
           }
          },
          "ternary": {
           "aaxis": {
            "gridcolor": "white",
            "linecolor": "white",
            "ticks": ""
           },
           "baxis": {
            "gridcolor": "white",
            "linecolor": "white",
            "ticks": ""
           },
           "bgcolor": "#E5ECF6",
           "caxis": {
            "gridcolor": "white",
            "linecolor": "white",
            "ticks": ""
           }
          },
          "title": {
           "x": 0.05
          },
          "xaxis": {
           "automargin": true,
           "gridcolor": "white",
           "linecolor": "white",
           "ticks": "",
           "title": {
            "standoff": 15
           },
           "zerolinecolor": "white",
           "zerolinewidth": 2
          },
          "yaxis": {
           "automargin": true,
           "gridcolor": "white",
           "linecolor": "white",
           "ticks": "",
           "title": {
            "standoff": 15
           },
           "zerolinecolor": "white",
           "zerolinewidth": 2
          }
         }
        },
        "title": {
         "text": "TF-IDF Career Map: 1632 Jobs | 538 Groups"
        },
        "xaxis": {
         "anchor": "y",
         "domain": [
          0,
          1
         ],
         "title": {
          "text": "x"
         }
        },
        "yaxis": {
         "anchor": "x",
         "domain": [
          0,
          1
         ],
         "title": {
          "text": "y"
         }
        }
       }
      }
     },
     "metadata": {}
    }
   ],
   "source": [
    "import plotly.express as px\n",
    "\n",
    "d1 = df['posTitle'].nunique()\n",
    "d2 = df['tfidfKey'].nunique()\n",
    "\n",
    "# Display data\n",
    "fig = px.scatter(df,\n",
    "    x='x', y='y',\n",
    "    hover_name='posTitle',\n",
    "    color='tfidfKeyNum',\n",
    "    hover_data=['tfidfKey']\n",
    ")\n",
    "fig.update_layout(title=f'TF-IDF Career Map: {d1} Jobs | {d2} Groups')\n",
    "\n",
    "fig.show()"
   ]
  },
  {
   "cell_type": "code",
   "execution_count": null,
   "metadata": {},
   "outputs": [],
   "source": []
  }
 ]
}